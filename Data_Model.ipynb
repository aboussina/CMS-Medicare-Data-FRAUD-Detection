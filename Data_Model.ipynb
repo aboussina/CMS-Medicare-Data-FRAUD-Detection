{
 "cells": [
  {
   "cell_type": "code",
   "execution_count": 1,
   "metadata": {},
   "outputs": [],
   "source": [
    "from pyspark import SparkContext\n",
    "from pyspark.sql import SQLContext\n",
    "from pyspark.sql.types import *\n",
    "from pyspark.sql.functions import *\n",
    "from pyspark.sql import functions as func\n",
    "\n"
   ]
  },
  {
   "cell_type": "code",
   "execution_count": 2,
   "metadata": {},
   "outputs": [],
   "source": [
    "sc = SparkContext(\"local\", \"HealthCareCapstone\")\n",
    "sqlContext = SQLContext(sc)\n",
    "\n",
    "                       "
   ]
  },
  {
   "cell_type": "code",
   "execution_count": 3,
   "metadata": {},
   "outputs": [],
   "source": [
    "\n",
    "# PART D: https://data.cms.gov/Medicare-Part-D/Medicare-Provider-Utilization-and-Payment-Data-201/mhdd-npjx\n",
    "# CMS Payments: https://download.cms.gov/openpayments/PGYR19_P012221.ZIP\n",
    "# Exclusions: https://oig.hhs.gov/exclusions/downloadables/UPDATED.csv\n",
    "# Opioid Prescribers: https://data.cms.gov/Medicare-Part-D/Medicare-Part-D-Opioid-Prescriber-Summary-File-201/j2ra-95gh\n",
    "# Opioid List: https://www.cms.gov/Research-Statistics-Data-and-Systems/Statistics-Trends-and-Reports/Medicare-Provider-Charge-Data/Downloads/OpioidDrugList.zip\n",
    "\n",
    "#partD_drug_rawdata = sqlContext.read.csv#(\"D:\\\\NematiLab\\\\CMS-Medicare-Data-FRAUD-Detection\\\\Medicare_Provider_Utilization_and_Payment_Data__2018_Part_D_Prescriber.csv\", \\\n",
    "#                                       header = True, inferSchema = True)\n",
    "\n",
    "#payment_rawdata = sqlContext.read.csv(\"D:\\\\NematiLab\\\\CMS-Medicare-Data-FRAUD-Detection\\\\PGYR19_P012221\\\\OP_DTL_GNRL_PGYR2019_P01222021.csv\", \\\n",
    "#                                       header = True, inferSchema = True)\n",
    "\n",
    "\n",
    "#IELE_rawdata = sqlContext.read.csv(\"D:\\\\NematiLab\\\\CMS-Medicare-Data-FRAUD-Detection\\\\UPDATED.csv\", \\\n",
    "#                                       header = True, inferSchema = True)\n",
    "\n",
    "#Opioids_drugs = sqlContext.read.csv(\"D:\\\\NematiLab\\\\CMS-Medicare-Data-FRAUD-Detection\\\\Opioid_Drug_Lists_CY2018_0\\\\Opioid_Drug_Lists_CY2018.xlsx\", \\\n",
    "#                                       header = True, inferSchema = True)\n",
    "\n",
    "Opioids_Prescriber = sqlContext.read.csv(\"D:\\\\NematiLab\\\\CMS-Medicare-Data-FRAUD-Detection\\\\Medicare_Part_D_Opioid_Prescriber_Summary_File_2018.csv\", \\\n",
    "                                       header = True, inferSchema = True)"
   ]
  },
  {
   "cell_type": "code",
   "execution_count": 33,
   "metadata": {},
   "outputs": [],
   "source": [
    "# load the dataset\n",
    "#  1. Part D drug 2016 dataset \n",
    "#     https://data.cms.gov/Medicare-Part-D/Medicare-Provider-Utilization-and-Payment-Data-201/yvpj-pmj2\n",
    "#  2. CMS Payment Data Set  \n",
    "#     https://www.cms.gov/OpenPayments/Explore-the-Data/Dataset-Downloads.html#\n",
    "#  3. EXCLUEDED Datavset\n",
    "#     https://oig.hhs.gov/exclusions/exclusions_list.asp \n",
    "#  4. Opioids drugs and opioids prescriber information\n",
    "\n",
    "# partD_drug_rawdata = sc.textFile(\"/Users/my_macbook/Projects/Project_Capstone/DataSet/PartD_Drug_16/PartD_Drug_16.txt\")\n",
    "# #partD_pres_rawdata = sc.textFile(\"/Users/my_macbook/Projects/Project_Capstone/DataSet/PartD_Prescriber_16/PartD_Prescriber_16.txt\")\n",
    "# payment_rawdata = sqlContext.read.csv(\"/Capstone/DataSet/2017Payment/OP_DTL_GNRL_PGYR2017_P06292018.csv\", \\\n",
    "#                                        header = True, inferSchema = True)\n",
    "# IELE_rawdata = sqlContext.read.csv(\"/Users/my_macbook/Projects/Project_Capstone/DataSet/2018UpdatedLEIE.csv\", \\\n",
    "#                                        header = True, inferSchema = True)\n",
    "# Opioids_drugs = sqlContext.read.csv(\"/Users/my_macbook/Projects/Project_Capstone/DataSet/opioids.csv\", \\\n",
    "#                                        header = True, inferSchema = True)\n",
    "# Opioids_Prescriber = sqlContext.read.csv(\"/Users/my_macbook/Projects/Project_Capstone/DataSet/opioids_prescriber_info.csv\", \\\n",
    "#                                        header = True, inferSchema = True)\n",
    "\n",
    "\n"
   ]
  },
  {
   "cell_type": "code",
   "execution_count": 10,
   "metadata": {},
   "outputs": [],
   "source": [
    "# PAYMENT DATA PREPARATION\n",
    "payment_features_df = payment_rawdata.select([\"Physician_First_Name\",\\\n",
    "                                             \"Physician_Last_Name\", \\\n",
    "                                             \"Recipient_City\", \\\n",
    "                                             \"Recipient_State\", \\\n",
    "                                             \"Total_Amount_of_Payment_USDollars\"])\n",
    "#payment_features_df.show()\n",
    "\n"
   ]
  },
  {
   "cell_type": "code",
   "execution_count": 11,
   "metadata": {},
   "outputs": [],
   "source": [
    "payment_features_df = payment_features_df.withColumn(\"Total_Amount_of_Payment_USDollars\",payment_features_df[\"Total_Amount_of_Payment_USDollars\"].cast(DoubleType()))\n",
    "\n",
    "payment_features_gourpbyTotal_df = payment_features_df.groupBy(\"Physician_First_Name\",\"Physician_Last_Name\",\"Recipient_City\",\"Recipient_State\").sum(\"Total_Amount_of_Payment_USDollars\")\n",
    "\n"
   ]
  },
  {
   "cell_type": "code",
   "execution_count": 12,
   "metadata": {},
   "outputs": [
    {
     "output_type": "stream",
     "name": "stdout",
     "text": [
      "+--------------------+-------------------+--------------+---------------+--------------------------------------+\n|Physician_First_Name|Physician_Last_Name|Recipient_City|Recipient_State|sum(Total_Amount_of_Payment_USDollars)|\n+--------------------+-------------------+--------------+---------------+--------------------------------------+\n|              Darryl|             Werner|     Santa Ana|             CA|                               6085.23|\n|             Satoshi|          Tateshima|   Los Angeles|             CA|                                502.34|\n|             CHARLES|              MOSES|   PORT ARTHUR|             TX|                    29.009999999999998|\n|           HAMIDREZA|         IRANMANESH|      KINGWOOD|             TX|                    133.04999999999998|\n|                MARC|             LAVINE|  PHILADELPHIA|             PA|                                516.78|\n|                ASRA|                ALI|      PEARLAND|             TX|                    1504.7499999999998|\n|              ANGELA|        SALDARRIAGA|    WILMINGTON|             DE|                    262.03000000000003|\n|             ZACHARY|            COMPTON|        IRVING|             TX|                     758.3100000000001|\n|             ELLIOTT|             SILBAR|     MILWAUKEE|             WI|                               1131.42|\n|              CELINE|            GISBERT|     PENSACOLA|             FL|                                678.64|\n|             JANGWON|               YOON|  PHILADELPHIA|             PA|                               4021.86|\n|               ANITA|               IYER|      BETHESDA|             MD|                                608.14|\n|               SUSAN|              TOUMA|    HUNTINGTON|             WV|                     741.6800000000001|\n|               PETER|             NIEBYL|        EASTON|             MD|                               2178.95|\n|                JOHN|            O NEILL|      BETHESDA|             MD|                    121.35999999999999|\n|             HALETTE|           ANDERSON|  WEST CHESTER|             PA|                    234.45000000000005|\n|           CHRISTINE|              AMBRO|     ANNAPOLIS|             MD|                                928.62|\n|              LAUREN|             REAGER|  SANTA MONICA|             CA|                                358.01|\n|             SHELLEY|           MAHAFFEY|   SPARTANBURG|             SC|                                 97.75|\n|             SABRINA|           WILLIAMS|  INDIANAPOLIS|             IN|                     929.3700000000001|\n+--------------------+-------------------+--------------+---------------+--------------------------------------+\nonly showing top 20 rows\n\n"
     ]
    }
   ],
   "source": [
    "payment_features_gourpbyTotal_df.show()"
   ]
  },
  {
   "cell_type": "code",
   "execution_count": 13,
   "metadata": {},
   "outputs": [
    {
     "output_type": "stream",
     "name": "stdout",
     "text": [
      "+----------+-----------+------------+-----+-----------------------+\n|first_name|  last_name|        city|state|Total_Amount_of_Payment|\n+----------+-----------+------------+-----+-----------------------+\n|    Darryl|     Werner|   Santa Ana|   CA|                6085.23|\n|   Satoshi|  Tateshima| Los Angeles|   CA|                 502.34|\n|   CHARLES|      MOSES| PORT ARTHUR|   TX|     29.009999999999998|\n| HAMIDREZA| IRANMANESH|    KINGWOOD|   TX|     133.04999999999998|\n|      MARC|     LAVINE|PHILADELPHIA|   PA|                 516.78|\n|      ASRA|        ALI|    PEARLAND|   TX|     1504.7499999999998|\n|    ANGELA|SALDARRIAGA|  WILMINGTON|   DE|     262.03000000000003|\n|   ZACHARY|    COMPTON|      IRVING|   TX|      758.3100000000001|\n|   ELLIOTT|     SILBAR|   MILWAUKEE|   WI|                1131.42|\n|    CELINE|    GISBERT|   PENSACOLA|   FL|                 678.64|\n|   JANGWON|       YOON|PHILADELPHIA|   PA|                4021.86|\n|     ANITA|       IYER|    BETHESDA|   MD|                 608.14|\n|     SUSAN|      TOUMA|  HUNTINGTON|   WV|      741.6800000000001|\n|     PETER|     NIEBYL|      EASTON|   MD|                2178.95|\n|      JOHN|    O NEILL|    BETHESDA|   MD|     121.35999999999999|\n|   HALETTE|   ANDERSON|WEST CHESTER|   PA|     234.45000000000005|\n| CHRISTINE|      AMBRO|   ANNAPOLIS|   MD|                 928.62|\n|    LAUREN|     REAGER|SANTA MONICA|   CA|                 358.01|\n|   SHELLEY|   MAHAFFEY| SPARTANBURG|   SC|                  97.75|\n|   SABRINA|   WILLIAMS|INDIANAPOLIS|   IN|      929.3700000000001|\n+----------+-----------+------------+-----+-----------------------+\nonly showing top 20 rows\n\n"
     ]
    }
   ],
   "source": [
    "payment_features_gourpbyTotal_df = payment_features_gourpbyTotal_df.withColumnRenamed(\"Physician_First_Name\" , \"first_name\")\n",
    "payment_features_gourpbyTotal_df = payment_features_gourpbyTotal_df.withColumnRenamed(\"Physician_Last_Name\" , \"last_name\")\n",
    "payment_features_gourpbyTotal_df = payment_features_gourpbyTotal_df.withColumnRenamed(\"Recipient_City\" , \"city\")\n",
    "payment_features_gourpbyTotal_df = payment_features_gourpbyTotal_df.withColumnRenamed(\"Recipient_State\" , \"state\")\n",
    "payment_features_gourpbyTotal_df = payment_features_gourpbyTotal_df.withColumnRenamed(\"sum(Total_Amount_of_Payment_USDollars)\" , \"Total_Amount_of_Payment\")\n",
    "\n",
    "payment_features_gourpbyTotal_df.show()"
   ]
  },
  {
   "cell_type": "code",
   "execution_count": 14,
   "metadata": {},
   "outputs": [],
   "source": [
    "payment_features_gourpbyTotal_df = payment_features_gourpbyTotal_df.sort(payment_features_gourpbyTotal_df.Total_Amount_of_Payment.desc())\n"
   ]
  },
  {
   "cell_type": "code",
   "execution_count": 15,
   "metadata": {},
   "outputs": [
    {
     "output_type": "stream",
     "name": "stdout",
     "text": [
      "+----------+----------+-------------+-----+-----------------------+\n|first_name| last_name|         city|state|Total_Amount_of_Payment|\n+----------+----------+-------------+-----+-----------------------+\n|      null|      null|       DUARTE|   CA|    3.779466413300001E8|\n|      null|      null|      Houston|   TX|         3.0784438065E8|\n|      null|      null|       BOSTON|   MA|   2.5903488950999996E8|\n|    ANDREW|    COOPER|   CLEARWATER|   FL|          5.000821586E7|\n|      null|      null|       Boston|   MA|          4.438468705E7|\n|    STEVEN|   BOLLING|    ANN ARBOR|   MI|   3.7347662900000006E7|\n|   STEPHEN|  BURKHART|  SAN ANTONIO|   TX|          2.716575634E7|\n|      null|      null|  Los Angeles|   CA|   2.5334865490000006E7|\n|   WILLIAM|    BINDER|BEVERLY HILLS|   CA|          2.072729672E7|\n|     KEVIN|     FOLEY|      Memphis|   TN|   2.0217118830000002E7|\n|      null|      null|      HOUSTON|   TX|   1.4820399579999998E7|\n|      null|      null|        Phila|   PA|   1.3375324979999997E7|\n|      IVAN|    OSORIO|  KANSAS CITY|   KS|          1.246483766E7|\n|      null|      null|        PHILA|   PA|          1.099881213E7|\n|      null|      null|    ANN ARBOR|   MI|             9626172.25|\n|      null|      null|    CLEVELAND|   OH|      8850179.360000001|\n|      JOEL|     MATTA|         VAIL|   CO|      8773382.619999997|\n|     DAVID|RUBALTELLI|     BROOKLYN|   NY|      8474979.499999996|\n|      null|      null|  LOS ANGELES|   CA|              8262751.6|\n|      NEAL|ELATTRACHE|  LOS ANGELES|   CA|      7978646.139999999|\n+----------+----------+-------------+-----+-----------------------+\nonly showing top 20 rows\n\n"
     ]
    }
   ],
   "source": [
    "payment_features_gourpbyTotal_df.show()"
   ]
  },
  {
   "cell_type": "code",
   "execution_count": 20,
   "metadata": {},
   "outputs": [
    {
     "output_type": "stream",
     "name": "stdout",
     "text": [
      "+----------+----------------------------+-------------------------+-------------------+--------------------+---------------------+----------------+--------------------+--------------------+----------+-----------------+-----------------------+----------------+---------------+---------------+-----------------------------+----------------------+------------------+----------------------------+---------------------+--------------------+\n|       npi|nppes_provider_last_org_name|nppes_provider_first_name|nppes_provider_city|nppes_provider_state|specialty_description|description_flag|           drug_name|        generic_name|bene_count|total_claim_count|total_30_day_fill_count|total_day_supply|total_drug_cost|bene_count_ge65|bene_count_ge65_suppress_flag|total_claim_count_ge65|ge65_suppress_flag|total_30_day_fill_count_ge65|total_day_supply_ge65|total_drug_cost_ge65|\n+----------+----------------------------+-------------------------+-------------------+--------------------+---------------------+----------------+--------------------+--------------------+----------+-----------------+-----------------------+----------------+---------------+---------------+-----------------------------+----------------------+------------------+----------------------------+---------------------+--------------------+\n|1003000126|                   ENKESHAFI|                  ARDALAN|         CUMBERLAND|                  MD|    Internal Medicine|               S|ATORVASTATIN CALCIUM|ATORVASTATIN CALCIUM|      null|               13|                   13.0|             390|          85.83|           null|                            *|                  null|                 *|                        null|                 null|                null|\n|1003000126|                   ENKESHAFI|                  ARDALAN|         CUMBERLAND|                  MD|    Internal Medicine|               S|        AZITHROMYCIN|        AZITHROMYCIN|        11|               11|                   11.0|              64|         123.11|           null|                            *|                  null|                 *|                        null|                 null|                null|\n|1003000126|                   ENKESHAFI|                  ARDALAN|         CUMBERLAND|                  MD|    Internal Medicine|               S|          CARVEDILOL|          CARVEDILOL|      null|               12|                   15.0|             450|          39.02|           null|                            *|                  null|                 *|                        null|                 null|                null|\n|1003000126|                   ENKESHAFI|                  ARDALAN|         CUMBERLAND|                  MD|    Internal Medicine|               S|            CEFDINIR|            CEFDINIR|        12|               12|                   12.0|              71|         178.66|           null|                            *|                  null|                 *|                        null|                 null|                null|\n|1003000126|                   ENKESHAFI|                  ARDALAN|         CUMBERLAND|                  MD|    Internal Medicine|               S| DOXYCYCLINE HYCLATE| DOXYCYCLINE HYCLATE|        12|               13|                   13.0|              77|         194.56|           null|                            *|                  null|                 *|                        null|                 null|                null|\n|1003000126|                   ENKESHAFI|                  ARDALAN|         CUMBERLAND|                  MD|    Internal Medicine|               S|             ELIQUIS|            APIXABAN|      null|               17|                   17.0|             459|        6494.22|           null|                            #|                  null|                 #|                        null|                 null|                null|\n|1003000126|                   ENKESHAFI|                  ARDALAN|         CUMBERLAND|                  MD|    Internal Medicine|               S|          FUROSEMIDE|          FUROSEMIDE|        19|               30|                   31.0|             830|         118.97|           null|                            #|                  null|                 #|                        null|                 null|                null|\n|1003000126|                   ENKESHAFI|                  ARDALAN|         CUMBERLAND|                  MD|    Internal Medicine|               S|ISOSORBIDE MONONI...|ISOSORBIDE MONONI...|        11|               14|                   14.0|             420|         167.69|           null|                            #|                  null|                 #|                        null|                 null|                null|\n|1003000126|                   ENKESHAFI|                  ARDALAN|         CUMBERLAND|                  MD|    Internal Medicine|               S|        LEVOFLOXACIN|        LEVOFLOXACIN|        15|               15|                   15.0|              80|         106.05|           null|                            #|                  null|                 #|                        null|                 null|                null|\n|1003000126|                   ENKESHAFI|                  ARDALAN|         CUMBERLAND|                  MD|    Internal Medicine|               S|          LISINOPRIL|          LISINOPRIL|        14|               24|                   24.0|             720|         108.66|           null|                            #|                  null|                 #|                        null|                 null|                null|\n|1003000126|                   ENKESHAFI|                  ARDALAN|         CUMBERLAND|                  MD|    Internal Medicine|               S| METOPROLOL TARTRATE| METOPROLOL TARTRATE|        21|               31|                   33.0|             885|         158.39|           null|                            #|                  null|                 #|                        null|                 null|                null|\n|1003000126|                   ENKESHAFI|                  ARDALAN|         CUMBERLAND|                  MD|    Internal Medicine|               S|       NITROGLYCERIN|       NITROGLYCERIN|      null|               11|                   11.0|             142|         135.99|           null|                            *|                  null|                 *|                        null|                 null|                null|\n|1003000126|                   ENKESHAFI|                  ARDALAN|         CUMBERLAND|                  MD|    Internal Medicine|               S|          PREDNISONE|          PREDNISONE|        28|               34|                   34.0|             244|         128.92|           null|                            #|                  null|                 #|                        null|                 null|                null|\n|1003000126|                   ENKESHAFI|                  ARDALAN|         CUMBERLAND|                  MD|    Internal Medicine|               S|     WARFARIN SODIUM|     WARFARIN SODIUM|      null|               15|                   16.0|             392|         134.79|           null|                            *|                  null|                 *|                        null|                 null|                null|\n|1003000142|                      KHALIL|                   RASHID|             TOLEDO|                  OH|       Anesthesiology|               S|ACETAMINOPHEN-COD...|ACETAMINOPHEN WIT...|        11|               47|                   47.0|            1266|         496.58|           null|                            *|                    13|              null|                        13.0|                  261|                98.6|\n|1003000142|                      KHALIL|                   RASHID|             TOLEDO|                  OH|       Anesthesiology|               S|            BACLOFEN|            BACLOFEN|        30|              113|                  133.0|            3969|        1666.79|           null|                            *|                    25|              null|                        31.0|                  930|               265.2|\n|1003000142|                      KHALIL|                   RASHID|             TOLEDO|                  OH|       Anesthesiology|               S|           CELECOXIB|           CELECOXIB|      null|               18|                   20.0|             600|          856.4|           null|                            *|                  null|                 *|                        null|                 null|                null|\n|1003000142|                      KHALIL|                   RASHID|             TOLEDO|                  OH|       Anesthesiology|               S| CYCLOBENZAPRINE HCL| CYCLOBENZAPRINE HCL|      null|               31|                   31.0|             890|         756.15|           null|                            *|                    12|              null|                        12.0|                  360|              504.55|\n|1003000142|                      KHALIL|                   RASHID|             TOLEDO|                  OH|       Anesthesiology|               S|   DICLOFENAC SODIUM|   DICLOFENAC SODIUM|        14|               19|                   20.4|             494|        1232.16|           null|                            *|                  null|                 *|                        null|                 null|                null|\n|1003000142|                      KHALIL|                   RASHID|             TOLEDO|                  OH|       Anesthesiology|               S|      DULOXETINE HCL|      DULOXETINE HCL|        16|               39|                   45.0|            1350|         983.54|           null|                            *|                    15|              null|                        21.0|                  630|              227.79|\n+----------+----------------------------+-------------------------+-------------------+--------------------+---------------------+----------------+--------------------+--------------------+----------+-----------------+-----------------------+----------------+---------------+---------------+-----------------------------+----------------------+------------------+----------------------------+---------------------+--------------------+\nonly showing top 20 rows\n\n"
     ]
    }
   ],
   "source": [
    "# Part D drug data Preparation \n",
    "\n",
    "#header = partD_drug_rawdata.first()\n",
    "#partD_drug_rawdata =partD_drug_rawdata.filter (lambda line: line != header)\n",
    "\n",
    "# temp_var = partD_drug_rawdata.map(lambda k: k.split(\"\\t\"))\n",
    "partD_Drug_df = partD_drug_rawdata\n",
    "partD_Drug_df.show()\n",
    "\n",
    "\n",
    "partD_Drug_df = partD_Drug_df.withColumn(\"bene_count\",partD_Drug_df[\"bene_count\"].cast(DoubleType()))\n",
    "partD_Drug_df = partD_Drug_df.withColumn(\"total_claim_count\",partD_Drug_df[\"total_claim_count\"].cast(DoubleType()))\n",
    "partD_Drug_df = partD_Drug_df.withColumn(\"total_30_day_fill_count\",partD_Drug_df[\"total_30_day_fill_count\"].cast(DoubleType()))\n",
    "partD_Drug_df = partD_Drug_df.withColumn(\"total_day_supply\",partD_Drug_df[\"total_day_supply\"].cast(DoubleType()))\n",
    "partD_Drug_df = partD_Drug_df.withColumn(\"total_drug_cost\",partD_Drug_df[\"total_drug_cost\"].cast(DoubleType()))\n",
    "partD_Drug_df = partD_Drug_df.withColumn(\"bene_count_ge65\",partD_Drug_df[\"bene_count_ge65\"].cast(DoubleType()))\n",
    "partD_Drug_df = partD_Drug_df.withColumn(\"total_claim_count_ge65\",partD_Drug_df[\"total_claim_count_ge65\"].cast(DoubleType()))\n",
    "partD_Drug_df = partD_Drug_df.withColumn(\"total_30_day_fill_count_ge65\",partD_Drug_df[\"total_30_day_fill_count_ge65\"].cast(DoubleType()))\n",
    "partD_Drug_df = partD_Drug_df.withColumn(\"total_day_supply_ge65\",partD_Drug_df[\"total_day_supply_ge65\"].cast(DoubleType()))\n",
    "partD_Drug_df = partD_Drug_df.withColumn(\"total_drug_cost_ge65\",partD_Drug_df[\"total_drug_cost_ge65\"].cast(DoubleType()))\n",
    "\n",
    "\n",
    "\n",
    "\n",
    "\n",
    "\n"
   ]
  },
  {
   "cell_type": "code",
   "execution_count": 21,
   "metadata": {},
   "outputs": [
    {
     "output_type": "execute_result",
     "data": {
      "text/plain": [
       "Row(npi=1003000126, nppes_provider_last_org_name='ENKESHAFI', nppes_provider_first_name='ARDALAN', nppes_provider_city='CUMBERLAND', nppes_provider_state='MD', specialty_description='Internal Medicine', description_flag='S', drug_name='ATORVASTATIN CALCIUM', generic_name='ATORVASTATIN CALCIUM', bene_count=None, total_claim_count=13.0, total_30_day_fill_count=13.0, total_day_supply=390.0, total_drug_cost=85.83, bene_count_ge65=None, bene_count_ge65_suppress_flag='*', total_claim_count_ge65=None, ge65_suppress_flag='*', total_30_day_fill_count_ge65=None, total_day_supply_ge65=None, total_drug_cost_ge65=None)"
      ]
     },
     "metadata": {},
     "execution_count": 21
    }
   ],
   "source": [
    "partD_Drug_df.head()"
   ]
  },
  {
   "cell_type": "code",
   "execution_count": 22,
   "metadata": {
    "scrolled": true
   },
   "outputs": [
    {
     "output_type": "stream",
     "name": "stdout",
     "text": [
      "root\n |-- npi: integer (nullable = true)\n |-- nppes_provider_last_org_name: string (nullable = true)\n |-- nppes_provider_first_name: string (nullable = true)\n |-- nppes_provider_city: string (nullable = true)\n |-- nppes_provider_state: string (nullable = true)\n |-- specialty_description: string (nullable = true)\n |-- description_flag: string (nullable = true)\n |-- drug_name: string (nullable = true)\n |-- generic_name: string (nullable = true)\n |-- bene_count: double (nullable = true)\n |-- total_claim_count: double (nullable = true)\n |-- total_30_day_fill_count: double (nullable = true)\n |-- total_day_supply: double (nullable = true)\n |-- total_drug_cost: double (nullable = true)\n |-- bene_count_ge65: double (nullable = true)\n |-- bene_count_ge65_suppress_flag: string (nullable = true)\n |-- total_claim_count_ge65: double (nullable = true)\n |-- ge65_suppress_flag: string (nullable = true)\n |-- total_30_day_fill_count_ge65: double (nullable = true)\n |-- total_day_supply_ge65: double (nullable = true)\n |-- total_drug_cost_ge65: double (nullable = true)\n\n"
     ]
    }
   ],
   "source": [
    "partD_Drug_df.printSchema()"
   ]
  },
  {
   "cell_type": "code",
   "execution_count": 23,
   "metadata": {},
   "outputs": [],
   "source": [
    "partD_Drug_features_df = partD_Drug_df.select([\"npi\",\\\n",
    "                                               \"nppes_provider_city\",\\\n",
    "                                               \"nppes_provider_state\", \\\n",
    "                                               \"nppes_provider_last_org_name\", \\\n",
    "                                               \"nppes_provider_first_name\", \\\n",
    "                                               \"specialty_description\",\\\n",
    "                                               \"drug_name\", \\\n",
    "                                               \"generic_name\",\\\n",
    "                                               \"total_drug_cost\",\\\n",
    "                                               \"total_claim_count\",\\\n",
    "                                               \"total_day_supply\"])\n",
    "\n",
    "partD_Drug_featuresGroupbyNPI_df = partD_Drug_features_df.groupBy(\"npi\",\\\n",
    "                                                                 \"nppes_provider_city\",\\\n",
    "                                                                 \"nppes_provider_state\", \\\n",
    "                                                                 \"nppes_provider_last_org_name\", \\\n",
    "                                                                 \"nppes_provider_first_name\", \\\n",
    "                                                                 \"specialty_description\",\\\n",
    "                                                                 \"drug_name\", \\\n",
    "                                                                 \"generic_name\")\\\n",
    "                                                                         .agg(func.sum(\"total_drug_cost\"),\\\n",
    "                                                                              func.sum(\"total_claim_count\"),\\\n",
    "                                                                              func.sum(\"total_day_supply\"), \\\n",
    "                                                                              func.variance(\"total_drug_cost\"),\\\n",
    "                                                                              func.variance(\"total_claim_count\"),\\\n",
    "                                                                              func.variance(\"total_day_supply\"),\\\n",
    "                                                                              func.max(\"total_drug_cost\"),\\\n",
    "                                                                              func.max(\"total_claim_count\"),\\\n",
    "                                                                              func.max(\"total_day_supply\"),\\\n",
    "                                                                             )\n",
    "\n",
    "\n",
    "partD_Drug_featuresGroupbyNPI_df = partD_Drug_featuresGroupbyNPI_df.withColumnRenamed(\"nppes_provider_first_name\" , \"first_name\")\n",
    "partD_Drug_featuresGroupbyNPI_df = partD_Drug_featuresGroupbyNPI_df.withColumnRenamed(\"nppes_provider_last_org_name\" , \"last_name\")\n",
    "partD_Drug_featuresGroupbyNPI_df = partD_Drug_featuresGroupbyNPI_df.withColumnRenamed(\"nppes_provider_city\" , \"city\")\n",
    "partD_Drug_featuresGroupbyNPI_df = partD_Drug_featuresGroupbyNPI_df.withColumnRenamed(\"nppes_provider_state\" , \"state\")"
   ]
  },
  {
   "cell_type": "code",
   "execution_count": 24,
   "metadata": {
    "scrolled": false
   },
   "outputs": [
    {
     "output_type": "stream",
     "name": "stdout",
     "text": [
      "+----------+---------------+-----+----------+-----------+---------------------+--------------------+--------------------+--------------------+----------------------+---------------------+-------------------------+---------------------------+--------------------------+--------------------+----------------------+---------------------+\n|       npi|           city|state| last_name| first_name|specialty_description|           drug_name|        generic_name|sum(total_drug_cost)|sum(total_claim_count)|sum(total_day_supply)|var_samp(total_drug_cost)|var_samp(total_claim_count)|var_samp(total_day_supply)|max(total_drug_cost)|max(total_claim_count)|max(total_day_supply)|\n+----------+---------------+-----+----------+-----------+---------------------+--------------------+--------------------+--------------------+----------------------+---------------------+-------------------------+---------------------------+--------------------------+--------------------+----------------------+---------------------+\n|1003001645|     SACRAMENTO|   CA|   TRIVEDI|      VINOD|   Infectious Disease|             GENVOYA|ELVITEG/COB/EMTRI...|           157471.31|                  52.0|               1560.0|                     null|                       null|                      null|           157471.31|                  52.0|               1560.0|\n|1003001884|          FLINT|   MI|      SAHA|    LUCILLE|      Family Practice|         LATANOPROST|         LATANOPROST|              482.83|                  11.0|                606.0|                     null|                       null|                      null|              482.83|                  11.0|                606.0|\n|1003002049|        FREMONT|   CA|SRINIVASAN|    LAKSHMI|        Endocrinology|            ACARBOSE|            ACARBOSE|              902.98|                  12.0|               1080.0|                     null|                       null|                      null|              902.98|                  12.0|               1080.0|\n|1003002312|         QUINCY|   MA|   HOPKINS|   PATRICIA|         Rheumatology|            ATENOLOL|            ATENOLOL|              314.48|                  35.0|               3030.0|                     null|                       null|                      null|              314.48|                  35.0|               3030.0|\n|1003002312|         QUINCY|   MA|   HOPKINS|   PATRICIA|         Rheumatology|             PREMPRO|ESTROGEN,CON/M-PR...|              2608.6|                  14.0|                454.0|                     null|                       null|                      null|              2608.6|                  14.0|                454.0|\n|1003002817|          DORAL|   FL|  IGLESIAS|     NAYVIS|      Family Practice|   ENALAPRIL MALEATE|   ENALAPRIL MALEATE|             5797.86|                 106.0|               9269.0|                     null|                       null|                      null|             5797.86|                 106.0|               9269.0|\n|1003005836|      ROCHESTER|   MN|   LEASURE|      EMILY|    Internal Medicine|       ADVAIR DISKUS|FLUTICASONE PROPI...|             5213.94|                  13.0|                390.0|                     null|                       null|                      null|             5213.94|                  13.0|                390.0|\n|1003005836|      ROCHESTER|   MN|   LEASURE|      EMILY|    Internal Medicine|          FUROSEMIDE|          FUROSEMIDE|              275.68|                  41.0|               2136.0|                     null|                       null|                      null|              275.68|                  41.0|               2136.0|\n|1003006503|          FLINT|   MI|    JEGEDE| OLUGBEMIGA|    Internal Medicine|FLUTICASONE PROPI...|FLUTICASONE PROPI...|              155.02|                  18.0|                540.0|                     null|                       null|                      null|              155.02|                  18.0|                540.0|\n|1003006552|     FORT MEADE|   FL|  QUINONEZ|      ALNER|      Family Practice|     INSULIN SYRINGE|SYRINGE-NEEDLE,IN...|              933.77|                  27.0|               1940.0|                     null|                       null|                      null|              933.77|                  27.0|               1940.0|\n|1003007279|         YAKIMA|   WA|  WILLIAMS|   JENNIFER|  Physician Assistant|         MISOPROSTOL|         MISOPROSTOL|              261.13|                  11.0|                334.0|                     null|                       null|                      null|              261.13|                  11.0|                334.0|\n|1003007469|    SAN ANTONIO|   TX|     OZUNA|    EDUARDO|       Anesthesiology|          TOPIRAMATE|          TOPIRAMATE|               116.8|                  21.0|                645.0|                     null|                       null|                      null|               116.8|                  21.0|                645.0|\n|1003008095|         LONDON|   KY|     HOUSE|      ROBIN|   Nurse Practitioner|      FLUOXETINE HCL|      FLUOXETINE HCL|              191.62|                  16.0|                900.0|                     null|                       null|                      null|              191.62|                  16.0|                900.0|\n|1003009218|      MORRILTON|   AR|     NOLEN|      JAMES|      Family Practice|      DULOXETINE HCL|      DULOXETINE HCL|             1307.09|                  32.0|               1260.0|                     null|                       null|                      null|             1307.09|                  32.0|               1260.0|\n|1003010406|       NEW YORK|   NY| RAMASWAMY|RAVISHANKAR|   Geriatric Medicine|         REPAGLINIDE|         REPAGLINIDE|              622.75|                  14.0|                660.0|                     null|                       null|                      null|              622.75|                  14.0|                660.0|\n|1003010786|      AMSTERDAM|   NY|    SAVOIE|       JERI|   Nurse Practitioner|     ONDANSETRON HCL|     ONDANSETRON HCL|               496.7|                  14.0|                341.0|                     null|                       null|                      null|               496.7|                  14.0|                341.0|\n|1003010950|FOUNTAIN VALLEY|   CA|    ARTHUR|   KRISTINE|    Internal Medicine|          LISINOPRIL|          LISINOPRIL|              2002.7|                 189.0|              14580.0|                     null|                       null|                      null|              2002.7|                 189.0|              14580.0|\n|1003012733|      SAN DIEGO|   CA|    GANNON|     LAUREN|    Internal Medicine|      TAMSULOSIN HCL|      TAMSULOSIN HCL|              499.58|                  16.0|                900.0|                     null|                       null|                      null|              499.58|                  16.0|                900.0|\n|1003013582|     MORGANTOWN|   WV|  HAGGERTY|      TREAH|      Family Practice|      SERTRALINE HCL|      SERTRALINE HCL|              361.55|                  44.0|               1770.0|                     null|                       null|                      null|              361.55|                  44.0|               1770.0|\n|1003013616|     GREENVILLE|   SC|WOSCHKOLUP|   KATHLEEN|            Neurology|  PROPRANOLOL HCL ER|     PROPRANOLOL HCL|            10323.78|                 133.0|               8010.0|                     null|                       null|                      null|            10323.78|                 133.0|               8010.0|\n+----------+---------------+-----+----------+-----------+---------------------+--------------------+--------------------+--------------------+----------------------+---------------------+-------------------------+---------------------------+--------------------------+--------------------+----------------------+---------------------+\nonly showing top 20 rows\n\n"
     ]
    }
   ],
   "source": [
    "partD_Drug_featuresGroupbyNPI_df.show()"
   ]
  },
  {
   "cell_type": "code",
   "execution_count": null,
   "metadata": {},
   "outputs": [],
   "source": []
  },
  {
   "cell_type": "code",
   "execution_count": null,
   "metadata": {},
   "outputs": [],
   "source": [
    "# EXCLUDED Data Preparation"
   ]
  },
  {
   "cell_type": "code",
   "execution_count": 26,
   "metadata": {},
   "outputs": [
    {
     "output_type": "stream",
     "name": "stdout",
     "text": [
      "+--------+---------+-------+--------------------+------------------+-----------------+----+----------+----+--------------------+---------+-----+-----+--------+--------+--------+----------+--------+\n|LASTNAME|FIRSTNAME|MIDNAME|             BUSNAME|           GENERAL|        SPECIALTY|UPIN|       NPI| DOB|             ADDRESS|     CITY|STATE|  ZIP|EXCLTYPE|EXCLDATE|REINDATE|WAIVERDATE|WVRSTATE|\n+--------+---------+-------+--------------------+------------------+-----------------+----+----------+----+--------------------+---------+-----+-----+--------+--------+--------+----------+--------+\n|    null|     null|       |#1 MARKETING SERV...|    OTHER BUSINESS|       SOBER HOME|null|         0|null|239 BRIGHTON BEAC...| BROOKLYN|   NY|11235|  1128a1|20200319|       0|         0|    null|\n|    null|     null|       |14 LAWRENCE AVE P...|          PHARMACY|             null|null|         0|null|  14 LAWRENCE AVENUE|SMITHTOWN|   NY|11787|  1128a1|19880830|       0|         0|    null|\n|    null|     null|       |143 MEDICAL EQUIP...|       DME COMPANY|     DME - OXYGEN|null|         0|null|    701 NW 36 AVENUE|    MIAMI|   FL|33125|  1128b7|19970620|       0|         0|    null|\n|    null|     null|       |184TH STREET PHAR...|    OTHER BUSINESS|         PHARMACY|null|1922348218|null|       69 E 184TH ST|    BRONX|   NY|10468|  1128a1|20180419|       0|         0|    null|\n|    null|     null|       |1951 FLATBUSH AVE...|          PHARMACY|             null|null|         0|null|   1951 FLATBUSH AVE| BROOKLYN|   NY|11234|  1128b5|20090319|       0|         0|    null|\n|    null|     null|       |1ST COMMUNITY HEA...|            CLINIC|             null|null|         0|null|  3138 W CERMAK ROAD|  CHICAGO|   IL|60623|  1128a1|19940524|       0|         0|    null|\n|    null|     null|       |1ST REHABILITATIO...|MANAGEMENT SVCS CO|             null|null|         0|null|C/O 3659 MAGUIRE ...|  ORLANDO|   FL|32803|  1128b8|20020919|       0|         0|    null|\n|    null|     null|       |2001 BATH AVENUE ...|    OTHER BUSINESS|         PHARMACY|null|         0|null|    2001 BATH AVENUE| BROOKLYN|   NY|11214|  1128a1|20110818|       0|         0|    null|\n|    null|     null|       |  2258 PHARMACY, INC|          PHARMACY|             null|null|         0|null|      2258 THIRD AVE| NEW YORK|   NY|10035|  1128b8|20030720|       0|         0|    null|\n|    null|     null|       |227 NINTH AVENUE ...|          PHARMACY|             null|null|         0|null|         227 9TH AVE| NEW YORK|   NY|10011|  1128b5|19970903|       0|         0|    null|\n|    null|     null|       | 3839 PHARMACY, INC.|          PHARMACY|             null|null|         0|null|       3839 BROADWAY| NEW YORK|   NY|10032|  1128a1|19910704|       0|         0|    null|\n|    null|     null|       |     54-26 DRUG CORP|          PHARMACY|             null|null|         0|null|       1120 BROADWAY| BROOKLYN|   NY|11221|  1128b8|19861204|       0|         0|    null|\n|    null|     null|       |716 TRANSPORTATIO...|    OTHER BUSINESS|TRANSPORTATION CO|null|         0|null|       540 VINE LANE|  BUFFALO|   NY|14228|  1128a1|20190620|       0|         0|    null|\n|    null|     null|       |764 FRANKLIN AVE ...|          PHARMACY|             null|null|         0|null| 764 FRANKLIN AVENUE| BROOKLYN|   NY|11238|  1128a1|19911229|       0|         0|    null|\n|    null|     null|       |882 E 180TH STREE...|          PHARMACY|             null|null|         0|null|  882 E 180TH STREET|    BRONX|   NY|10460|  1128b4|19920903|       0|         0|    null|\n|    null|     null|       |   A & A LIVERY, INC| TRANSPORTATION CO|             null|null|         0|null|   15 WALLACE STREET|  METHUEN|   MA|01844|  1128a1|19930406|       0|         0|    null|\n|    null|     null|       |A & A MEDICAL CEN...|            CLINIC|             null|null|         0|null|8231 N W 8TH ST, ...|    MIAMI|   FL|33128|  1128b8|20010719|       0|         0|    null|\n|    null|     null|       | A & D PHARMACY, INC|          PHARMACY|             null|null|         0|null|      467 MYRTLE AVE| BROOKLYN|   NY|11205|  1128a1|19930208|       0|         0|    null|\n|    null|     null|       |A & H LEE PHARMAC...|          PHARMACY|             null|null|         0|null|        268 BROADWAY| BROOKLYN|   NY|11211|  1128a1|20020919|       0|         0|    null|\n|    null|     null|       |A & H VITAMINS SU...|    OTHER BUSINESS|         PHARMACY|null|         0|null| 592 PALISADE AVENUE|  TEANECK|   NJ|07666|  1128a1|20180419|       0|         0|    null|\n+--------+---------+-------+--------------------+------------------+-----------------+----+----------+----+--------------------+---------+-----+-----+--------+--------+--------+----------+--------+\nonly showing top 20 rows\n\n"
     ]
    }
   ],
   "source": [
    "IELE_rawdata.show()"
   ]
  },
  {
   "cell_type": "code",
   "execution_count": 27,
   "metadata": {},
   "outputs": [],
   "source": [
    "\n",
    "npi_fraud_df = IELE_rawdata.select ([\"npi\", \"EXCLTYPE\"])"
   ]
  },
  {
   "cell_type": "code",
   "execution_count": 28,
   "metadata": {},
   "outputs": [],
   "source": [
    "npi_fraud_df = npi_fraud_df.filter(npi_fraud_df.npi != 0)"
   ]
  },
  {
   "cell_type": "code",
   "execution_count": 29,
   "metadata": {},
   "outputs": [
    {
     "output_type": "execute_result",
     "data": {
      "text/plain": [
       "<bound method DataFrame.printSchema of DataFrame[npi: int, EXCLTYPE: string]>"
      ]
     },
     "metadata": {},
     "execution_count": 29
    }
   ],
   "source": [
    "npi_fraud_df.printSchema"
   ]
  },
  {
   "cell_type": "code",
   "execution_count": 30,
   "metadata": {},
   "outputs": [],
   "source": [
    "npi_fraud_df = npi_fraud_df.withColumn(\"is_fraud\", npi_fraud_df[\"npi\"]/npi_fraud_df[\"npi\"] )"
   ]
  },
  {
   "cell_type": "code",
   "execution_count": 31,
   "metadata": {},
   "outputs": [],
   "source": [
    "npi_fraud_df = npi_fraud_df.withColumn(\"is_fraud\",npi_fraud_df[\"is_fraud\"].cast(IntegerType()))"
   ]
  },
  {
   "cell_type": "code",
   "execution_count": 36,
   "metadata": {},
   "outputs": [
    {
     "ename": "TypeError",
     "evalue": "'Column' object is not callable",
     "output_type": "error",
     "traceback": [
      "\u001b[0;31m---------------------------------------------------------------------------\u001b[0m",
      "\u001b[0;31mTypeError\u001b[0m                                 Traceback (most recent call last)",
      "\u001b[0;32m<ipython-input-36-64368712accd>\u001b[0m in \u001b[0;36m<module>\u001b[0;34m()\u001b[0m\n\u001b[0;32m----> 1\u001b[0;31m \u001b[0mnpi_fraud_df\u001b[0m\u001b[0;34m[\u001b[0m\u001b[0;34m'npi'\u001b[0m\u001b[0;34m]\u001b[0m\u001b[0;34m.\u001b[0m\u001b[0mcount\u001b[0m\u001b[0;34m(\u001b[0m\u001b[0;34m)\u001b[0m\u001b[0;34m\u001b[0m\u001b[0m\n\u001b[0m",
      "\u001b[0;31mTypeError\u001b[0m: 'Column' object is not callable"
     ]
    }
   ],
   "source": []
  },
  {
   "cell_type": "code",
   "execution_count": null,
   "metadata": {},
   "outputs": [],
   "source": [
    "# Opioid drugs"
   ]
  },
  {
   "cell_type": "code",
   "execution_count": null,
   "metadata": {},
   "outputs": [],
   "source": []
  },
  {
   "cell_type": "code",
   "execution_count": 34,
   "metadata": {},
   "outputs": [
    {
     "output_type": "stream",
     "name": "stdout",
     "text": [
      "root\n |-- NPI: integer (nullable = true)\n |-- NPPES Provider Last Name: string (nullable = true)\n |-- NPPES Provider First Name: string (nullable = true)\n |-- NPPES Provider ZIP Code: integer (nullable = true)\n |-- NPPES Provider State: string (nullable = true)\n |-- Specialty Description: string (nullable = true)\n |-- Total Claim Count: integer (nullable = true)\n |-- Opioid Claim Count: integer (nullable = true)\n |-- Opioid Prescribing Rate: double (nullable = true)\n |-- Long-Acting Opioid Claim Count: integer (nullable = true)\n |-- Long-Acting Opioid Prescribing Rate: double (nullable = true)\n\n"
     ]
    }
   ],
   "source": [
    "Opioids_Prescriber.printSchema()"
   ]
  },
  {
   "cell_type": "code",
   "execution_count": 36,
   "metadata": {},
   "outputs": [],
   "source": [
    "# Opioids_Prescriber_npi_df = Opioids_Prescriber.select ([\"npi\",\"Specialty\",\"is_Opioid_Prescriber\"])\n",
    "\n",
    "Opioids_Prescriber_npi_df = Opioids_Prescriber.select ([\"npi\",\"Specialty Description\"])"
   ]
  },
  {
   "cell_type": "code",
   "execution_count": 37,
   "metadata": {},
   "outputs": [
    {
     "output_type": "stream",
     "name": "stdout",
     "text": [
      "+----------+---------------------+\n|       npi|Specialty Description|\n+----------+---------------------+\n|1003000126|    Internal Medicine|\n|1003000142|       Anesthesiology|\n|1003000167|              Dentist|\n|1003000282|   Nurse Practitioner|\n|1003000407|      Family Practice|\n|1003000423| Obstetrics & Gyne...|\n|1003000480|      General Surgery|\n|1003000522|      Family Practice|\n|1003000530|    Internal Medicine|\n|1003000597|              Urology|\n|1003000639|      Cardiac Surgery|\n|1003000720|   Nurse Practitioner|\n|1003000746|           Pharmacist|\n|1003000837|   Nurse Practitioner|\n|1003000902|      Family Practice|\n|1003000936|    Internal Medicine|\n|1003001017|          Dermatology|\n|1003001132|      Family Practice|\n|1003001207|              Dentist|\n|1003001256|      Family Practice|\n+----------+---------------------+\nonly showing top 20 rows\n\n"
     ]
    }
   ],
   "source": [
    "Opioids_Prescriber_npi_df.show()"
   ]
  },
  {
   "cell_type": "code",
   "execution_count": 38,
   "metadata": {},
   "outputs": [],
   "source": [
    "df =  npi_fraud_df.join(Opioids_Prescriber_npi_df, (Opioids_Prescriber_npi_df.npi == npi_fraud_df.npi))"
   ]
  },
  {
   "cell_type": "code",
   "execution_count": 39,
   "metadata": {},
   "outputs": [
    {
     "output_type": "stream",
     "name": "stdout",
     "text": [
      "root\n |-- npi: integer (nullable = true)\n |-- EXCLTYPE: string (nullable = true)\n |-- is_fraud: integer (nullable = true)\n |-- npi: integer (nullable = true)\n |-- Specialty Description: string (nullable = true)\n\n"
     ]
    }
   ],
   "source": [
    "df.printSchema()"
   ]
  },
  {
   "cell_type": "code",
   "execution_count": 40,
   "metadata": {},
   "outputs": [],
   "source": [
    "\n",
    "sqlContext.registerDataFrameAsTable(payment_features_gourpbyTotal_df,\"payment_table\")\n",
    "payment_df = sqlContext.sql(\"Select * from payment_table\")\n"
   ]
  },
  {
   "cell_type": "code",
   "execution_count": 41,
   "metadata": {},
   "outputs": [],
   "source": [
    "sqlContext.registerDataFrameAsTable(partD_Drug_featuresGroupbyNPI_df,\"partD_table\")\n",
    "partD_df = sqlContext.sql(\"Select * from partD_table\")"
   ]
  },
  {
   "cell_type": "code",
   "execution_count": 42,
   "metadata": {},
   "outputs": [],
   "source": [
    "sqlContext.registerDataFrameAsTable(npi_fraud_df,\"npi_fraud_table\")\n",
    "npifraud_df = sqlContext.sql(\"Select * from npi_fraud_table\")"
   ]
  },
  {
   "cell_type": "code",
   "execution_count": 43,
   "metadata": {},
   "outputs": [],
   "source": [
    "sqlContext.registerDataFrameAsTable(Opioids_Prescriber_npi_df,\"npi_opioids_table\")\n",
    "npiopioids_df = sqlContext.sql(\"Select * from npi_opioids_table\")"
   ]
  },
  {
   "cell_type": "code",
   "execution_count": 44,
   "metadata": {},
   "outputs": [
    {
     "output_type": "error",
     "ename": "AnalysisException",
     "evalue": "cannot resolve '`npi`' given input columns: []; line 1 pos 7;\n'Project ['npi]\n+- OneRowRelation\n",
     "traceback": [
      "\u001b[1;31m---------------------------------------------------------------------------\u001b[0m",
      "\u001b[1;31mAnalysisException\u001b[0m                         Traceback (most recent call last)",
      "\u001b[1;32m<ipython-input-44-cc6d1eb8bb32>\u001b[0m in \u001b[0;36m<module>\u001b[1;34m\u001b[0m\n\u001b[1;32m----> 1\u001b[1;33m \u001b[0mfeatures_df\u001b[0m \u001b[1;33m=\u001b[0m \u001b[0msqlContext\u001b[0m\u001b[1;33m.\u001b[0m\u001b[0msql\u001b[0m \u001b[1;33m(\u001b[0m\u001b[1;34m\"select npi \"\u001b[0m\u001b[1;33m)\u001b[0m\u001b[1;33m\u001b[0m\u001b[1;33m\u001b[0m\u001b[0m\n\u001b[0m",
      "\u001b[1;32mD:\\Program Files (x86)\\Python\\lib\\site-packages\\pyspark\\sql\\context.py\u001b[0m in \u001b[0;36msql\u001b[1;34m(self, sqlQuery)\u001b[0m\n\u001b[0;32m    431\u001b[0m         \u001b[1;33m[\u001b[0m\u001b[0mRow\u001b[0m\u001b[1;33m(\u001b[0m\u001b[0mf1\u001b[0m\u001b[1;33m=\u001b[0m\u001b[1;36m1\u001b[0m\u001b[1;33m,\u001b[0m \u001b[0mf2\u001b[0m\u001b[1;33m=\u001b[0m\u001b[1;34m'row1'\u001b[0m\u001b[1;33m)\u001b[0m\u001b[1;33m,\u001b[0m \u001b[0mRow\u001b[0m\u001b[1;33m(\u001b[0m\u001b[0mf1\u001b[0m\u001b[1;33m=\u001b[0m\u001b[1;36m2\u001b[0m\u001b[1;33m,\u001b[0m \u001b[0mf2\u001b[0m\u001b[1;33m=\u001b[0m\u001b[1;34m'row2'\u001b[0m\u001b[1;33m)\u001b[0m\u001b[1;33m,\u001b[0m \u001b[0mRow\u001b[0m\u001b[1;33m(\u001b[0m\u001b[0mf1\u001b[0m\u001b[1;33m=\u001b[0m\u001b[1;36m3\u001b[0m\u001b[1;33m,\u001b[0m \u001b[0mf2\u001b[0m\u001b[1;33m=\u001b[0m\u001b[1;34m'row3'\u001b[0m\u001b[1;33m)\u001b[0m\u001b[1;33m]\u001b[0m\u001b[1;33m\u001b[0m\u001b[1;33m\u001b[0m\u001b[0m\n\u001b[0;32m    432\u001b[0m         \"\"\"\n\u001b[1;32m--> 433\u001b[1;33m         \u001b[1;32mreturn\u001b[0m \u001b[0mself\u001b[0m\u001b[1;33m.\u001b[0m\u001b[0msparkSession\u001b[0m\u001b[1;33m.\u001b[0m\u001b[0msql\u001b[0m\u001b[1;33m(\u001b[0m\u001b[0msqlQuery\u001b[0m\u001b[1;33m)\u001b[0m\u001b[1;33m\u001b[0m\u001b[1;33m\u001b[0m\u001b[0m\n\u001b[0m\u001b[0;32m    434\u001b[0m \u001b[1;33m\u001b[0m\u001b[0m\n\u001b[0;32m    435\u001b[0m     \u001b[1;32mdef\u001b[0m \u001b[0mtable\u001b[0m\u001b[1;33m(\u001b[0m\u001b[0mself\u001b[0m\u001b[1;33m,\u001b[0m \u001b[0mtableName\u001b[0m\u001b[1;33m)\u001b[0m\u001b[1;33m:\u001b[0m\u001b[1;33m\u001b[0m\u001b[1;33m\u001b[0m\u001b[0m\n",
      "\u001b[1;32mD:\\Program Files (x86)\\Python\\lib\\site-packages\\pyspark\\sql\\session.py\u001b[0m in \u001b[0;36msql\u001b[1;34m(self, sqlQuery)\u001b[0m\n\u001b[0;32m    721\u001b[0m         \u001b[1;33m[\u001b[0m\u001b[0mRow\u001b[0m\u001b[1;33m(\u001b[0m\u001b[0mf1\u001b[0m\u001b[1;33m=\u001b[0m\u001b[1;36m1\u001b[0m\u001b[1;33m,\u001b[0m \u001b[0mf2\u001b[0m\u001b[1;33m=\u001b[0m\u001b[1;34m'row1'\u001b[0m\u001b[1;33m)\u001b[0m\u001b[1;33m,\u001b[0m \u001b[0mRow\u001b[0m\u001b[1;33m(\u001b[0m\u001b[0mf1\u001b[0m\u001b[1;33m=\u001b[0m\u001b[1;36m2\u001b[0m\u001b[1;33m,\u001b[0m \u001b[0mf2\u001b[0m\u001b[1;33m=\u001b[0m\u001b[1;34m'row2'\u001b[0m\u001b[1;33m)\u001b[0m\u001b[1;33m,\u001b[0m \u001b[0mRow\u001b[0m\u001b[1;33m(\u001b[0m\u001b[0mf1\u001b[0m\u001b[1;33m=\u001b[0m\u001b[1;36m3\u001b[0m\u001b[1;33m,\u001b[0m \u001b[0mf2\u001b[0m\u001b[1;33m=\u001b[0m\u001b[1;34m'row3'\u001b[0m\u001b[1;33m)\u001b[0m\u001b[1;33m]\u001b[0m\u001b[1;33m\u001b[0m\u001b[1;33m\u001b[0m\u001b[0m\n\u001b[0;32m    722\u001b[0m         \"\"\"\n\u001b[1;32m--> 723\u001b[1;33m         \u001b[1;32mreturn\u001b[0m \u001b[0mDataFrame\u001b[0m\u001b[1;33m(\u001b[0m\u001b[0mself\u001b[0m\u001b[1;33m.\u001b[0m\u001b[0m_jsparkSession\u001b[0m\u001b[1;33m.\u001b[0m\u001b[0msql\u001b[0m\u001b[1;33m(\u001b[0m\u001b[0msqlQuery\u001b[0m\u001b[1;33m)\u001b[0m\u001b[1;33m,\u001b[0m \u001b[0mself\u001b[0m\u001b[1;33m.\u001b[0m\u001b[0m_wrapped\u001b[0m\u001b[1;33m)\u001b[0m\u001b[1;33m\u001b[0m\u001b[1;33m\u001b[0m\u001b[0m\n\u001b[0m\u001b[0;32m    724\u001b[0m \u001b[1;33m\u001b[0m\u001b[0m\n\u001b[0;32m    725\u001b[0m     \u001b[1;32mdef\u001b[0m \u001b[0mtable\u001b[0m\u001b[1;33m(\u001b[0m\u001b[0mself\u001b[0m\u001b[1;33m,\u001b[0m \u001b[0mtableName\u001b[0m\u001b[1;33m)\u001b[0m\u001b[1;33m:\u001b[0m\u001b[1;33m\u001b[0m\u001b[1;33m\u001b[0m\u001b[0m\n",
      "\u001b[1;32mD:\\Program Files (x86)\\Python\\lib\\site-packages\\py4j\\java_gateway.py\u001b[0m in \u001b[0;36m__call__\u001b[1;34m(self, *args)\u001b[0m\n\u001b[0;32m   1302\u001b[0m \u001b[1;33m\u001b[0m\u001b[0m\n\u001b[0;32m   1303\u001b[0m         \u001b[0manswer\u001b[0m \u001b[1;33m=\u001b[0m \u001b[0mself\u001b[0m\u001b[1;33m.\u001b[0m\u001b[0mgateway_client\u001b[0m\u001b[1;33m.\u001b[0m\u001b[0msend_command\u001b[0m\u001b[1;33m(\u001b[0m\u001b[0mcommand\u001b[0m\u001b[1;33m)\u001b[0m\u001b[1;33m\u001b[0m\u001b[1;33m\u001b[0m\u001b[0m\n\u001b[1;32m-> 1304\u001b[1;33m         return_value = get_return_value(\n\u001b[0m\u001b[0;32m   1305\u001b[0m             answer, self.gateway_client, self.target_id, self.name)\n\u001b[0;32m   1306\u001b[0m \u001b[1;33m\u001b[0m\u001b[0m\n",
      "\u001b[1;32mD:\\Program Files (x86)\\Python\\lib\\site-packages\\pyspark\\sql\\utils.py\u001b[0m in \u001b[0;36mdeco\u001b[1;34m(*a, **kw)\u001b[0m\n\u001b[0;32m    115\u001b[0m                 \u001b[1;31m# Hide where the exception came from that shows a non-Pythonic\u001b[0m\u001b[1;33m\u001b[0m\u001b[1;33m\u001b[0m\u001b[1;33m\u001b[0m\u001b[0m\n\u001b[0;32m    116\u001b[0m                 \u001b[1;31m# JVM exception message.\u001b[0m\u001b[1;33m\u001b[0m\u001b[1;33m\u001b[0m\u001b[1;33m\u001b[0m\u001b[0m\n\u001b[1;32m--> 117\u001b[1;33m                 \u001b[1;32mraise\u001b[0m \u001b[0mconverted\u001b[0m \u001b[1;32mfrom\u001b[0m \u001b[1;32mNone\u001b[0m\u001b[1;33m\u001b[0m\u001b[1;33m\u001b[0m\u001b[0m\n\u001b[0m\u001b[0;32m    118\u001b[0m             \u001b[1;32melse\u001b[0m\u001b[1;33m:\u001b[0m\u001b[1;33m\u001b[0m\u001b[1;33m\u001b[0m\u001b[0m\n\u001b[0;32m    119\u001b[0m                 \u001b[1;32mraise\u001b[0m\u001b[1;33m\u001b[0m\u001b[1;33m\u001b[0m\u001b[0m\n",
      "\u001b[1;31mAnalysisException\u001b[0m: cannot resolve '`npi`' given input columns: []; line 1 pos 7;\n'Project ['npi]\n+- OneRowRelation\n"
     ]
    }
   ],
   "source": [
    "features_df = sqlContext.sql (\"select npi \")\n"
   ]
  },
  {
   "cell_type": "code",
   "execution_count": null,
   "metadata": {},
   "outputs": [],
   "source": [
    "SELECT npi\n",
    "FROM (\n",
    "    SELECT distinct npi , \"first_name\" , \"last_name\", \"city\" ,\"state\"\n",
    "    FROM payment_table\n",
    "    ) npis \n",
    "    \n",
    "LEFT JOIN  payments pay\n",
    "ON npis.\"NPPES_PROVIDER_FIRST_NAME\" = pay.\"Physician_First_Name\"\n",
    "AND npis.\"NPPES_PROVIDER_LAST_ORG_NAME\" = pay.\"Physician_Last_Name\"\n",
    "AND npis.\"NPPES_PROVIDER_CITY\" = pay.\"Recipient_City\"\n",
    "AND npis.\"NPPES_PROVIDER_STATE\" = pay.\"Recipient_State\"\n",
    "\n",
    "GROUP BY npi\n",
    ";"
   ]
  },
  {
   "cell_type": "code",
   "execution_count": null,
   "metadata": {},
   "outputs": [],
   "source": []
  },
  {
   "cell_type": "code",
   "execution_count": null,
   "metadata": {},
   "outputs": [],
   "source": []
  }
 ],
 "metadata": {
  "kernelspec": {
   "name": "python386jvsc74a57bd0617bd25a90f4d494eba9f700175ec3bab28d128b52129a0fdad9d74201035280",
   "display_name": "Python 3.8.6 64-bit"
  },
  "language_info": {
   "codemirror_mode": {
    "name": "ipython",
    "version": 3
   },
   "file_extension": ".py",
   "mimetype": "text/x-python",
   "name": "python",
   "nbconvert_exporter": "python",
   "pygments_lexer": "ipython3",
   "version": "3.8.6"
  },
  "metadata": {
   "interpreter": {
    "hash": "617bd25a90f4d494eba9f700175ec3bab28d128b52129a0fdad9d74201035280"
   }
  }
 },
 "nbformat": 4,
 "nbformat_minor": 2
}
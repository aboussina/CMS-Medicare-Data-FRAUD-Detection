{
 "cells": [
  {
   "cell_type": "code",
   "execution_count": 1,
   "metadata": {},
   "outputs": [
    {
     "output_type": "display_data",
     "data": {
      "text/html": "        <script type=\"text/javascript\">\n        window.PlotlyConfig = {MathJaxConfig: 'local'};\n        if (window.MathJax) {MathJax.Hub.Config({SVG: {font: \"STIX-Web\"}});}\n        if (typeof require !== 'undefined') {\n        require.undef(\"plotly\");\n        requirejs.config({\n            paths: {\n                'plotly': ['https://cdn.plot.ly/plotly-latest.min']\n            }\n        });\n        require(['plotly'], function(Plotly) {\n            window._Plotly = Plotly;\n        });\n        }\n        </script>\n        "
     },
     "metadata": {}
    },
    {
     "output_type": "execute_result",
     "data": {
      "text/plain": [
       "['home_health_agencies_2013',\n",
       " 'home_health_agencies_2014',\n",
       " 'hospice_providers_2014',\n",
       " 'hospital_general_info',\n",
       " 'inpatient_charges_2011',\n",
       " 'inpatient_charges_2012',\n",
       " 'inpatient_charges_2013',\n",
       " 'inpatient_charges_2014',\n",
       " 'inpatient_charges_2015',\n",
       " 'nursing_facilities_2013',\n",
       " 'nursing_facilities_2014',\n",
       " 'outpatient_charges_2011',\n",
       " 'outpatient_charges_2012',\n",
       " 'outpatient_charges_2013',\n",
       " 'outpatient_charges_2014',\n",
       " 'outpatient_charges_2015',\n",
       " 'part_d_prescriber_2014',\n",
       " 'physicians_and_other_supplier_2012',\n",
       " 'physicians_and_other_supplier_2013',\n",
       " 'physicians_and_other_supplier_2014',\n",
       " 'physicians_and_other_supplier_2015',\n",
       " 'referring_durable_medical_equip_2013',\n",
       " 'referring_durable_medical_equip_2014']"
      ]
     },
     "metadata": {},
     "execution_count": 1
    }
   ],
   "source": [
    "# Imports the Google Cloud client library\n",
    "\n",
    "import bq_helper\n",
    "from bq_helper import BigQueryHelper\n",
    "\n",
    "import os\n",
    "os.environ['GOOGLE_APPLICATION_CREDENTIALS'] = str('optical-aviary-293419-f44a1284c5a5.json')\n",
    "\n",
    "\n",
    "from plotly import __version__\n",
    "\n",
    "from plotly.offline import init_notebook_mode, iplot\n",
    "\n",
    "import plotly.graph_objs as go\n",
    "import matplotlib.pyplot as plt\n",
    "import chart_studio.plotly as py\n",
    "from plotly import tools\n",
    "\n",
    "\n",
    "import pandas as pd\n",
    "init_notebook_mode(connected=True)\n",
    "\n",
    "# https://github.com/SohierDane/BigQuery_Helper\n",
    "from bq_helper import BigQueryHelper\n",
    "medicare = bq_helper.BigQueryHelper(active_project=\"bigquery-public-data\", dataset_name=\"cms_medicare\")\n",
    "bq_assistant = BigQueryHelper(\"bigquery-public-data\", \"cms_medicare\")\n",
    "\n",
    "bq_assistant.list_tables()\n",
    "\n",
    "\n",
    "\n"
   ]
  },
  {
   "cell_type": "code",
   "execution_count": 2,
   "metadata": {},
   "outputs": [
    {
     "output_type": "execute_result",
     "data": {
      "text/plain": [
       "  state  total_claim_count_millions\n",
       "0    CA                       116.0\n",
       "1    FL                        91.0\n",
       "2    NY                        80.0\n",
       "3    TX                        76.0\n",
       "4    PA                        63.0\n",
       "5    OH                        53.0\n",
       "6    NC                        46.0\n",
       "7    IL                        43.0\n",
       "8    MI                        39.0\n",
       "9    GA                        39.0"
      ],
      "text/html": "<div>\n<style scoped>\n    .dataframe tbody tr th:only-of-type {\n        vertical-align: middle;\n    }\n\n    .dataframe tbody tr th {\n        vertical-align: top;\n    }\n\n    .dataframe thead th {\n        text-align: right;\n    }\n</style>\n<table border=\"1\" class=\"dataframe\">\n  <thead>\n    <tr style=\"text-align: right;\">\n      <th></th>\n      <th>state</th>\n      <th>total_claim_count_millions</th>\n    </tr>\n  </thead>\n  <tbody>\n    <tr>\n      <th>0</th>\n      <td>CA</td>\n      <td>116.0</td>\n    </tr>\n    <tr>\n      <th>1</th>\n      <td>FL</td>\n      <td>91.0</td>\n    </tr>\n    <tr>\n      <th>2</th>\n      <td>NY</td>\n      <td>80.0</td>\n    </tr>\n    <tr>\n      <th>3</th>\n      <td>TX</td>\n      <td>76.0</td>\n    </tr>\n    <tr>\n      <th>4</th>\n      <td>PA</td>\n      <td>63.0</td>\n    </tr>\n    <tr>\n      <th>5</th>\n      <td>OH</td>\n      <td>53.0</td>\n    </tr>\n    <tr>\n      <th>6</th>\n      <td>NC</td>\n      <td>46.0</td>\n    </tr>\n    <tr>\n      <th>7</th>\n      <td>IL</td>\n      <td>43.0</td>\n    </tr>\n    <tr>\n      <th>8</th>\n      <td>MI</td>\n      <td>39.0</td>\n    </tr>\n    <tr>\n      <th>9</th>\n      <td>GA</td>\n      <td>39.0</td>\n    </tr>\n  </tbody>\n</table>\n</div>"
     },
     "metadata": {},
     "execution_count": 2
    }
   ],
   "source": [
    "query1 = \"\"\"SELECT \n",
    "\n",
    "nppes_provider_state AS state,\n",
    "ROUND(SUM(total_claim_count) / 1e6) AS total_claim_count_millions\n",
    "FROM\n",
    "  `bigquery-public-data.medicare.part_d_prescriber_2014`\n",
    "GROUP BY\n",
    "  state\n",
    "ORDER BY\n",
    "  total_claim_count_millions DESC;\"\"\"\n",
    "total_count_query = medicare.query_to_pandas_safe(query1)\n",
    "total_count_query.head(10)"
   ]
  },
  {
   "cell_type": "code",
   "execution_count": 3,
   "metadata": {},
   "outputs": [
    {
     "output_type": "display_data",
     "data": {
      "application/vnd.plotly.v1+json": {
       "config": {
        "linkText": "Export to plot.ly",
        "plotlyServerURL": "https://plot.ly",
        "showLink": false
       },
       "data": [
        {
         "autocolorscale": false,
         "colorbar": {
          "title": {
           "text": "Total Claims in Different States"
          }
         },
         "colorscale": [
          [
           0,
           "rgb(255,248,206)"
          ],
          [
           0.2,
           "rgb(255,203,205)"
          ],
          [
           0.4,
           "rgb(255,155,164)"
          ],
          [
           0.6,
           "rgb(255,79,178)"
          ],
          [
           0.8,
           "rgb(183,15,132)"
          ],
          [
           1,
           "#008059"
          ]
         ],
         "locationmode": "USA-states",
         "locations": [
          "CA",
          "FL",
          "NY",
          "TX",
          "PA",
          "OH",
          "NC",
          "IL",
          "MI",
          "GA",
          "TN",
          "MO",
          "NJ",
          "IN",
          "VA",
          "AL",
          "KY",
          "MA",
          "PR",
          "LA",
          "SC",
          "WI",
          "AZ",
          "WA",
          "MN",
          "AR",
          "MS",
          "OK",
          "IA",
          "OR",
          "MD",
          "CO",
          "CT",
          "KS",
          "WV",
          "NE",
          "NV",
          "ME",
          "RI",
          "UT",
          "NM",
          "ID",
          "SD",
          "HI",
          "NH",
          "DE",
          "ND",
          "MT",
          "VT",
          "WY",
          "DC",
          "AK",
          "AS",
          "GU",
          "ZZ",
          "XX",
          "AP",
          "AA",
          "MP",
          "VI",
          "AE"
         ],
         "marker": {
          "line": {
           "color": "rgb(255,255,255)",
           "width": 2
          }
         },
         "text": [
          "CA",
          "FL",
          "NY",
          "TX",
          "PA",
          "OH",
          "NC",
          "IL",
          "MI",
          "GA",
          "TN",
          "MO",
          "NJ",
          "IN",
          "VA",
          "AL",
          "KY",
          "MA",
          "PR",
          "LA",
          "SC",
          "WI",
          "AZ",
          "WA",
          "MN",
          "AR",
          "MS",
          "OK",
          "IA",
          "OR",
          "MD",
          "CO",
          "CT",
          "KS",
          "WV",
          "NE",
          "NV",
          "ME",
          "RI",
          "UT",
          "NM",
          "ID",
          "SD",
          "HI",
          "NH",
          "DE",
          "ND",
          "MT",
          "VT",
          "WY",
          "DC",
          "AK",
          "AS",
          "GU",
          "ZZ",
          "XX",
          "AP",
          "AA",
          "MP",
          "VI",
          "AE"
         ],
         "type": "choropleth",
         "z": [
          116,
          91,
          80,
          76,
          63,
          53,
          46,
          43,
          39,
          39,
          35,
          31,
          29,
          28,
          26,
          26,
          26,
          26,
          25,
          22,
          22,
          21,
          20,
          19,
          17,
          16,
          16,
          15,
          15,
          14,
          14,
          13,
          13,
          12,
          11,
          8,
          7,
          6,
          6,
          6,
          6,
          5,
          4,
          4,
          4,
          3,
          3,
          3,
          2,
          1,
          1,
          1,
          0,
          0,
          0,
          0,
          0,
          0,
          0,
          0,
          0
         ]
        }
       ],
       "layout": {
        "geo": {
         "lakecolor": "rgb(255, 255, 255)",
         "projection": {
          "type": "albers usa"
         },
         "scope": "usa",
         "showlakes": true
        },
        "template": {
         "data": {
          "bar": [
           {
            "error_x": {
             "color": "#2a3f5f"
            },
            "error_y": {
             "color": "#2a3f5f"
            },
            "marker": {
             "line": {
              "color": "#E5ECF6",
              "width": 0.5
             }
            },
            "type": "bar"
           }
          ],
          "barpolar": [
           {
            "marker": {
             "line": {
              "color": "#E5ECF6",
              "width": 0.5
             }
            },
            "type": "barpolar"
           }
          ],
          "carpet": [
           {
            "aaxis": {
             "endlinecolor": "#2a3f5f",
             "gridcolor": "white",
             "linecolor": "white",
             "minorgridcolor": "white",
             "startlinecolor": "#2a3f5f"
            },
            "baxis": {
             "endlinecolor": "#2a3f5f",
             "gridcolor": "white",
             "linecolor": "white",
             "minorgridcolor": "white",
             "startlinecolor": "#2a3f5f"
            },
            "type": "carpet"
           }
          ],
          "choropleth": [
           {
            "colorbar": {
             "outlinewidth": 0,
             "ticks": ""
            },
            "type": "choropleth"
           }
          ],
          "contour": [
           {
            "colorbar": {
             "outlinewidth": 0,
             "ticks": ""
            },
            "colorscale": [
             [
              0,
              "#0d0887"
             ],
             [
              0.1111111111111111,
              "#46039f"
             ],
             [
              0.2222222222222222,
              "#7201a8"
             ],
             [
              0.3333333333333333,
              "#9c179e"
             ],
             [
              0.4444444444444444,
              "#bd3786"
             ],
             [
              0.5555555555555556,
              "#d8576b"
             ],
             [
              0.6666666666666666,
              "#ed7953"
             ],
             [
              0.7777777777777778,
              "#fb9f3a"
             ],
             [
              0.8888888888888888,
              "#fdca26"
             ],
             [
              1,
              "#f0f921"
             ]
            ],
            "type": "contour"
           }
          ],
          "contourcarpet": [
           {
            "colorbar": {
             "outlinewidth": 0,
             "ticks": ""
            },
            "type": "contourcarpet"
           }
          ],
          "heatmap": [
           {
            "colorbar": {
             "outlinewidth": 0,
             "ticks": ""
            },
            "colorscale": [
             [
              0,
              "#0d0887"
             ],
             [
              0.1111111111111111,
              "#46039f"
             ],
             [
              0.2222222222222222,
              "#7201a8"
             ],
             [
              0.3333333333333333,
              "#9c179e"
             ],
             [
              0.4444444444444444,
              "#bd3786"
             ],
             [
              0.5555555555555556,
              "#d8576b"
             ],
             [
              0.6666666666666666,
              "#ed7953"
             ],
             [
              0.7777777777777778,
              "#fb9f3a"
             ],
             [
              0.8888888888888888,
              "#fdca26"
             ],
             [
              1,
              "#f0f921"
             ]
            ],
            "type": "heatmap"
           }
          ],
          "heatmapgl": [
           {
            "colorbar": {
             "outlinewidth": 0,
             "ticks": ""
            },
            "colorscale": [
             [
              0,
              "#0d0887"
             ],
             [
              0.1111111111111111,
              "#46039f"
             ],
             [
              0.2222222222222222,
              "#7201a8"
             ],
             [
              0.3333333333333333,
              "#9c179e"
             ],
             [
              0.4444444444444444,
              "#bd3786"
             ],
             [
              0.5555555555555556,
              "#d8576b"
             ],
             [
              0.6666666666666666,
              "#ed7953"
             ],
             [
              0.7777777777777778,
              "#fb9f3a"
             ],
             [
              0.8888888888888888,
              "#fdca26"
             ],
             [
              1,
              "#f0f921"
             ]
            ],
            "type": "heatmapgl"
           }
          ],
          "histogram": [
           {
            "marker": {
             "colorbar": {
              "outlinewidth": 0,
              "ticks": ""
             }
            },
            "type": "histogram"
           }
          ],
          "histogram2d": [
           {
            "colorbar": {
             "outlinewidth": 0,
             "ticks": ""
            },
            "colorscale": [
             [
              0,
              "#0d0887"
             ],
             [
              0.1111111111111111,
              "#46039f"
             ],
             [
              0.2222222222222222,
              "#7201a8"
             ],
             [
              0.3333333333333333,
              "#9c179e"
             ],
             [
              0.4444444444444444,
              "#bd3786"
             ],
             [
              0.5555555555555556,
              "#d8576b"
             ],
             [
              0.6666666666666666,
              "#ed7953"
             ],
             [
              0.7777777777777778,
              "#fb9f3a"
             ],
             [
              0.8888888888888888,
              "#fdca26"
             ],
             [
              1,
              "#f0f921"
             ]
            ],
            "type": "histogram2d"
           }
          ],
          "histogram2dcontour": [
           {
            "colorbar": {
             "outlinewidth": 0,
             "ticks": ""
            },
            "colorscale": [
             [
              0,
              "#0d0887"
             ],
             [
              0.1111111111111111,
              "#46039f"
             ],
             [
              0.2222222222222222,
              "#7201a8"
             ],
             [
              0.3333333333333333,
              "#9c179e"
             ],
             [
              0.4444444444444444,
              "#bd3786"
             ],
             [
              0.5555555555555556,
              "#d8576b"
             ],
             [
              0.6666666666666666,
              "#ed7953"
             ],
             [
              0.7777777777777778,
              "#fb9f3a"
             ],
             [
              0.8888888888888888,
              "#fdca26"
             ],
             [
              1,
              "#f0f921"
             ]
            ],
            "type": "histogram2dcontour"
           }
          ],
          "mesh3d": [
           {
            "colorbar": {
             "outlinewidth": 0,
             "ticks": ""
            },
            "type": "mesh3d"
           }
          ],
          "parcoords": [
           {
            "line": {
             "colorbar": {
              "outlinewidth": 0,
              "ticks": ""
             }
            },
            "type": "parcoords"
           }
          ],
          "pie": [
           {
            "automargin": true,
            "type": "pie"
           }
          ],
          "scatter": [
           {
            "marker": {
             "colorbar": {
              "outlinewidth": 0,
              "ticks": ""
             }
            },
            "type": "scatter"
           }
          ],
          "scatter3d": [
           {
            "line": {
             "colorbar": {
              "outlinewidth": 0,
              "ticks": ""
             }
            },
            "marker": {
             "colorbar": {
              "outlinewidth": 0,
              "ticks": ""
             }
            },
            "type": "scatter3d"
           }
          ],
          "scattercarpet": [
           {
            "marker": {
             "colorbar": {
              "outlinewidth": 0,
              "ticks": ""
             }
            },
            "type": "scattercarpet"
           }
          ],
          "scattergeo": [
           {
            "marker": {
             "colorbar": {
              "outlinewidth": 0,
              "ticks": ""
             }
            },
            "type": "scattergeo"
           }
          ],
          "scattergl": [
           {
            "marker": {
             "colorbar": {
              "outlinewidth": 0,
              "ticks": ""
             }
            },
            "type": "scattergl"
           }
          ],
          "scattermapbox": [
           {
            "marker": {
             "colorbar": {
              "outlinewidth": 0,
              "ticks": ""
             }
            },
            "type": "scattermapbox"
           }
          ],
          "scatterpolar": [
           {
            "marker": {
             "colorbar": {
              "outlinewidth": 0,
              "ticks": ""
             }
            },
            "type": "scatterpolar"
           }
          ],
          "scatterpolargl": [
           {
            "marker": {
             "colorbar": {
              "outlinewidth": 0,
              "ticks": ""
             }
            },
            "type": "scatterpolargl"
           }
          ],
          "scatterternary": [
           {
            "marker": {
             "colorbar": {
              "outlinewidth": 0,
              "ticks": ""
             }
            },
            "type": "scatterternary"
           }
          ],
          "surface": [
           {
            "colorbar": {
             "outlinewidth": 0,
             "ticks": ""
            },
            "colorscale": [
             [
              0,
              "#0d0887"
             ],
             [
              0.1111111111111111,
              "#46039f"
             ],
             [
              0.2222222222222222,
              "#7201a8"
             ],
             [
              0.3333333333333333,
              "#9c179e"
             ],
             [
              0.4444444444444444,
              "#bd3786"
             ],
             [
              0.5555555555555556,
              "#d8576b"
             ],
             [
              0.6666666666666666,
              "#ed7953"
             ],
             [
              0.7777777777777778,
              "#fb9f3a"
             ],
             [
              0.8888888888888888,
              "#fdca26"
             ],
             [
              1,
              "#f0f921"
             ]
            ],
            "type": "surface"
           }
          ],
          "table": [
           {
            "cells": {
             "fill": {
              "color": "#EBF0F8"
             },
             "line": {
              "color": "white"
             }
            },
            "header": {
             "fill": {
              "color": "#C8D4E3"
             },
             "line": {
              "color": "white"
             }
            },
            "type": "table"
           }
          ]
         },
         "layout": {
          "annotationdefaults": {
           "arrowcolor": "#2a3f5f",
           "arrowhead": 0,
           "arrowwidth": 1
          },
          "autotypenumbers": "strict",
          "coloraxis": {
           "colorbar": {
            "outlinewidth": 0,
            "ticks": ""
           }
          },
          "colorscale": {
           "diverging": [
            [
             0,
             "#8e0152"
            ],
            [
             0.1,
             "#c51b7d"
            ],
            [
             0.2,
             "#de77ae"
            ],
            [
             0.3,
             "#f1b6da"
            ],
            [
             0.4,
             "#fde0ef"
            ],
            [
             0.5,
             "#f7f7f7"
            ],
            [
             0.6,
             "#e6f5d0"
            ],
            [
             0.7,
             "#b8e186"
            ],
            [
             0.8,
             "#7fbc41"
            ],
            [
             0.9,
             "#4d9221"
            ],
            [
             1,
             "#276419"
            ]
           ],
           "sequential": [
            [
             0,
             "#0d0887"
            ],
            [
             0.1111111111111111,
             "#46039f"
            ],
            [
             0.2222222222222222,
             "#7201a8"
            ],
            [
             0.3333333333333333,
             "#9c179e"
            ],
            [
             0.4444444444444444,
             "#bd3786"
            ],
            [
             0.5555555555555556,
             "#d8576b"
            ],
            [
             0.6666666666666666,
             "#ed7953"
            ],
            [
             0.7777777777777778,
             "#fb9f3a"
            ],
            [
             0.8888888888888888,
             "#fdca26"
            ],
            [
             1,
             "#f0f921"
            ]
           ],
           "sequentialminus": [
            [
             0,
             "#0d0887"
            ],
            [
             0.1111111111111111,
             "#46039f"
            ],
            [
             0.2222222222222222,
             "#7201a8"
            ],
            [
             0.3333333333333333,
             "#9c179e"
            ],
            [
             0.4444444444444444,
             "#bd3786"
            ],
            [
             0.5555555555555556,
             "#d8576b"
            ],
            [
             0.6666666666666666,
             "#ed7953"
            ],
            [
             0.7777777777777778,
             "#fb9f3a"
            ],
            [
             0.8888888888888888,
             "#fdca26"
            ],
            [
             1,
             "#f0f921"
            ]
           ]
          },
          "colorway": [
           "#636efa",
           "#EF553B",
           "#00cc96",
           "#ab63fa",
           "#FFA15A",
           "#19d3f3",
           "#FF6692",
           "#B6E880",
           "#FF97FF",
           "#FECB52"
          ],
          "font": {
           "color": "#2a3f5f"
          },
          "geo": {
           "bgcolor": "white",
           "lakecolor": "white",
           "landcolor": "#E5ECF6",
           "showlakes": true,
           "showland": true,
           "subunitcolor": "white"
          },
          "hoverlabel": {
           "align": "left"
          },
          "hovermode": "closest",
          "mapbox": {
           "style": "light"
          },
          "paper_bgcolor": "white",
          "plot_bgcolor": "#E5ECF6",
          "polar": {
           "angularaxis": {
            "gridcolor": "white",
            "linecolor": "white",
            "ticks": ""
           },
           "bgcolor": "#E5ECF6",
           "radialaxis": {
            "gridcolor": "white",
            "linecolor": "white",
            "ticks": ""
           }
          },
          "scene": {
           "xaxis": {
            "backgroundcolor": "#E5ECF6",
            "gridcolor": "white",
            "gridwidth": 2,
            "linecolor": "white",
            "showbackground": true,
            "ticks": "",
            "zerolinecolor": "white"
           },
           "yaxis": {
            "backgroundcolor": "#E5ECF6",
            "gridcolor": "white",
            "gridwidth": 2,
            "linecolor": "white",
            "showbackground": true,
            "ticks": "",
            "zerolinecolor": "white"
           },
           "zaxis": {
            "backgroundcolor": "#E5ECF6",
            "gridcolor": "white",
            "gridwidth": 2,
            "linecolor": "white",
            "showbackground": true,
            "ticks": "",
            "zerolinecolor": "white"
           }
          },
          "shapedefaults": {
           "line": {
            "color": "#2a3f5f"
           }
          },
          "ternary": {
           "aaxis": {
            "gridcolor": "white",
            "linecolor": "white",
            "ticks": ""
           },
           "baxis": {
            "gridcolor": "white",
            "linecolor": "white",
            "ticks": ""
           },
           "bgcolor": "#E5ECF6",
           "caxis": {
            "gridcolor": "white",
            "linecolor": "white",
            "ticks": ""
           }
          },
          "title": {
           "x": 0.05
          },
          "xaxis": {
           "automargin": true,
           "gridcolor": "white",
           "linecolor": "white",
           "ticks": "",
           "title": {
            "standoff": 15
           },
           "zerolinecolor": "white",
           "zerolinewidth": 2
          },
          "yaxis": {
           "automargin": true,
           "gridcolor": "white",
           "linecolor": "white",
           "ticks": "",
           "title": {
            "standoff": 15
           },
           "zerolinecolor": "white",
           "zerolinewidth": 2
          }
         }
        },
        "title": {
         "text": "Total Claims in Different States"
        }
       }
      },
      "text/html": "<div>                            <div id=\"f4209e4c-4fb3-4bfe-a3b4-88bd1f58ce2c\" class=\"plotly-graph-div\" style=\"height:525px; width:100%;\"></div>            <script type=\"text/javascript\">                require([\"plotly\"], function(Plotly) {                    window.PLOTLYENV=window.PLOTLYENV || {};                                    if (document.getElementById(\"f4209e4c-4fb3-4bfe-a3b4-88bd1f58ce2c\")) {                    Plotly.newPlot(                        \"f4209e4c-4fb3-4bfe-a3b4-88bd1f58ce2c\",                        [{\"autocolorscale\": false, \"colorbar\": {\"title\": {\"text\": \"Total Claims in Different States\"}}, \"colorscale\": [[0.0, \"rgb(255,248,206)\"], [0.2, \"rgb(255,203,205)\"], [0.4, \"rgb(255,155,164)\"], [0.6, \"rgb(255,79,178)\"], [0.8, \"rgb(183,15,132)\"], [1, \"#008059\"]], \"locationmode\": \"USA-states\", \"locations\": [\"CA\", \"FL\", \"NY\", \"TX\", \"PA\", \"OH\", \"NC\", \"IL\", \"MI\", \"GA\", \"TN\", \"MO\", \"NJ\", \"IN\", \"VA\", \"AL\", \"KY\", \"MA\", \"PR\", \"LA\", \"SC\", \"WI\", \"AZ\", \"WA\", \"MN\", \"AR\", \"MS\", \"OK\", \"IA\", \"OR\", \"MD\", \"CO\", \"CT\", \"KS\", \"WV\", \"NE\", \"NV\", \"ME\", \"RI\", \"UT\", \"NM\", \"ID\", \"SD\", \"HI\", \"NH\", \"DE\", \"ND\", \"MT\", \"VT\", \"WY\", \"DC\", \"AK\", \"AS\", \"GU\", \"ZZ\", \"XX\", \"AP\", \"AA\", \"MP\", \"VI\", \"AE\"], \"marker\": {\"line\": {\"color\": \"rgb(255,255,255)\", \"width\": 2}}, \"text\": [\"CA\", \"FL\", \"NY\", \"TX\", \"PA\", \"OH\", \"NC\", \"IL\", \"MI\", \"GA\", \"TN\", \"MO\", \"NJ\", \"IN\", \"VA\", \"AL\", \"KY\", \"MA\", \"PR\", \"LA\", \"SC\", \"WI\", \"AZ\", \"WA\", \"MN\", \"AR\", \"MS\", \"OK\", \"IA\", \"OR\", \"MD\", \"CO\", \"CT\", \"KS\", \"WV\", \"NE\", \"NV\", \"ME\", \"RI\", \"UT\", \"NM\", \"ID\", \"SD\", \"HI\", \"NH\", \"DE\", \"ND\", \"MT\", \"VT\", \"WY\", \"DC\", \"AK\", \"AS\", \"GU\", \"ZZ\", \"XX\", \"AP\", \"AA\", \"MP\", \"VI\", \"AE\"], \"type\": \"choropleth\", \"z\": [116.0, 91.0, 80.0, 76.0, 63.0, 53.0, 46.0, 43.0, 39.0, 39.0, 35.0, 31.0, 29.0, 28.0, 26.0, 26.0, 26.0, 26.0, 25.0, 22.0, 22.0, 21.0, 20.0, 19.0, 17.0, 16.0, 16.0, 15.0, 15.0, 14.0, 14.0, 13.0, 13.0, 12.0, 11.0, 8.0, 7.0, 6.0, 6.0, 6.0, 6.0, 5.0, 4.0, 4.0, 4.0, 3.0, 3.0, 3.0, 2.0, 1.0, 1.0, 1.0, 0.0, 0.0, 0.0, 0.0, 0.0, 0.0, 0.0, 0.0, 0.0]}],                        {\"geo\": {\"lakecolor\": \"rgb(255, 255, 255)\", \"projection\": {\"type\": \"albers usa\"}, \"scope\": \"usa\", \"showlakes\": true}, \"template\": {\"data\": {\"bar\": [{\"error_x\": {\"color\": \"#2a3f5f\"}, \"error_y\": {\"color\": \"#2a3f5f\"}, \"marker\": {\"line\": {\"color\": \"#E5ECF6\", \"width\": 0.5}}, \"type\": \"bar\"}], \"barpolar\": [{\"marker\": {\"line\": {\"color\": \"#E5ECF6\", \"width\": 0.5}}, \"type\": \"barpolar\"}], \"carpet\": [{\"aaxis\": {\"endlinecolor\": \"#2a3f5f\", \"gridcolor\": \"white\", \"linecolor\": \"white\", \"minorgridcolor\": \"white\", \"startlinecolor\": \"#2a3f5f\"}, \"baxis\": {\"endlinecolor\": \"#2a3f5f\", \"gridcolor\": \"white\", \"linecolor\": \"white\", \"minorgridcolor\": \"white\", \"startlinecolor\": \"#2a3f5f\"}, \"type\": \"carpet\"}], \"choropleth\": [{\"colorbar\": {\"outlinewidth\": 0, \"ticks\": \"\"}, \"type\": \"choropleth\"}], \"contour\": [{\"colorbar\": {\"outlinewidth\": 0, \"ticks\": \"\"}, \"colorscale\": [[0.0, \"#0d0887\"], [0.1111111111111111, \"#46039f\"], [0.2222222222222222, \"#7201a8\"], [0.3333333333333333, \"#9c179e\"], [0.4444444444444444, \"#bd3786\"], [0.5555555555555556, \"#d8576b\"], [0.6666666666666666, \"#ed7953\"], [0.7777777777777778, \"#fb9f3a\"], [0.8888888888888888, \"#fdca26\"], [1.0, \"#f0f921\"]], \"type\": \"contour\"}], \"contourcarpet\": [{\"colorbar\": {\"outlinewidth\": 0, \"ticks\": \"\"}, \"type\": \"contourcarpet\"}], \"heatmap\": [{\"colorbar\": {\"outlinewidth\": 0, \"ticks\": \"\"}, \"colorscale\": [[0.0, \"#0d0887\"], [0.1111111111111111, \"#46039f\"], [0.2222222222222222, \"#7201a8\"], [0.3333333333333333, \"#9c179e\"], [0.4444444444444444, \"#bd3786\"], [0.5555555555555556, \"#d8576b\"], [0.6666666666666666, \"#ed7953\"], [0.7777777777777778, \"#fb9f3a\"], [0.8888888888888888, \"#fdca26\"], [1.0, \"#f0f921\"]], \"type\": \"heatmap\"}], \"heatmapgl\": [{\"colorbar\": {\"outlinewidth\": 0, \"ticks\": \"\"}, \"colorscale\": [[0.0, \"#0d0887\"], [0.1111111111111111, \"#46039f\"], [0.2222222222222222, \"#7201a8\"], [0.3333333333333333, \"#9c179e\"], [0.4444444444444444, \"#bd3786\"], [0.5555555555555556, \"#d8576b\"], [0.6666666666666666, \"#ed7953\"], [0.7777777777777778, \"#fb9f3a\"], [0.8888888888888888, \"#fdca26\"], [1.0, \"#f0f921\"]], \"type\": \"heatmapgl\"}], \"histogram\": [{\"marker\": {\"colorbar\": {\"outlinewidth\": 0, \"ticks\": \"\"}}, \"type\": \"histogram\"}], \"histogram2d\": [{\"colorbar\": {\"outlinewidth\": 0, \"ticks\": \"\"}, \"colorscale\": [[0.0, \"#0d0887\"], [0.1111111111111111, \"#46039f\"], [0.2222222222222222, \"#7201a8\"], [0.3333333333333333, \"#9c179e\"], [0.4444444444444444, \"#bd3786\"], [0.5555555555555556, \"#d8576b\"], [0.6666666666666666, \"#ed7953\"], [0.7777777777777778, \"#fb9f3a\"], [0.8888888888888888, \"#fdca26\"], [1.0, \"#f0f921\"]], \"type\": \"histogram2d\"}], \"histogram2dcontour\": [{\"colorbar\": {\"outlinewidth\": 0, \"ticks\": \"\"}, \"colorscale\": [[0.0, \"#0d0887\"], [0.1111111111111111, \"#46039f\"], [0.2222222222222222, \"#7201a8\"], [0.3333333333333333, \"#9c179e\"], [0.4444444444444444, \"#bd3786\"], [0.5555555555555556, \"#d8576b\"], [0.6666666666666666, \"#ed7953\"], [0.7777777777777778, \"#fb9f3a\"], [0.8888888888888888, \"#fdca26\"], [1.0, \"#f0f921\"]], \"type\": \"histogram2dcontour\"}], \"mesh3d\": [{\"colorbar\": {\"outlinewidth\": 0, \"ticks\": \"\"}, \"type\": \"mesh3d\"}], \"parcoords\": [{\"line\": {\"colorbar\": {\"outlinewidth\": 0, \"ticks\": \"\"}}, \"type\": \"parcoords\"}], \"pie\": [{\"automargin\": true, \"type\": \"pie\"}], \"scatter\": [{\"marker\": {\"colorbar\": {\"outlinewidth\": 0, \"ticks\": \"\"}}, \"type\": \"scatter\"}], \"scatter3d\": [{\"line\": {\"colorbar\": {\"outlinewidth\": 0, \"ticks\": \"\"}}, \"marker\": {\"colorbar\": {\"outlinewidth\": 0, \"ticks\": \"\"}}, \"type\": \"scatter3d\"}], \"scattercarpet\": [{\"marker\": {\"colorbar\": {\"outlinewidth\": 0, \"ticks\": \"\"}}, \"type\": \"scattercarpet\"}], \"scattergeo\": [{\"marker\": {\"colorbar\": {\"outlinewidth\": 0, \"ticks\": \"\"}}, \"type\": \"scattergeo\"}], \"scattergl\": [{\"marker\": {\"colorbar\": {\"outlinewidth\": 0, \"ticks\": \"\"}}, \"type\": \"scattergl\"}], \"scattermapbox\": [{\"marker\": {\"colorbar\": {\"outlinewidth\": 0, \"ticks\": \"\"}}, \"type\": \"scattermapbox\"}], \"scatterpolar\": [{\"marker\": {\"colorbar\": {\"outlinewidth\": 0, \"ticks\": \"\"}}, \"type\": \"scatterpolar\"}], \"scatterpolargl\": [{\"marker\": {\"colorbar\": {\"outlinewidth\": 0, \"ticks\": \"\"}}, \"type\": \"scatterpolargl\"}], \"scatterternary\": [{\"marker\": {\"colorbar\": {\"outlinewidth\": 0, \"ticks\": \"\"}}, \"type\": \"scatterternary\"}], \"surface\": [{\"colorbar\": {\"outlinewidth\": 0, \"ticks\": \"\"}, \"colorscale\": [[0.0, \"#0d0887\"], [0.1111111111111111, \"#46039f\"], [0.2222222222222222, \"#7201a8\"], [0.3333333333333333, \"#9c179e\"], [0.4444444444444444, \"#bd3786\"], [0.5555555555555556, \"#d8576b\"], [0.6666666666666666, \"#ed7953\"], [0.7777777777777778, \"#fb9f3a\"], [0.8888888888888888, \"#fdca26\"], [1.0, \"#f0f921\"]], \"type\": \"surface\"}], \"table\": [{\"cells\": {\"fill\": {\"color\": \"#EBF0F8\"}, \"line\": {\"color\": \"white\"}}, \"header\": {\"fill\": {\"color\": \"#C8D4E3\"}, \"line\": {\"color\": \"white\"}}, \"type\": \"table\"}]}, \"layout\": {\"annotationdefaults\": {\"arrowcolor\": \"#2a3f5f\", \"arrowhead\": 0, \"arrowwidth\": 1}, \"autotypenumbers\": \"strict\", \"coloraxis\": {\"colorbar\": {\"outlinewidth\": 0, \"ticks\": \"\"}}, \"colorscale\": {\"diverging\": [[0, \"#8e0152\"], [0.1, \"#c51b7d\"], [0.2, \"#de77ae\"], [0.3, \"#f1b6da\"], [0.4, \"#fde0ef\"], [0.5, \"#f7f7f7\"], [0.6, \"#e6f5d0\"], [0.7, \"#b8e186\"], [0.8, \"#7fbc41\"], [0.9, \"#4d9221\"], [1, \"#276419\"]], \"sequential\": [[0.0, \"#0d0887\"], [0.1111111111111111, \"#46039f\"], [0.2222222222222222, \"#7201a8\"], [0.3333333333333333, \"#9c179e\"], [0.4444444444444444, \"#bd3786\"], [0.5555555555555556, \"#d8576b\"], [0.6666666666666666, \"#ed7953\"], [0.7777777777777778, \"#fb9f3a\"], [0.8888888888888888, \"#fdca26\"], [1.0, \"#f0f921\"]], \"sequentialminus\": [[0.0, \"#0d0887\"], [0.1111111111111111, \"#46039f\"], [0.2222222222222222, \"#7201a8\"], [0.3333333333333333, \"#9c179e\"], [0.4444444444444444, \"#bd3786\"], [0.5555555555555556, \"#d8576b\"], [0.6666666666666666, \"#ed7953\"], [0.7777777777777778, \"#fb9f3a\"], [0.8888888888888888, \"#fdca26\"], [1.0, \"#f0f921\"]]}, \"colorway\": [\"#636efa\", \"#EF553B\", \"#00cc96\", \"#ab63fa\", \"#FFA15A\", \"#19d3f3\", \"#FF6692\", \"#B6E880\", \"#FF97FF\", \"#FECB52\"], \"font\": {\"color\": \"#2a3f5f\"}, \"geo\": {\"bgcolor\": \"white\", \"lakecolor\": \"white\", \"landcolor\": \"#E5ECF6\", \"showlakes\": true, \"showland\": true, \"subunitcolor\": \"white\"}, \"hoverlabel\": {\"align\": \"left\"}, \"hovermode\": \"closest\", \"mapbox\": {\"style\": \"light\"}, \"paper_bgcolor\": \"white\", \"plot_bgcolor\": \"#E5ECF6\", \"polar\": {\"angularaxis\": {\"gridcolor\": \"white\", \"linecolor\": \"white\", \"ticks\": \"\"}, \"bgcolor\": \"#E5ECF6\", \"radialaxis\": {\"gridcolor\": \"white\", \"linecolor\": \"white\", \"ticks\": \"\"}}, \"scene\": {\"xaxis\": {\"backgroundcolor\": \"#E5ECF6\", \"gridcolor\": \"white\", \"gridwidth\": 2, \"linecolor\": \"white\", \"showbackground\": true, \"ticks\": \"\", \"zerolinecolor\": \"white\"}, \"yaxis\": {\"backgroundcolor\": \"#E5ECF6\", \"gridcolor\": \"white\", \"gridwidth\": 2, \"linecolor\": \"white\", \"showbackground\": true, \"ticks\": \"\", \"zerolinecolor\": \"white\"}, \"zaxis\": {\"backgroundcolor\": \"#E5ECF6\", \"gridcolor\": \"white\", \"gridwidth\": 2, \"linecolor\": \"white\", \"showbackground\": true, \"ticks\": \"\", \"zerolinecolor\": \"white\"}}, \"shapedefaults\": {\"line\": {\"color\": \"#2a3f5f\"}}, \"ternary\": {\"aaxis\": {\"gridcolor\": \"white\", \"linecolor\": \"white\", \"ticks\": \"\"}, \"baxis\": {\"gridcolor\": \"white\", \"linecolor\": \"white\", \"ticks\": \"\"}, \"bgcolor\": \"#E5ECF6\", \"caxis\": {\"gridcolor\": \"white\", \"linecolor\": \"white\", \"ticks\": \"\"}}, \"title\": {\"x\": 0.05}, \"xaxis\": {\"automargin\": true, \"gridcolor\": \"white\", \"linecolor\": \"white\", \"ticks\": \"\", \"title\": {\"standoff\": 15}, \"zerolinecolor\": \"white\", \"zerolinewidth\": 2}, \"yaxis\": {\"automargin\": true, \"gridcolor\": \"white\", \"linecolor\": \"white\", \"ticks\": \"\", \"title\": {\"standoff\": 15}, \"zerolinecolor\": \"white\", \"zerolinewidth\": 2}}}, \"title\": {\"text\": \"Total Claims in Different States\"}},                        {\"responsive\": true}                    ).then(function(){\n                            \nvar gd = document.getElementById('f4209e4c-4fb3-4bfe-a3b4-88bd1f58ce2c');\nvar x = new MutationObserver(function (mutations, observer) {{\n        var display = window.getComputedStyle(gd).display;\n        if (!display || display === 'none') {{\n            console.log([gd, 'removed!']);\n            Plotly.purge(gd);\n            observer.disconnect();\n        }}\n}});\n\n// Listen for the removal of the full notebook cells\nvar notebookContainer = gd.closest('#notebook-container');\nif (notebookContainer) {{\n    x.observe(notebookContainer, {childList: true});\n}}\n\n// Listen for the clearing of the current output cell\nvar outputEl = gd.closest('.output');\nif (outputEl) {{\n    x.observe(outputEl, {childList: true});\n}}\n\n                        })                };                });            </script>        </div>"
     },
     "metadata": {}
    }
   ],
   "source": [
    "#scl = [[0.0, 'rgb(248,255,206)'],[0.2, 'rgb(203,255,205)'],[0.4, 'rgb(155,255,164)'], [0.6, 'rgb(79,255,178)'],[0.8, 'rgb(15,183,132)'], [1, '#008059']]\n",
    "scl = [[0.0, 'rgb(255,248,206)'],[0.2, 'rgb(255,203,205)'],[0.4, 'rgb(255,155,164)'], [0.6, 'rgb(255,79,178)'],[0.8, 'rgb(183,15,132)'], [1, '#008059']]\n",
    "data = [ dict(\n",
    "        type='choropleth',\n",
    "        colorscale = scl,\n",
    "        autocolorscale = False,\n",
    "        locations = total_count_query.state,\n",
    "        z = total_count_query.total_claim_count_millions,\n",
    "        locationmode = 'USA-states',\n",
    "        text = total_count_query.state,\n",
    "        marker = dict(\n",
    "            line = dict (\n",
    "                color = 'rgb(255,255,255)',\n",
    "                width = 2\n",
    "            ) ),\n",
    "        colorbar = dict(\n",
    "            title = \"Total Claims in Different States\")\n",
    "        )\n",
    "       ]\n",
    "\n",
    "layout = dict(\n",
    "        title = 'Total Claims in Different States',\n",
    "        geo = dict(\n",
    "            scope='usa',\n",
    "            projection=dict( type='albers usa' ),\n",
    "            showlakes = True,\n",
    "            lakecolor = 'rgb(255, 255, 255)'),\n",
    "             )\n",
    "    \n",
    "fig = dict( data=data, layout=layout )\n",
    "iplot( fig, filename='d3-cloropleth-map' )"
   ]
  },
  {
   "cell_type": "code",
   "execution_count": 4,
   "metadata": {},
   "outputs": [
    {
     "output_type": "execute_result",
     "data": {
      "text/plain": [
       "              drug  total_drug_count_millions\n",
       "0          SOVALDI                     2486.0\n",
       "1           NEXIUM                     2422.0\n",
       "2          CRESTOR                     2396.0\n",
       "3          ABILIFY                     2247.0\n",
       "4    ADVAIR DISKUS                     2065.0\n",
       "5          SPIRIVA                     1957.0\n",
       "6  LANTUS SOLOSTAR                     1806.0\n",
       "7          JANUVIA                     1592.0\n",
       "8           LANTUS                     1512.0\n",
       "9         REVLIMID                     1501.0"
      ],
      "text/html": "<div>\n<style scoped>\n    .dataframe tbody tr th:only-of-type {\n        vertical-align: middle;\n    }\n\n    .dataframe tbody tr th {\n        vertical-align: top;\n    }\n\n    .dataframe thead th {\n        text-align: right;\n    }\n</style>\n<table border=\"1\" class=\"dataframe\">\n  <thead>\n    <tr style=\"text-align: right;\">\n      <th></th>\n      <th>drug</th>\n      <th>total_drug_count_millions</th>\n    </tr>\n  </thead>\n  <tbody>\n    <tr>\n      <th>0</th>\n      <td>SOVALDI</td>\n      <td>2486.0</td>\n    </tr>\n    <tr>\n      <th>1</th>\n      <td>NEXIUM</td>\n      <td>2422.0</td>\n    </tr>\n    <tr>\n      <th>2</th>\n      <td>CRESTOR</td>\n      <td>2396.0</td>\n    </tr>\n    <tr>\n      <th>3</th>\n      <td>ABILIFY</td>\n      <td>2247.0</td>\n    </tr>\n    <tr>\n      <th>4</th>\n      <td>ADVAIR DISKUS</td>\n      <td>2065.0</td>\n    </tr>\n    <tr>\n      <th>5</th>\n      <td>SPIRIVA</td>\n      <td>1957.0</td>\n    </tr>\n    <tr>\n      <th>6</th>\n      <td>LANTUS SOLOSTAR</td>\n      <td>1806.0</td>\n    </tr>\n    <tr>\n      <th>7</th>\n      <td>JANUVIA</td>\n      <td>1592.0</td>\n    </tr>\n    <tr>\n      <th>8</th>\n      <td>LANTUS</td>\n      <td>1512.0</td>\n    </tr>\n    <tr>\n      <th>9</th>\n      <td>REVLIMID</td>\n      <td>1501.0</td>\n    </tr>\n  </tbody>\n</table>\n</div>"
     },
     "metadata": {},
     "execution_count": 4
    }
   ],
   "source": [
    "query2 = \"\"\"SELECT\n",
    "drug_name AS drug,\n",
    "  ROUND(SUM(total_drug_cost) / 1e6) AS total_drug_count_millions\n",
    "FROM\n",
    "  `bigquery-public-data.medicare.part_d_prescriber_2014`\n",
    "GROUP BY\n",
    "  drug\n",
    "ORDER BY\n",
    "  total_drug_count_millions DESC;\"\"\"\n",
    "total_drug_query = medicare.query_to_pandas_safe(query2)\n",
    "total_drug_query.head(10)"
   ]
  },
  {
   "cell_type": "code",
   "execution_count": 5,
   "metadata": {},
   "outputs": [
    {
     "output_type": "display_data",
     "data": {
      "application/vnd.plotly.v1+json": {
       "config": {
        "linkText": "Export to plot.ly",
        "plotlyServerURL": "https://plot.ly",
        "showLink": false
       },
       "data": [
        {
         "marker": {
          "color": "#f79284"
         },
         "orientation": "h",
         "type": "bar",
         "x": [
          626,
          647,
          659,
          683,
          734,
          753,
          783,
          784,
          791,
          803,
          851,
          881,
          898,
          915,
          1059,
          1062,
          1085,
          1209,
          1242,
          1300,
          1501,
          1512,
          1592,
          1806,
          1957,
          2065,
          2247,
          2396,
          2422,
          2486
         ],
         "y": [
          "NOVOLOG FLEXPEN",
          "METOPROLOL SUCCINATE",
          "HYDROCODONE-ACETAMINOPHEN",
          "SENSIPAR",
          "ATORVASTATIN CALCIUM",
          "HUMALOG",
          "GLEEVEC",
          "DIOVAN",
          "SYMBICORT",
          "RENVELA",
          "OXYCONTIN",
          "CELEBREX",
          "ZETIA",
          "XARELTO",
          "ENBREL",
          "HUMIRA",
          "COPAXONE",
          "LYRICA",
          "NAMENDA",
          "DULOXETINE HCL",
          "REVLIMID",
          "LANTUS",
          "JANUVIA",
          "LANTUS SOLOSTAR",
          "SPIRIVA",
          "ADVAIR DISKUS",
          "ABILIFY",
          "CRESTOR",
          "NEXIUM",
          "SOVALDI"
         ]
        }
       ],
       "layout": {
        "height": 400,
        "margin": {
         "l": 400
        },
        "template": {
         "data": {
          "bar": [
           {
            "error_x": {
             "color": "#2a3f5f"
            },
            "error_y": {
             "color": "#2a3f5f"
            },
            "marker": {
             "line": {
              "color": "#E5ECF6",
              "width": 0.5
             }
            },
            "type": "bar"
           }
          ],
          "barpolar": [
           {
            "marker": {
             "line": {
              "color": "#E5ECF6",
              "width": 0.5
             }
            },
            "type": "barpolar"
           }
          ],
          "carpet": [
           {
            "aaxis": {
             "endlinecolor": "#2a3f5f",
             "gridcolor": "white",
             "linecolor": "white",
             "minorgridcolor": "white",
             "startlinecolor": "#2a3f5f"
            },
            "baxis": {
             "endlinecolor": "#2a3f5f",
             "gridcolor": "white",
             "linecolor": "white",
             "minorgridcolor": "white",
             "startlinecolor": "#2a3f5f"
            },
            "type": "carpet"
           }
          ],
          "choropleth": [
           {
            "colorbar": {
             "outlinewidth": 0,
             "ticks": ""
            },
            "type": "choropleth"
           }
          ],
          "contour": [
           {
            "colorbar": {
             "outlinewidth": 0,
             "ticks": ""
            },
            "colorscale": [
             [
              0,
              "#0d0887"
             ],
             [
              0.1111111111111111,
              "#46039f"
             ],
             [
              0.2222222222222222,
              "#7201a8"
             ],
             [
              0.3333333333333333,
              "#9c179e"
             ],
             [
              0.4444444444444444,
              "#bd3786"
             ],
             [
              0.5555555555555556,
              "#d8576b"
             ],
             [
              0.6666666666666666,
              "#ed7953"
             ],
             [
              0.7777777777777778,
              "#fb9f3a"
             ],
             [
              0.8888888888888888,
              "#fdca26"
             ],
             [
              1,
              "#f0f921"
             ]
            ],
            "type": "contour"
           }
          ],
          "contourcarpet": [
           {
            "colorbar": {
             "outlinewidth": 0,
             "ticks": ""
            },
            "type": "contourcarpet"
           }
          ],
          "heatmap": [
           {
            "colorbar": {
             "outlinewidth": 0,
             "ticks": ""
            },
            "colorscale": [
             [
              0,
              "#0d0887"
             ],
             [
              0.1111111111111111,
              "#46039f"
             ],
             [
              0.2222222222222222,
              "#7201a8"
             ],
             [
              0.3333333333333333,
              "#9c179e"
             ],
             [
              0.4444444444444444,
              "#bd3786"
             ],
             [
              0.5555555555555556,
              "#d8576b"
             ],
             [
              0.6666666666666666,
              "#ed7953"
             ],
             [
              0.7777777777777778,
              "#fb9f3a"
             ],
             [
              0.8888888888888888,
              "#fdca26"
             ],
             [
              1,
              "#f0f921"
             ]
            ],
            "type": "heatmap"
           }
          ],
          "heatmapgl": [
           {
            "colorbar": {
             "outlinewidth": 0,
             "ticks": ""
            },
            "colorscale": [
             [
              0,
              "#0d0887"
             ],
             [
              0.1111111111111111,
              "#46039f"
             ],
             [
              0.2222222222222222,
              "#7201a8"
             ],
             [
              0.3333333333333333,
              "#9c179e"
             ],
             [
              0.4444444444444444,
              "#bd3786"
             ],
             [
              0.5555555555555556,
              "#d8576b"
             ],
             [
              0.6666666666666666,
              "#ed7953"
             ],
             [
              0.7777777777777778,
              "#fb9f3a"
             ],
             [
              0.8888888888888888,
              "#fdca26"
             ],
             [
              1,
              "#f0f921"
             ]
            ],
            "type": "heatmapgl"
           }
          ],
          "histogram": [
           {
            "marker": {
             "colorbar": {
              "outlinewidth": 0,
              "ticks": ""
             }
            },
            "type": "histogram"
           }
          ],
          "histogram2d": [
           {
            "colorbar": {
             "outlinewidth": 0,
             "ticks": ""
            },
            "colorscale": [
             [
              0,
              "#0d0887"
             ],
             [
              0.1111111111111111,
              "#46039f"
             ],
             [
              0.2222222222222222,
              "#7201a8"
             ],
             [
              0.3333333333333333,
              "#9c179e"
             ],
             [
              0.4444444444444444,
              "#bd3786"
             ],
             [
              0.5555555555555556,
              "#d8576b"
             ],
             [
              0.6666666666666666,
              "#ed7953"
             ],
             [
              0.7777777777777778,
              "#fb9f3a"
             ],
             [
              0.8888888888888888,
              "#fdca26"
             ],
             [
              1,
              "#f0f921"
             ]
            ],
            "type": "histogram2d"
           }
          ],
          "histogram2dcontour": [
           {
            "colorbar": {
             "outlinewidth": 0,
             "ticks": ""
            },
            "colorscale": [
             [
              0,
              "#0d0887"
             ],
             [
              0.1111111111111111,
              "#46039f"
             ],
             [
              0.2222222222222222,
              "#7201a8"
             ],
             [
              0.3333333333333333,
              "#9c179e"
             ],
             [
              0.4444444444444444,
              "#bd3786"
             ],
             [
              0.5555555555555556,
              "#d8576b"
             ],
             [
              0.6666666666666666,
              "#ed7953"
             ],
             [
              0.7777777777777778,
              "#fb9f3a"
             ],
             [
              0.8888888888888888,
              "#fdca26"
             ],
             [
              1,
              "#f0f921"
             ]
            ],
            "type": "histogram2dcontour"
           }
          ],
          "mesh3d": [
           {
            "colorbar": {
             "outlinewidth": 0,
             "ticks": ""
            },
            "type": "mesh3d"
           }
          ],
          "parcoords": [
           {
            "line": {
             "colorbar": {
              "outlinewidth": 0,
              "ticks": ""
             }
            },
            "type": "parcoords"
           }
          ],
          "pie": [
           {
            "automargin": true,
            "type": "pie"
           }
          ],
          "scatter": [
           {
            "marker": {
             "colorbar": {
              "outlinewidth": 0,
              "ticks": ""
             }
            },
            "type": "scatter"
           }
          ],
          "scatter3d": [
           {
            "line": {
             "colorbar": {
              "outlinewidth": 0,
              "ticks": ""
             }
            },
            "marker": {
             "colorbar": {
              "outlinewidth": 0,
              "ticks": ""
             }
            },
            "type": "scatter3d"
           }
          ],
          "scattercarpet": [
           {
            "marker": {
             "colorbar": {
              "outlinewidth": 0,
              "ticks": ""
             }
            },
            "type": "scattercarpet"
           }
          ],
          "scattergeo": [
           {
            "marker": {
             "colorbar": {
              "outlinewidth": 0,
              "ticks": ""
             }
            },
            "type": "scattergeo"
           }
          ],
          "scattergl": [
           {
            "marker": {
             "colorbar": {
              "outlinewidth": 0,
              "ticks": ""
             }
            },
            "type": "scattergl"
           }
          ],
          "scattermapbox": [
           {
            "marker": {
             "colorbar": {
              "outlinewidth": 0,
              "ticks": ""
             }
            },
            "type": "scattermapbox"
           }
          ],
          "scatterpolar": [
           {
            "marker": {
             "colorbar": {
              "outlinewidth": 0,
              "ticks": ""
             }
            },
            "type": "scatterpolar"
           }
          ],
          "scatterpolargl": [
           {
            "marker": {
             "colorbar": {
              "outlinewidth": 0,
              "ticks": ""
             }
            },
            "type": "scatterpolargl"
           }
          ],
          "scatterternary": [
           {
            "marker": {
             "colorbar": {
              "outlinewidth": 0,
              "ticks": ""
             }
            },
            "type": "scatterternary"
           }
          ],
          "surface": [
           {
            "colorbar": {
             "outlinewidth": 0,
             "ticks": ""
            },
            "colorscale": [
             [
              0,
              "#0d0887"
             ],
             [
              0.1111111111111111,
              "#46039f"
             ],
             [
              0.2222222222222222,
              "#7201a8"
             ],
             [
              0.3333333333333333,
              "#9c179e"
             ],
             [
              0.4444444444444444,
              "#bd3786"
             ],
             [
              0.5555555555555556,
              "#d8576b"
             ],
             [
              0.6666666666666666,
              "#ed7953"
             ],
             [
              0.7777777777777778,
              "#fb9f3a"
             ],
             [
              0.8888888888888888,
              "#fdca26"
             ],
             [
              1,
              "#f0f921"
             ]
            ],
            "type": "surface"
           }
          ],
          "table": [
           {
            "cells": {
             "fill": {
              "color": "#EBF0F8"
             },
             "line": {
              "color": "white"
             }
            },
            "header": {
             "fill": {
              "color": "#C8D4E3"
             },
             "line": {
              "color": "white"
             }
            },
            "type": "table"
           }
          ]
         },
         "layout": {
          "annotationdefaults": {
           "arrowcolor": "#2a3f5f",
           "arrowhead": 0,
           "arrowwidth": 1
          },
          "autotypenumbers": "strict",
          "coloraxis": {
           "colorbar": {
            "outlinewidth": 0,
            "ticks": ""
           }
          },
          "colorscale": {
           "diverging": [
            [
             0,
             "#8e0152"
            ],
            [
             0.1,
             "#c51b7d"
            ],
            [
             0.2,
             "#de77ae"
            ],
            [
             0.3,
             "#f1b6da"
            ],
            [
             0.4,
             "#fde0ef"
            ],
            [
             0.5,
             "#f7f7f7"
            ],
            [
             0.6,
             "#e6f5d0"
            ],
            [
             0.7,
             "#b8e186"
            ],
            [
             0.8,
             "#7fbc41"
            ],
            [
             0.9,
             "#4d9221"
            ],
            [
             1,
             "#276419"
            ]
           ],
           "sequential": [
            [
             0,
             "#0d0887"
            ],
            [
             0.1111111111111111,
             "#46039f"
            ],
            [
             0.2222222222222222,
             "#7201a8"
            ],
            [
             0.3333333333333333,
             "#9c179e"
            ],
            [
             0.4444444444444444,
             "#bd3786"
            ],
            [
             0.5555555555555556,
             "#d8576b"
            ],
            [
             0.6666666666666666,
             "#ed7953"
            ],
            [
             0.7777777777777778,
             "#fb9f3a"
            ],
            [
             0.8888888888888888,
             "#fdca26"
            ],
            [
             1,
             "#f0f921"
            ]
           ],
           "sequentialminus": [
            [
             0,
             "#0d0887"
            ],
            [
             0.1111111111111111,
             "#46039f"
            ],
            [
             0.2222222222222222,
             "#7201a8"
            ],
            [
             0.3333333333333333,
             "#9c179e"
            ],
            [
             0.4444444444444444,
             "#bd3786"
            ],
            [
             0.5555555555555556,
             "#d8576b"
            ],
            [
             0.6666666666666666,
             "#ed7953"
            ],
            [
             0.7777777777777778,
             "#fb9f3a"
            ],
            [
             0.8888888888888888,
             "#fdca26"
            ],
            [
             1,
             "#f0f921"
            ]
           ]
          },
          "colorway": [
           "#636efa",
           "#EF553B",
           "#00cc96",
           "#ab63fa",
           "#FFA15A",
           "#19d3f3",
           "#FF6692",
           "#B6E880",
           "#FF97FF",
           "#FECB52"
          ],
          "font": {
           "color": "#2a3f5f"
          },
          "geo": {
           "bgcolor": "white",
           "lakecolor": "white",
           "landcolor": "#E5ECF6",
           "showlakes": true,
           "showland": true,
           "subunitcolor": "white"
          },
          "hoverlabel": {
           "align": "left"
          },
          "hovermode": "closest",
          "mapbox": {
           "style": "light"
          },
          "paper_bgcolor": "white",
          "plot_bgcolor": "#E5ECF6",
          "polar": {
           "angularaxis": {
            "gridcolor": "white",
            "linecolor": "white",
            "ticks": ""
           },
           "bgcolor": "#E5ECF6",
           "radialaxis": {
            "gridcolor": "white",
            "linecolor": "white",
            "ticks": ""
           }
          },
          "scene": {
           "xaxis": {
            "backgroundcolor": "#E5ECF6",
            "gridcolor": "white",
            "gridwidth": 2,
            "linecolor": "white",
            "showbackground": true,
            "ticks": "",
            "zerolinecolor": "white"
           },
           "yaxis": {
            "backgroundcolor": "#E5ECF6",
            "gridcolor": "white",
            "gridwidth": 2,
            "linecolor": "white",
            "showbackground": true,
            "ticks": "",
            "zerolinecolor": "white"
           },
           "zaxis": {
            "backgroundcolor": "#E5ECF6",
            "gridcolor": "white",
            "gridwidth": 2,
            "linecolor": "white",
            "showbackground": true,
            "ticks": "",
            "zerolinecolor": "white"
           }
          },
          "shapedefaults": {
           "line": {
            "color": "#2a3f5f"
           }
          },
          "ternary": {
           "aaxis": {
            "gridcolor": "white",
            "linecolor": "white",
            "ticks": ""
           },
           "baxis": {
            "gridcolor": "white",
            "linecolor": "white",
            "ticks": ""
           },
           "bgcolor": "#E5ECF6",
           "caxis": {
            "gridcolor": "white",
            "linecolor": "white",
            "ticks": ""
           }
          },
          "title": {
           "x": 0.05
          },
          "xaxis": {
           "automargin": true,
           "gridcolor": "white",
           "linecolor": "white",
           "ticks": "",
           "title": {
            "standoff": 15
           },
           "zerolinecolor": "white",
           "zerolinewidth": 2
          },
          "yaxis": {
           "automargin": true,
           "gridcolor": "white",
           "linecolor": "white",
           "ticks": "",
           "title": {
            "standoff": 15
           },
           "zerolinecolor": "white",
           "zerolinewidth": 2
          }
         }
        },
        "title": {
         "text": "Drug Ranking per total cost"
        },
        "width": 700
       }
      },
      "text/html": "<div>                            <div id=\"577107b4-3732-44c8-b8b2-7e2253ce16f4\" class=\"plotly-graph-div\" style=\"height:400px; width:700px;\"></div>            <script type=\"text/javascript\">                require([\"plotly\"], function(Plotly) {                    window.PLOTLYENV=window.PLOTLYENV || {};                                    if (document.getElementById(\"577107b4-3732-44c8-b8b2-7e2253ce16f4\")) {                    Plotly.newPlot(                        \"577107b4-3732-44c8-b8b2-7e2253ce16f4\",                        [{\"marker\": {\"color\": \"#f79284\"}, \"orientation\": \"h\", \"type\": \"bar\", \"x\": [626.0, 647.0, 659.0, 683.0, 734.0, 753.0, 783.0, 784.0, 791.0, 803.0, 851.0, 881.0, 898.0, 915.0, 1059.0, 1062.0, 1085.0, 1209.0, 1242.0, 1300.0, 1501.0, 1512.0, 1592.0, 1806.0, 1957.0, 2065.0, 2247.0, 2396.0, 2422.0, 2486.0], \"y\": [\"NOVOLOG FLEXPEN\", \"METOPROLOL SUCCINATE\", \"HYDROCODONE-ACETAMINOPHEN\", \"SENSIPAR\", \"ATORVASTATIN CALCIUM\", \"HUMALOG\", \"GLEEVEC\", \"DIOVAN\", \"SYMBICORT\", \"RENVELA\", \"OXYCONTIN\", \"CELEBREX\", \"ZETIA\", \"XARELTO\", \"ENBREL\", \"HUMIRA\", \"COPAXONE\", \"LYRICA\", \"NAMENDA\", \"DULOXETINE HCL\", \"REVLIMID\", \"LANTUS\", \"JANUVIA\", \"LANTUS SOLOSTAR\", \"SPIRIVA\", \"ADVAIR DISKUS\", \"ABILIFY\", \"CRESTOR\", \"NEXIUM\", \"SOVALDI\"]}],                        {\"height\": 400, \"margin\": {\"l\": 400}, \"template\": {\"data\": {\"bar\": [{\"error_x\": {\"color\": \"#2a3f5f\"}, \"error_y\": {\"color\": \"#2a3f5f\"}, \"marker\": {\"line\": {\"color\": \"#E5ECF6\", \"width\": 0.5}}, \"type\": \"bar\"}], \"barpolar\": [{\"marker\": {\"line\": {\"color\": \"#E5ECF6\", \"width\": 0.5}}, \"type\": \"barpolar\"}], \"carpet\": [{\"aaxis\": {\"endlinecolor\": \"#2a3f5f\", \"gridcolor\": \"white\", \"linecolor\": \"white\", \"minorgridcolor\": \"white\", \"startlinecolor\": \"#2a3f5f\"}, \"baxis\": {\"endlinecolor\": \"#2a3f5f\", \"gridcolor\": \"white\", \"linecolor\": \"white\", \"minorgridcolor\": \"white\", \"startlinecolor\": \"#2a3f5f\"}, \"type\": \"carpet\"}], \"choropleth\": [{\"colorbar\": {\"outlinewidth\": 0, \"ticks\": \"\"}, \"type\": \"choropleth\"}], \"contour\": [{\"colorbar\": {\"outlinewidth\": 0, \"ticks\": \"\"}, \"colorscale\": [[0.0, \"#0d0887\"], [0.1111111111111111, \"#46039f\"], [0.2222222222222222, \"#7201a8\"], [0.3333333333333333, \"#9c179e\"], [0.4444444444444444, \"#bd3786\"], [0.5555555555555556, \"#d8576b\"], [0.6666666666666666, \"#ed7953\"], [0.7777777777777778, \"#fb9f3a\"], [0.8888888888888888, \"#fdca26\"], [1.0, \"#f0f921\"]], \"type\": \"contour\"}], \"contourcarpet\": [{\"colorbar\": {\"outlinewidth\": 0, \"ticks\": \"\"}, \"type\": \"contourcarpet\"}], \"heatmap\": [{\"colorbar\": {\"outlinewidth\": 0, \"ticks\": \"\"}, \"colorscale\": [[0.0, \"#0d0887\"], [0.1111111111111111, \"#46039f\"], [0.2222222222222222, \"#7201a8\"], [0.3333333333333333, \"#9c179e\"], [0.4444444444444444, \"#bd3786\"], [0.5555555555555556, \"#d8576b\"], [0.6666666666666666, \"#ed7953\"], [0.7777777777777778, \"#fb9f3a\"], [0.8888888888888888, \"#fdca26\"], [1.0, \"#f0f921\"]], \"type\": \"heatmap\"}], \"heatmapgl\": [{\"colorbar\": {\"outlinewidth\": 0, \"ticks\": \"\"}, \"colorscale\": [[0.0, \"#0d0887\"], [0.1111111111111111, \"#46039f\"], [0.2222222222222222, \"#7201a8\"], [0.3333333333333333, \"#9c179e\"], [0.4444444444444444, \"#bd3786\"], [0.5555555555555556, \"#d8576b\"], [0.6666666666666666, \"#ed7953\"], [0.7777777777777778, \"#fb9f3a\"], [0.8888888888888888, \"#fdca26\"], [1.0, \"#f0f921\"]], \"type\": \"heatmapgl\"}], \"histogram\": [{\"marker\": {\"colorbar\": {\"outlinewidth\": 0, \"ticks\": \"\"}}, \"type\": \"histogram\"}], \"histogram2d\": [{\"colorbar\": {\"outlinewidth\": 0, \"ticks\": \"\"}, \"colorscale\": [[0.0, \"#0d0887\"], [0.1111111111111111, \"#46039f\"], [0.2222222222222222, \"#7201a8\"], [0.3333333333333333, \"#9c179e\"], [0.4444444444444444, \"#bd3786\"], [0.5555555555555556, \"#d8576b\"], [0.6666666666666666, \"#ed7953\"], [0.7777777777777778, \"#fb9f3a\"], [0.8888888888888888, \"#fdca26\"], [1.0, \"#f0f921\"]], \"type\": \"histogram2d\"}], \"histogram2dcontour\": [{\"colorbar\": {\"outlinewidth\": 0, \"ticks\": \"\"}, \"colorscale\": [[0.0, \"#0d0887\"], [0.1111111111111111, \"#46039f\"], [0.2222222222222222, \"#7201a8\"], [0.3333333333333333, \"#9c179e\"], [0.4444444444444444, \"#bd3786\"], [0.5555555555555556, \"#d8576b\"], [0.6666666666666666, \"#ed7953\"], [0.7777777777777778, \"#fb9f3a\"], [0.8888888888888888, \"#fdca26\"], [1.0, \"#f0f921\"]], \"type\": \"histogram2dcontour\"}], \"mesh3d\": [{\"colorbar\": {\"outlinewidth\": 0, \"ticks\": \"\"}, \"type\": \"mesh3d\"}], \"parcoords\": [{\"line\": {\"colorbar\": {\"outlinewidth\": 0, \"ticks\": \"\"}}, \"type\": \"parcoords\"}], \"pie\": [{\"automargin\": true, \"type\": \"pie\"}], \"scatter\": [{\"marker\": {\"colorbar\": {\"outlinewidth\": 0, \"ticks\": \"\"}}, \"type\": \"scatter\"}], \"scatter3d\": [{\"line\": {\"colorbar\": {\"outlinewidth\": 0, \"ticks\": \"\"}}, \"marker\": {\"colorbar\": {\"outlinewidth\": 0, \"ticks\": \"\"}}, \"type\": \"scatter3d\"}], \"scattercarpet\": [{\"marker\": {\"colorbar\": {\"outlinewidth\": 0, \"ticks\": \"\"}}, \"type\": \"scattercarpet\"}], \"scattergeo\": [{\"marker\": {\"colorbar\": {\"outlinewidth\": 0, \"ticks\": \"\"}}, \"type\": \"scattergeo\"}], \"scattergl\": [{\"marker\": {\"colorbar\": {\"outlinewidth\": 0, \"ticks\": \"\"}}, \"type\": \"scattergl\"}], \"scattermapbox\": [{\"marker\": {\"colorbar\": {\"outlinewidth\": 0, \"ticks\": \"\"}}, \"type\": \"scattermapbox\"}], \"scatterpolar\": [{\"marker\": {\"colorbar\": {\"outlinewidth\": 0, \"ticks\": \"\"}}, \"type\": \"scatterpolar\"}], \"scatterpolargl\": [{\"marker\": {\"colorbar\": {\"outlinewidth\": 0, \"ticks\": \"\"}}, \"type\": \"scatterpolargl\"}], \"scatterternary\": [{\"marker\": {\"colorbar\": {\"outlinewidth\": 0, \"ticks\": \"\"}}, \"type\": \"scatterternary\"}], \"surface\": [{\"colorbar\": {\"outlinewidth\": 0, \"ticks\": \"\"}, \"colorscale\": [[0.0, \"#0d0887\"], [0.1111111111111111, \"#46039f\"], [0.2222222222222222, \"#7201a8\"], [0.3333333333333333, \"#9c179e\"], [0.4444444444444444, \"#bd3786\"], [0.5555555555555556, \"#d8576b\"], [0.6666666666666666, \"#ed7953\"], [0.7777777777777778, \"#fb9f3a\"], [0.8888888888888888, \"#fdca26\"], [1.0, \"#f0f921\"]], \"type\": \"surface\"}], \"table\": [{\"cells\": {\"fill\": {\"color\": \"#EBF0F8\"}, \"line\": {\"color\": \"white\"}}, \"header\": {\"fill\": {\"color\": \"#C8D4E3\"}, \"line\": {\"color\": \"white\"}}, \"type\": \"table\"}]}, \"layout\": {\"annotationdefaults\": {\"arrowcolor\": \"#2a3f5f\", \"arrowhead\": 0, \"arrowwidth\": 1}, \"autotypenumbers\": \"strict\", \"coloraxis\": {\"colorbar\": {\"outlinewidth\": 0, \"ticks\": \"\"}}, \"colorscale\": {\"diverging\": [[0, \"#8e0152\"], [0.1, \"#c51b7d\"], [0.2, \"#de77ae\"], [0.3, \"#f1b6da\"], [0.4, \"#fde0ef\"], [0.5, \"#f7f7f7\"], [0.6, \"#e6f5d0\"], [0.7, \"#b8e186\"], [0.8, \"#7fbc41\"], [0.9, \"#4d9221\"], [1, \"#276419\"]], \"sequential\": [[0.0, \"#0d0887\"], [0.1111111111111111, \"#46039f\"], [0.2222222222222222, \"#7201a8\"], [0.3333333333333333, \"#9c179e\"], [0.4444444444444444, \"#bd3786\"], [0.5555555555555556, \"#d8576b\"], [0.6666666666666666, \"#ed7953\"], [0.7777777777777778, \"#fb9f3a\"], [0.8888888888888888, \"#fdca26\"], [1.0, \"#f0f921\"]], \"sequentialminus\": [[0.0, \"#0d0887\"], [0.1111111111111111, \"#46039f\"], [0.2222222222222222, \"#7201a8\"], [0.3333333333333333, \"#9c179e\"], [0.4444444444444444, \"#bd3786\"], [0.5555555555555556, \"#d8576b\"], [0.6666666666666666, \"#ed7953\"], [0.7777777777777778, \"#fb9f3a\"], [0.8888888888888888, \"#fdca26\"], [1.0, \"#f0f921\"]]}, \"colorway\": [\"#636efa\", \"#EF553B\", \"#00cc96\", \"#ab63fa\", \"#FFA15A\", \"#19d3f3\", \"#FF6692\", \"#B6E880\", \"#FF97FF\", \"#FECB52\"], \"font\": {\"color\": \"#2a3f5f\"}, \"geo\": {\"bgcolor\": \"white\", \"lakecolor\": \"white\", \"landcolor\": \"#E5ECF6\", \"showlakes\": true, \"showland\": true, \"subunitcolor\": \"white\"}, \"hoverlabel\": {\"align\": \"left\"}, \"hovermode\": \"closest\", \"mapbox\": {\"style\": \"light\"}, \"paper_bgcolor\": \"white\", \"plot_bgcolor\": \"#E5ECF6\", \"polar\": {\"angularaxis\": {\"gridcolor\": \"white\", \"linecolor\": \"white\", \"ticks\": \"\"}, \"bgcolor\": \"#E5ECF6\", \"radialaxis\": {\"gridcolor\": \"white\", \"linecolor\": \"white\", \"ticks\": \"\"}}, \"scene\": {\"xaxis\": {\"backgroundcolor\": \"#E5ECF6\", \"gridcolor\": \"white\", \"gridwidth\": 2, \"linecolor\": \"white\", \"showbackground\": true, \"ticks\": \"\", \"zerolinecolor\": \"white\"}, \"yaxis\": {\"backgroundcolor\": \"#E5ECF6\", \"gridcolor\": \"white\", \"gridwidth\": 2, \"linecolor\": \"white\", \"showbackground\": true, \"ticks\": \"\", \"zerolinecolor\": \"white\"}, \"zaxis\": {\"backgroundcolor\": \"#E5ECF6\", \"gridcolor\": \"white\", \"gridwidth\": 2, \"linecolor\": \"white\", \"showbackground\": true, \"ticks\": \"\", \"zerolinecolor\": \"white\"}}, \"shapedefaults\": {\"line\": {\"color\": \"#2a3f5f\"}}, \"ternary\": {\"aaxis\": {\"gridcolor\": \"white\", \"linecolor\": \"white\", \"ticks\": \"\"}, \"baxis\": {\"gridcolor\": \"white\", \"linecolor\": \"white\", \"ticks\": \"\"}, \"bgcolor\": \"#E5ECF6\", \"caxis\": {\"gridcolor\": \"white\", \"linecolor\": \"white\", \"ticks\": \"\"}}, \"title\": {\"x\": 0.05}, \"xaxis\": {\"automargin\": true, \"gridcolor\": \"white\", \"linecolor\": \"white\", \"ticks\": \"\", \"title\": {\"standoff\": 15}, \"zerolinecolor\": \"white\", \"zerolinewidth\": 2}, \"yaxis\": {\"automargin\": true, \"gridcolor\": \"white\", \"linecolor\": \"white\", \"ticks\": \"\", \"title\": {\"standoff\": 15}, \"zerolinecolor\": \"white\", \"zerolinewidth\": 2}}}, \"title\": {\"text\": \"Drug Ranking per total cost\"}, \"width\": 700},                        {\"responsive\": true}                    ).then(function(){\n                            \nvar gd = document.getElementById('577107b4-3732-44c8-b8b2-7e2253ce16f4');\nvar x = new MutationObserver(function (mutations, observer) {{\n        var display = window.getComputedStyle(gd).display;\n        if (!display || display === 'none') {{\n            console.log([gd, 'removed!']);\n            Plotly.purge(gd);\n            observer.disconnect();\n        }}\n}});\n\n// Listen for the removal of the full notebook cells\nvar notebookContainer = gd.closest('#notebook-container');\nif (notebookContainer) {{\n    x.observe(notebookContainer, {childList: true});\n}}\n\n// Listen for the clearing of the current output cell\nvar outputEl = gd.closest('.output');\nif (outputEl) {{\n    x.observe(outputEl, {childList: true});\n}}\n\n                        })                };                });            </script>        </div>"
     },
     "metadata": {}
    }
   ],
   "source": [
    "tempdf = total_drug_query.head(30)\n",
    "y = list(reversed(list(tempdf.drug)))\n",
    "x = list(reversed(list(tempdf.total_drug_count_millions)))\n",
    "trace1 = go.Bar(x=x, y=y, orientation=\"h\", marker=dict(color='#f79284'),)\n",
    "layout = dict(height=400, width=700, margin=dict(l=400), title='Drug Ranking per total cost')\n",
    "data = [trace1]\n",
    "\n",
    "fig = go.Figure(data=data, layout=layout)\n",
    "iplot(fig, filename='stacked-bar')"
   ]
  },
  {
   "cell_type": "code",
   "execution_count": 6,
   "metadata": {},
   "outputs": [
    {
     "output_type": "execute_result",
     "data": {
      "text/plain": [
       "   npi_id state  total_claim_count_millions  total_day_supply_millions  \\\n",
       "0   86586    CA                       116.0                     4935.0   \n",
       "1   49874    FL                        91.0                     3769.0   \n",
       "2   63751    NY                        80.0                     3150.0   \n",
       "3   50853    TX                        76.0                     3105.0   \n",
       "4   41440    PA                        63.0                     2402.0   \n",
       "5   33064    OH                        53.0                     2181.0   \n",
       "6   26875    NC                        46.0                     1706.0   \n",
       "7   32415    IL                        43.0                     1724.0   \n",
       "8   29898    MI                        39.0                     1797.0   \n",
       "9   20728    GA                        39.0                     1403.0   \n",
       "\n",
       "   total_drug_cost_millions  \n",
       "0                    9633.0  \n",
       "1                    6970.0  \n",
       "2                    7522.0  \n",
       "3                    6462.0  \n",
       "4                    4842.0  \n",
       "5                    4051.0  \n",
       "6                    3358.0  \n",
       "7                    3121.0  \n",
       "8                    3193.0  \n",
       "9                    2787.0  "
      ],
      "text/html": "<div>\n<style scoped>\n    .dataframe tbody tr th:only-of-type {\n        vertical-align: middle;\n    }\n\n    .dataframe tbody tr th {\n        vertical-align: top;\n    }\n\n    .dataframe thead th {\n        text-align: right;\n    }\n</style>\n<table border=\"1\" class=\"dataframe\">\n  <thead>\n    <tr style=\"text-align: right;\">\n      <th></th>\n      <th>npi_id</th>\n      <th>state</th>\n      <th>total_claim_count_millions</th>\n      <th>total_day_supply_millions</th>\n      <th>total_drug_cost_millions</th>\n    </tr>\n  </thead>\n  <tbody>\n    <tr>\n      <th>0</th>\n      <td>86586</td>\n      <td>CA</td>\n      <td>116.0</td>\n      <td>4935.0</td>\n      <td>9633.0</td>\n    </tr>\n    <tr>\n      <th>1</th>\n      <td>49874</td>\n      <td>FL</td>\n      <td>91.0</td>\n      <td>3769.0</td>\n      <td>6970.0</td>\n    </tr>\n    <tr>\n      <th>2</th>\n      <td>63751</td>\n      <td>NY</td>\n      <td>80.0</td>\n      <td>3150.0</td>\n      <td>7522.0</td>\n    </tr>\n    <tr>\n      <th>3</th>\n      <td>50853</td>\n      <td>TX</td>\n      <td>76.0</td>\n      <td>3105.0</td>\n      <td>6462.0</td>\n    </tr>\n    <tr>\n      <th>4</th>\n      <td>41440</td>\n      <td>PA</td>\n      <td>63.0</td>\n      <td>2402.0</td>\n      <td>4842.0</td>\n    </tr>\n    <tr>\n      <th>5</th>\n      <td>33064</td>\n      <td>OH</td>\n      <td>53.0</td>\n      <td>2181.0</td>\n      <td>4051.0</td>\n    </tr>\n    <tr>\n      <th>6</th>\n      <td>26875</td>\n      <td>NC</td>\n      <td>46.0</td>\n      <td>1706.0</td>\n      <td>3358.0</td>\n    </tr>\n    <tr>\n      <th>7</th>\n      <td>32415</td>\n      <td>IL</td>\n      <td>43.0</td>\n      <td>1724.0</td>\n      <td>3121.0</td>\n    </tr>\n    <tr>\n      <th>8</th>\n      <td>29898</td>\n      <td>MI</td>\n      <td>39.0</td>\n      <td>1797.0</td>\n      <td>3193.0</td>\n    </tr>\n    <tr>\n      <th>9</th>\n      <td>20728</td>\n      <td>GA</td>\n      <td>39.0</td>\n      <td>1403.0</td>\n      <td>2787.0</td>\n    </tr>\n  </tbody>\n</table>\n</div>"
     },
     "metadata": {},
     "execution_count": 6
    }
   ],
   "source": [
    "query1 = \"\"\"SELECT\n",
    "  COUNT(DISTINCT npi) AS npi_id,\n",
    "  nppes_provider_state AS state,\n",
    "  ROUND(SUM(total_claim_count) / 1e6) AS total_claim_count_millions,\n",
    "  ROUND(SUM(total_day_supply) / 1e6) AS total_day_supply_millions,\n",
    "  ROUND(SUM(total_drug_cost) / 1e6) AS total_drug_cost_millions\n",
    "FROM\n",
    "  `bigquery-public-data.cms_medicare.part_d_prescriber_2014`\n",
    "GROUP BY\n",
    "  state\n",
    "ORDER BY\n",
    "  total_claim_count_millions DESC;\n",
    "        \"\"\"\n",
    "total_state__claim_drug_query = medicare.query_to_pandas_safe(query1)\n",
    "total_state__claim_drug_query.head(10)\n",
    "\n"
   ]
  },
  {
   "cell_type": "code",
   "execution_count": 7,
   "metadata": {},
   "outputs": [
    {
     "output_type": "execute_result",
     "data": {
      "text/plain": [
       "<bound method DataFrame.count of     npi_id state  total_claim_count_millions  total_day_supply_millions  \\\n",
       "0    86586    CA                       116.0                     4935.0   \n",
       "1    49874    FL                        91.0                     3769.0   \n",
       "2    63751    NY                        80.0                     3150.0   \n",
       "3    50853    TX                        76.0                     3105.0   \n",
       "4    41440    PA                        63.0                     2402.0   \n",
       "..     ...   ...                         ...                        ...   \n",
       "56       2    AS                         0.0                        0.0   \n",
       "57       5    XX                         0.0                        0.0   \n",
       "58      32    AE                         0.0                        0.0   \n",
       "59       7    AA                         0.0                        0.0   \n",
       "60      16    MP                         0.0                        0.0   \n",
       "\n",
       "    total_drug_cost_millions  \n",
       "0                     9633.0  \n",
       "1                     6970.0  \n",
       "2                     7522.0  \n",
       "3                     6462.0  \n",
       "4                     4842.0  \n",
       "..                       ...  \n",
       "56                       0.0  \n",
       "57                       0.0  \n",
       "58                       0.0  \n",
       "59                       0.0  \n",
       "60                       0.0  \n",
       "\n",
       "[61 rows x 5 columns]>"
      ]
     },
     "metadata": {},
     "execution_count": 7
    }
   ],
   "source": [
    "total_state__claim_drug_query.count"
   ]
  },
  {
   "cell_type": "code",
   "execution_count": 8,
   "metadata": {
    "scrolled": true
   },
   "outputs": [
    {
     "output_type": "display_data",
     "data": {
      "application/vnd.plotly.v1+json": {
       "config": {
        "linkText": "Export to plot.ly",
        "plotlyServerURL": "https://plot.ly",
        "showLink": false
       },
       "data": [
        {
         "marker": {
          "color": [
           2750,
           2739,
           2728,
           2717,
           2706,
           2695,
           2684,
           2673,
           2662,
           2651,
           2640,
           2629,
           2618,
           2607,
           2596,
           2585,
           2574,
           2563,
           2552,
           2541,
           2530,
           2519,
           2508,
           2497,
           2486,
           2475,
           2464,
           2453,
           2442,
           2431,
           2420,
           2409,
           2398,
           2387,
           2376,
           2365,
           2354,
           2343,
           2332,
           2321,
           2310,
           2299,
           2288,
           2277,
           2266,
           2255,
           2244,
           2233,
           2222,
           2211,
           2200
          ],
          "line": {
           "width": 2
          },
          "size": [
           116,
           91,
           80,
           76,
           63,
           53,
           46,
           43,
           39,
           39,
           35,
           31,
           29,
           28,
           26,
           26,
           26,
           26,
           25,
           22,
           22,
           21,
           20,
           19,
           17,
           16,
           16,
           15,
           15,
           14,
           14,
           13,
           13,
           12,
           11,
           8,
           7,
           6,
           6,
           6,
           6,
           5,
           4,
           4,
           4,
           3,
           3,
           3,
           2,
           1,
           1,
           1,
           0,
           0,
           0,
           0,
           0,
           0,
           0,
           0,
           0
          ]
         },
         "mode": "markers",
         "text": [
          "CA",
          "FL",
          "NY",
          "TX",
          "PA",
          "OH",
          "NC",
          "IL",
          "MI",
          "GA",
          "TN",
          "MO",
          "NJ",
          "IN",
          "VA",
          "AL",
          "KY",
          "MA",
          "PR",
          "SC",
          "LA",
          "WI",
          "AZ",
          "WA",
          "MN",
          "MS",
          "AR",
          "IA",
          "OK",
          "MD",
          "OR",
          "CO",
          "CT",
          "KS",
          "WV",
          "NE",
          "NV",
          "UT",
          "ME",
          "RI",
          "NM",
          "ID",
          "NH",
          "SD",
          "HI",
          "DE",
          "ND",
          "MT",
          "VT",
          "DC",
          "WY",
          "AK",
          "VI",
          "GU",
          "AP",
          "ZZ",
          "AS",
          "XX",
          "AE",
          "AA",
          "MP"
         ],
         "type": "scatter",
         "x": [
          4935,
          3769,
          3150,
          3105,
          2402,
          2181,
          1706,
          1724,
          1797,
          1403,
          1331,
          1155,
          1247,
          1143,
          1029,
          983,
          951,
          1016,
          780,
          825,
          802,
          913,
          871,
          810,
          784,
          533,
          544,
          563,
          584,
          614,
          590,
          554,
          535,
          453,
          420,
          289,
          322,
          247,
          251,
          195,
          243,
          202,
          169,
          133,
          164,
          149,
          122,
          133,
          93,
          56,
          55,
          30,
          6,
          3,
          0,
          1,
          0,
          0,
          0,
          0,
          0
         ],
         "y": [
          9633,
          6970,
          7522,
          6462,
          4842,
          4051,
          3358,
          3121,
          3193,
          2787,
          2450,
          2267,
          2980,
          2151,
          1845,
          1774,
          1750,
          1993,
          998,
          1625,
          1587,
          1595,
          1531,
          1374,
          1269,
          972,
          925,
          852,
          1100,
          1286,
          941,
          988,
          1214,
          812,
          775,
          513,
          530,
          446,
          445,
          345,
          403,
          341,
          322,
          233,
          342,
          314,
          199,
          235,
          171,
          193,
          90,
          79,
          9,
          3,
          0,
          2,
          0,
          0,
          0,
          0,
          0
         ]
        }
       ],
       "layout": {
        "paper_bgcolor": "rgb(243, 243, 243)",
        "plot_bgcolor": "rgb(243, 243, 243)",
        "template": {
         "data": {
          "bar": [
           {
            "error_x": {
             "color": "#2a3f5f"
            },
            "error_y": {
             "color": "#2a3f5f"
            },
            "marker": {
             "line": {
              "color": "#E5ECF6",
              "width": 0.5
             }
            },
            "type": "bar"
           }
          ],
          "barpolar": [
           {
            "marker": {
             "line": {
              "color": "#E5ECF6",
              "width": 0.5
             }
            },
            "type": "barpolar"
           }
          ],
          "carpet": [
           {
            "aaxis": {
             "endlinecolor": "#2a3f5f",
             "gridcolor": "white",
             "linecolor": "white",
             "minorgridcolor": "white",
             "startlinecolor": "#2a3f5f"
            },
            "baxis": {
             "endlinecolor": "#2a3f5f",
             "gridcolor": "white",
             "linecolor": "white",
             "minorgridcolor": "white",
             "startlinecolor": "#2a3f5f"
            },
            "type": "carpet"
           }
          ],
          "choropleth": [
           {
            "colorbar": {
             "outlinewidth": 0,
             "ticks": ""
            },
            "type": "choropleth"
           }
          ],
          "contour": [
           {
            "colorbar": {
             "outlinewidth": 0,
             "ticks": ""
            },
            "colorscale": [
             [
              0,
              "#0d0887"
             ],
             [
              0.1111111111111111,
              "#46039f"
             ],
             [
              0.2222222222222222,
              "#7201a8"
             ],
             [
              0.3333333333333333,
              "#9c179e"
             ],
             [
              0.4444444444444444,
              "#bd3786"
             ],
             [
              0.5555555555555556,
              "#d8576b"
             ],
             [
              0.6666666666666666,
              "#ed7953"
             ],
             [
              0.7777777777777778,
              "#fb9f3a"
             ],
             [
              0.8888888888888888,
              "#fdca26"
             ],
             [
              1,
              "#f0f921"
             ]
            ],
            "type": "contour"
           }
          ],
          "contourcarpet": [
           {
            "colorbar": {
             "outlinewidth": 0,
             "ticks": ""
            },
            "type": "contourcarpet"
           }
          ],
          "heatmap": [
           {
            "colorbar": {
             "outlinewidth": 0,
             "ticks": ""
            },
            "colorscale": [
             [
              0,
              "#0d0887"
             ],
             [
              0.1111111111111111,
              "#46039f"
             ],
             [
              0.2222222222222222,
              "#7201a8"
             ],
             [
              0.3333333333333333,
              "#9c179e"
             ],
             [
              0.4444444444444444,
              "#bd3786"
             ],
             [
              0.5555555555555556,
              "#d8576b"
             ],
             [
              0.6666666666666666,
              "#ed7953"
             ],
             [
              0.7777777777777778,
              "#fb9f3a"
             ],
             [
              0.8888888888888888,
              "#fdca26"
             ],
             [
              1,
              "#f0f921"
             ]
            ],
            "type": "heatmap"
           }
          ],
          "heatmapgl": [
           {
            "colorbar": {
             "outlinewidth": 0,
             "ticks": ""
            },
            "colorscale": [
             [
              0,
              "#0d0887"
             ],
             [
              0.1111111111111111,
              "#46039f"
             ],
             [
              0.2222222222222222,
              "#7201a8"
             ],
             [
              0.3333333333333333,
              "#9c179e"
             ],
             [
              0.4444444444444444,
              "#bd3786"
             ],
             [
              0.5555555555555556,
              "#d8576b"
             ],
             [
              0.6666666666666666,
              "#ed7953"
             ],
             [
              0.7777777777777778,
              "#fb9f3a"
             ],
             [
              0.8888888888888888,
              "#fdca26"
             ],
             [
              1,
              "#f0f921"
             ]
            ],
            "type": "heatmapgl"
           }
          ],
          "histogram": [
           {
            "marker": {
             "colorbar": {
              "outlinewidth": 0,
              "ticks": ""
             }
            },
            "type": "histogram"
           }
          ],
          "histogram2d": [
           {
            "colorbar": {
             "outlinewidth": 0,
             "ticks": ""
            },
            "colorscale": [
             [
              0,
              "#0d0887"
             ],
             [
              0.1111111111111111,
              "#46039f"
             ],
             [
              0.2222222222222222,
              "#7201a8"
             ],
             [
              0.3333333333333333,
              "#9c179e"
             ],
             [
              0.4444444444444444,
              "#bd3786"
             ],
             [
              0.5555555555555556,
              "#d8576b"
             ],
             [
              0.6666666666666666,
              "#ed7953"
             ],
             [
              0.7777777777777778,
              "#fb9f3a"
             ],
             [
              0.8888888888888888,
              "#fdca26"
             ],
             [
              1,
              "#f0f921"
             ]
            ],
            "type": "histogram2d"
           }
          ],
          "histogram2dcontour": [
           {
            "colorbar": {
             "outlinewidth": 0,
             "ticks": ""
            },
            "colorscale": [
             [
              0,
              "#0d0887"
             ],
             [
              0.1111111111111111,
              "#46039f"
             ],
             [
              0.2222222222222222,
              "#7201a8"
             ],
             [
              0.3333333333333333,
              "#9c179e"
             ],
             [
              0.4444444444444444,
              "#bd3786"
             ],
             [
              0.5555555555555556,
              "#d8576b"
             ],
             [
              0.6666666666666666,
              "#ed7953"
             ],
             [
              0.7777777777777778,
              "#fb9f3a"
             ],
             [
              0.8888888888888888,
              "#fdca26"
             ],
             [
              1,
              "#f0f921"
             ]
            ],
            "type": "histogram2dcontour"
           }
          ],
          "mesh3d": [
           {
            "colorbar": {
             "outlinewidth": 0,
             "ticks": ""
            },
            "type": "mesh3d"
           }
          ],
          "parcoords": [
           {
            "line": {
             "colorbar": {
              "outlinewidth": 0,
              "ticks": ""
             }
            },
            "type": "parcoords"
           }
          ],
          "pie": [
           {
            "automargin": true,
            "type": "pie"
           }
          ],
          "scatter": [
           {
            "marker": {
             "colorbar": {
              "outlinewidth": 0,
              "ticks": ""
             }
            },
            "type": "scatter"
           }
          ],
          "scatter3d": [
           {
            "line": {
             "colorbar": {
              "outlinewidth": 0,
              "ticks": ""
             }
            },
            "marker": {
             "colorbar": {
              "outlinewidth": 0,
              "ticks": ""
             }
            },
            "type": "scatter3d"
           }
          ],
          "scattercarpet": [
           {
            "marker": {
             "colorbar": {
              "outlinewidth": 0,
              "ticks": ""
             }
            },
            "type": "scattercarpet"
           }
          ],
          "scattergeo": [
           {
            "marker": {
             "colorbar": {
              "outlinewidth": 0,
              "ticks": ""
             }
            },
            "type": "scattergeo"
           }
          ],
          "scattergl": [
           {
            "marker": {
             "colorbar": {
              "outlinewidth": 0,
              "ticks": ""
             }
            },
            "type": "scattergl"
           }
          ],
          "scattermapbox": [
           {
            "marker": {
             "colorbar": {
              "outlinewidth": 0,
              "ticks": ""
             }
            },
            "type": "scattermapbox"
           }
          ],
          "scatterpolar": [
           {
            "marker": {
             "colorbar": {
              "outlinewidth": 0,
              "ticks": ""
             }
            },
            "type": "scatterpolar"
           }
          ],
          "scatterpolargl": [
           {
            "marker": {
             "colorbar": {
              "outlinewidth": 0,
              "ticks": ""
             }
            },
            "type": "scatterpolargl"
           }
          ],
          "scatterternary": [
           {
            "marker": {
             "colorbar": {
              "outlinewidth": 0,
              "ticks": ""
             }
            },
            "type": "scatterternary"
           }
          ],
          "surface": [
           {
            "colorbar": {
             "outlinewidth": 0,
             "ticks": ""
            },
            "colorscale": [
             [
              0,
              "#0d0887"
             ],
             [
              0.1111111111111111,
              "#46039f"
             ],
             [
              0.2222222222222222,
              "#7201a8"
             ],
             [
              0.3333333333333333,
              "#9c179e"
             ],
             [
              0.4444444444444444,
              "#bd3786"
             ],
             [
              0.5555555555555556,
              "#d8576b"
             ],
             [
              0.6666666666666666,
              "#ed7953"
             ],
             [
              0.7777777777777778,
              "#fb9f3a"
             ],
             [
              0.8888888888888888,
              "#fdca26"
             ],
             [
              1,
              "#f0f921"
             ]
            ],
            "type": "surface"
           }
          ],
          "table": [
           {
            "cells": {
             "fill": {
              "color": "#EBF0F8"
             },
             "line": {
              "color": "white"
             }
            },
            "header": {
             "fill": {
              "color": "#C8D4E3"
             },
             "line": {
              "color": "white"
             }
            },
            "type": "table"
           }
          ]
         },
         "layout": {
          "annotationdefaults": {
           "arrowcolor": "#2a3f5f",
           "arrowhead": 0,
           "arrowwidth": 1
          },
          "autotypenumbers": "strict",
          "coloraxis": {
           "colorbar": {
            "outlinewidth": 0,
            "ticks": ""
           }
          },
          "colorscale": {
           "diverging": [
            [
             0,
             "#8e0152"
            ],
            [
             0.1,
             "#c51b7d"
            ],
            [
             0.2,
             "#de77ae"
            ],
            [
             0.3,
             "#f1b6da"
            ],
            [
             0.4,
             "#fde0ef"
            ],
            [
             0.5,
             "#f7f7f7"
            ],
            [
             0.6,
             "#e6f5d0"
            ],
            [
             0.7,
             "#b8e186"
            ],
            [
             0.8,
             "#7fbc41"
            ],
            [
             0.9,
             "#4d9221"
            ],
            [
             1,
             "#276419"
            ]
           ],
           "sequential": [
            [
             0,
             "#0d0887"
            ],
            [
             0.1111111111111111,
             "#46039f"
            ],
            [
             0.2222222222222222,
             "#7201a8"
            ],
            [
             0.3333333333333333,
             "#9c179e"
            ],
            [
             0.4444444444444444,
             "#bd3786"
            ],
            [
             0.5555555555555556,
             "#d8576b"
            ],
            [
             0.6666666666666666,
             "#ed7953"
            ],
            [
             0.7777777777777778,
             "#fb9f3a"
            ],
            [
             0.8888888888888888,
             "#fdca26"
            ],
            [
             1,
             "#f0f921"
            ]
           ],
           "sequentialminus": [
            [
             0,
             "#0d0887"
            ],
            [
             0.1111111111111111,
             "#46039f"
            ],
            [
             0.2222222222222222,
             "#7201a8"
            ],
            [
             0.3333333333333333,
             "#9c179e"
            ],
            [
             0.4444444444444444,
             "#bd3786"
            ],
            [
             0.5555555555555556,
             "#d8576b"
            ],
            [
             0.6666666666666666,
             "#ed7953"
            ],
            [
             0.7777777777777778,
             "#fb9f3a"
            ],
            [
             0.8888888888888888,
             "#fdca26"
            ],
            [
             1,
             "#f0f921"
            ]
           ]
          },
          "colorway": [
           "#636efa",
           "#EF553B",
           "#00cc96",
           "#ab63fa",
           "#FFA15A",
           "#19d3f3",
           "#FF6692",
           "#B6E880",
           "#FF97FF",
           "#FECB52"
          ],
          "font": {
           "color": "#2a3f5f"
          },
          "geo": {
           "bgcolor": "white",
           "lakecolor": "white",
           "landcolor": "#E5ECF6",
           "showlakes": true,
           "showland": true,
           "subunitcolor": "white"
          },
          "hoverlabel": {
           "align": "left"
          },
          "hovermode": "closest",
          "mapbox": {
           "style": "light"
          },
          "paper_bgcolor": "white",
          "plot_bgcolor": "#E5ECF6",
          "polar": {
           "angularaxis": {
            "gridcolor": "white",
            "linecolor": "white",
            "ticks": ""
           },
           "bgcolor": "#E5ECF6",
           "radialaxis": {
            "gridcolor": "white",
            "linecolor": "white",
            "ticks": ""
           }
          },
          "scene": {
           "xaxis": {
            "backgroundcolor": "#E5ECF6",
            "gridcolor": "white",
            "gridwidth": 2,
            "linecolor": "white",
            "showbackground": true,
            "ticks": "",
            "zerolinecolor": "white"
           },
           "yaxis": {
            "backgroundcolor": "#E5ECF6",
            "gridcolor": "white",
            "gridwidth": 2,
            "linecolor": "white",
            "showbackground": true,
            "ticks": "",
            "zerolinecolor": "white"
           },
           "zaxis": {
            "backgroundcolor": "#E5ECF6",
            "gridcolor": "white",
            "gridwidth": 2,
            "linecolor": "white",
            "showbackground": true,
            "ticks": "",
            "zerolinecolor": "white"
           }
          },
          "shapedefaults": {
           "line": {
            "color": "#2a3f5f"
           }
          },
          "ternary": {
           "aaxis": {
            "gridcolor": "white",
            "linecolor": "white",
            "ticks": ""
           },
           "baxis": {
            "gridcolor": "white",
            "linecolor": "white",
            "ticks": ""
           },
           "bgcolor": "#E5ECF6",
           "caxis": {
            "gridcolor": "white",
            "linecolor": "white",
            "ticks": ""
           }
          },
          "title": {
           "x": 0.05
          },
          "xaxis": {
           "automargin": true,
           "gridcolor": "white",
           "linecolor": "white",
           "ticks": "",
           "title": {
            "standoff": 15
           },
           "zerolinecolor": "white",
           "zerolinewidth": 2
          },
          "yaxis": {
           "automargin": true,
           "gridcolor": "white",
           "linecolor": "white",
           "ticks": "",
           "title": {
            "standoff": 15
           },
           "zerolinecolor": "white",
           "zerolinewidth": 2
          }
         }
        },
        "title": {
         "text": "Total claim count | Total Drug Cost | Total Day Supply for every state"
        },
        "xaxis": {
         "gridcolor": "rgb(255, 255, 255)",
         "gridwidth": 2,
         "ticklen": 5,
         "title": {
          "text": "Total Day Supply"
         },
         "zerolinewidth": 1
        },
        "yaxis": {
         "gridcolor": "rgb(255, 255, 255)",
         "gridwidth": 2,
         "ticklen": 5,
         "title": {
          "text": "Total Drug Cost"
         },
         "zerolinewidth": 1
        }
       }
      },
      "text/html": "<div>                            <div id=\"7a4a58da-d5f9-4e93-b912-443f1ac8a099\" class=\"plotly-graph-div\" style=\"height:525px; width:100%;\"></div>            <script type=\"text/javascript\">                require([\"plotly\"], function(Plotly) {                    window.PLOTLYENV=window.PLOTLYENV || {};                                    if (document.getElementById(\"7a4a58da-d5f9-4e93-b912-443f1ac8a099\")) {                    Plotly.newPlot(                        \"7a4a58da-d5f9-4e93-b912-443f1ac8a099\",                        [{\"marker\": {\"color\": [2750, 2739, 2728, 2717, 2706, 2695, 2684, 2673, 2662, 2651, 2640, 2629, 2618, 2607, 2596, 2585, 2574, 2563, 2552, 2541, 2530, 2519, 2508, 2497, 2486, 2475, 2464, 2453, 2442, 2431, 2420, 2409, 2398, 2387, 2376, 2365, 2354, 2343, 2332, 2321, 2310, 2299, 2288, 2277, 2266, 2255, 2244, 2233, 2222, 2211, 2200], \"line\": {\"width\": 2}, \"size\": [116.0, 91.0, 80.0, 76.0, 63.0, 53.0, 46.0, 43.0, 39.0, 39.0, 35.0, 31.0, 29.0, 28.0, 26.0, 26.0, 26.0, 26.0, 25.0, 22.0, 22.0, 21.0, 20.0, 19.0, 17.0, 16.0, 16.0, 15.0, 15.0, 14.0, 14.0, 13.0, 13.0, 12.0, 11.0, 8.0, 7.0, 6.0, 6.0, 6.0, 6.0, 5.0, 4.0, 4.0, 4.0, 3.0, 3.0, 3.0, 2.0, 1.0, 1.0, 1.0, 0.0, 0.0, 0.0, 0.0, 0.0, 0.0, 0.0, 0.0, 0.0]}, \"mode\": \"markers\", \"text\": [\"CA\", \"FL\", \"NY\", \"TX\", \"PA\", \"OH\", \"NC\", \"IL\", \"MI\", \"GA\", \"TN\", \"MO\", \"NJ\", \"IN\", \"VA\", \"AL\", \"KY\", \"MA\", \"PR\", \"SC\", \"LA\", \"WI\", \"AZ\", \"WA\", \"MN\", \"MS\", \"AR\", \"IA\", \"OK\", \"MD\", \"OR\", \"CO\", \"CT\", \"KS\", \"WV\", \"NE\", \"NV\", \"UT\", \"ME\", \"RI\", \"NM\", \"ID\", \"NH\", \"SD\", \"HI\", \"DE\", \"ND\", \"MT\", \"VT\", \"DC\", \"WY\", \"AK\", \"VI\", \"GU\", \"AP\", \"ZZ\", \"AS\", \"XX\", \"AE\", \"AA\", \"MP\"], \"type\": \"scatter\", \"x\": [4935.0, 3769.0, 3150.0, 3105.0, 2402.0, 2181.0, 1706.0, 1724.0, 1797.0, 1403.0, 1331.0, 1155.0, 1247.0, 1143.0, 1029.0, 983.0, 951.0, 1016.0, 780.0, 825.0, 802.0, 913.0, 871.0, 810.0, 784.0, 533.0, 544.0, 563.0, 584.0, 614.0, 590.0, 554.0, 535.0, 453.0, 420.0, 289.0, 322.0, 247.0, 251.0, 195.0, 243.0, 202.0, 169.0, 133.0, 164.0, 149.0, 122.0, 133.0, 93.0, 56.0, 55.0, 30.0, 6.0, 3.0, 0.0, 1.0, 0.0, 0.0, 0.0, 0.0, 0.0], \"y\": [9633.0, 6970.0, 7522.0, 6462.0, 4842.0, 4051.0, 3358.0, 3121.0, 3193.0, 2787.0, 2450.0, 2267.0, 2980.0, 2151.0, 1845.0, 1774.0, 1750.0, 1993.0, 998.0, 1625.0, 1587.0, 1595.0, 1531.0, 1374.0, 1269.0, 972.0, 925.0, 852.0, 1100.0, 1286.0, 941.0, 988.0, 1214.0, 812.0, 775.0, 513.0, 530.0, 446.0, 445.0, 345.0, 403.0, 341.0, 322.0, 233.0, 342.0, 314.0, 199.0, 235.0, 171.0, 193.0, 90.0, 79.0, 9.0, 3.0, 0.0, 2.0, 0.0, 0.0, 0.0, 0.0, 0.0]}],                        {\"paper_bgcolor\": \"rgb(243, 243, 243)\", \"plot_bgcolor\": \"rgb(243, 243, 243)\", \"template\": {\"data\": {\"bar\": [{\"error_x\": {\"color\": \"#2a3f5f\"}, \"error_y\": {\"color\": \"#2a3f5f\"}, \"marker\": {\"line\": {\"color\": \"#E5ECF6\", \"width\": 0.5}}, \"type\": \"bar\"}], \"barpolar\": [{\"marker\": {\"line\": {\"color\": \"#E5ECF6\", \"width\": 0.5}}, \"type\": \"barpolar\"}], \"carpet\": [{\"aaxis\": {\"endlinecolor\": \"#2a3f5f\", \"gridcolor\": \"white\", \"linecolor\": \"white\", \"minorgridcolor\": \"white\", \"startlinecolor\": \"#2a3f5f\"}, \"baxis\": {\"endlinecolor\": \"#2a3f5f\", \"gridcolor\": \"white\", \"linecolor\": \"white\", \"minorgridcolor\": \"white\", \"startlinecolor\": \"#2a3f5f\"}, \"type\": \"carpet\"}], \"choropleth\": [{\"colorbar\": {\"outlinewidth\": 0, \"ticks\": \"\"}, \"type\": \"choropleth\"}], \"contour\": [{\"colorbar\": {\"outlinewidth\": 0, \"ticks\": \"\"}, \"colorscale\": [[0.0, \"#0d0887\"], [0.1111111111111111, \"#46039f\"], [0.2222222222222222, \"#7201a8\"], [0.3333333333333333, \"#9c179e\"], [0.4444444444444444, \"#bd3786\"], [0.5555555555555556, \"#d8576b\"], [0.6666666666666666, \"#ed7953\"], [0.7777777777777778, \"#fb9f3a\"], [0.8888888888888888, \"#fdca26\"], [1.0, \"#f0f921\"]], \"type\": \"contour\"}], \"contourcarpet\": [{\"colorbar\": {\"outlinewidth\": 0, \"ticks\": \"\"}, \"type\": \"contourcarpet\"}], \"heatmap\": [{\"colorbar\": {\"outlinewidth\": 0, \"ticks\": \"\"}, \"colorscale\": [[0.0, \"#0d0887\"], [0.1111111111111111, \"#46039f\"], [0.2222222222222222, \"#7201a8\"], [0.3333333333333333, \"#9c179e\"], [0.4444444444444444, \"#bd3786\"], [0.5555555555555556, \"#d8576b\"], [0.6666666666666666, \"#ed7953\"], [0.7777777777777778, \"#fb9f3a\"], [0.8888888888888888, \"#fdca26\"], [1.0, \"#f0f921\"]], \"type\": \"heatmap\"}], \"heatmapgl\": [{\"colorbar\": {\"outlinewidth\": 0, \"ticks\": \"\"}, \"colorscale\": [[0.0, \"#0d0887\"], [0.1111111111111111, \"#46039f\"], [0.2222222222222222, \"#7201a8\"], [0.3333333333333333, \"#9c179e\"], [0.4444444444444444, \"#bd3786\"], [0.5555555555555556, \"#d8576b\"], [0.6666666666666666, \"#ed7953\"], [0.7777777777777778, \"#fb9f3a\"], [0.8888888888888888, \"#fdca26\"], [1.0, \"#f0f921\"]], \"type\": \"heatmapgl\"}], \"histogram\": [{\"marker\": {\"colorbar\": {\"outlinewidth\": 0, \"ticks\": \"\"}}, \"type\": \"histogram\"}], \"histogram2d\": [{\"colorbar\": {\"outlinewidth\": 0, \"ticks\": \"\"}, \"colorscale\": [[0.0, \"#0d0887\"], [0.1111111111111111, \"#46039f\"], [0.2222222222222222, \"#7201a8\"], [0.3333333333333333, \"#9c179e\"], [0.4444444444444444, \"#bd3786\"], [0.5555555555555556, \"#d8576b\"], [0.6666666666666666, \"#ed7953\"], [0.7777777777777778, \"#fb9f3a\"], [0.8888888888888888, \"#fdca26\"], [1.0, \"#f0f921\"]], \"type\": \"histogram2d\"}], \"histogram2dcontour\": [{\"colorbar\": {\"outlinewidth\": 0, \"ticks\": \"\"}, \"colorscale\": [[0.0, \"#0d0887\"], [0.1111111111111111, \"#46039f\"], [0.2222222222222222, \"#7201a8\"], [0.3333333333333333, \"#9c179e\"], [0.4444444444444444, \"#bd3786\"], [0.5555555555555556, \"#d8576b\"], [0.6666666666666666, \"#ed7953\"], [0.7777777777777778, \"#fb9f3a\"], [0.8888888888888888, \"#fdca26\"], [1.0, \"#f0f921\"]], \"type\": \"histogram2dcontour\"}], \"mesh3d\": [{\"colorbar\": {\"outlinewidth\": 0, \"ticks\": \"\"}, \"type\": \"mesh3d\"}], \"parcoords\": [{\"line\": {\"colorbar\": {\"outlinewidth\": 0, \"ticks\": \"\"}}, \"type\": \"parcoords\"}], \"pie\": [{\"automargin\": true, \"type\": \"pie\"}], \"scatter\": [{\"marker\": {\"colorbar\": {\"outlinewidth\": 0, \"ticks\": \"\"}}, \"type\": \"scatter\"}], \"scatter3d\": [{\"line\": {\"colorbar\": {\"outlinewidth\": 0, \"ticks\": \"\"}}, \"marker\": {\"colorbar\": {\"outlinewidth\": 0, \"ticks\": \"\"}}, \"type\": \"scatter3d\"}], \"scattercarpet\": [{\"marker\": {\"colorbar\": {\"outlinewidth\": 0, \"ticks\": \"\"}}, \"type\": \"scattercarpet\"}], \"scattergeo\": [{\"marker\": {\"colorbar\": {\"outlinewidth\": 0, \"ticks\": \"\"}}, \"type\": \"scattergeo\"}], \"scattergl\": [{\"marker\": {\"colorbar\": {\"outlinewidth\": 0, \"ticks\": \"\"}}, \"type\": \"scattergl\"}], \"scattermapbox\": [{\"marker\": {\"colorbar\": {\"outlinewidth\": 0, \"ticks\": \"\"}}, \"type\": \"scattermapbox\"}], \"scatterpolar\": [{\"marker\": {\"colorbar\": {\"outlinewidth\": 0, \"ticks\": \"\"}}, \"type\": \"scatterpolar\"}], \"scatterpolargl\": [{\"marker\": {\"colorbar\": {\"outlinewidth\": 0, \"ticks\": \"\"}}, \"type\": \"scatterpolargl\"}], \"scatterternary\": [{\"marker\": {\"colorbar\": {\"outlinewidth\": 0, \"ticks\": \"\"}}, \"type\": \"scatterternary\"}], \"surface\": [{\"colorbar\": {\"outlinewidth\": 0, \"ticks\": \"\"}, \"colorscale\": [[0.0, \"#0d0887\"], [0.1111111111111111, \"#46039f\"], [0.2222222222222222, \"#7201a8\"], [0.3333333333333333, \"#9c179e\"], [0.4444444444444444, \"#bd3786\"], [0.5555555555555556, \"#d8576b\"], [0.6666666666666666, \"#ed7953\"], [0.7777777777777778, \"#fb9f3a\"], [0.8888888888888888, \"#fdca26\"], [1.0, \"#f0f921\"]], \"type\": \"surface\"}], \"table\": [{\"cells\": {\"fill\": {\"color\": \"#EBF0F8\"}, \"line\": {\"color\": \"white\"}}, \"header\": {\"fill\": {\"color\": \"#C8D4E3\"}, \"line\": {\"color\": \"white\"}}, \"type\": \"table\"}]}, \"layout\": {\"annotationdefaults\": {\"arrowcolor\": \"#2a3f5f\", \"arrowhead\": 0, \"arrowwidth\": 1}, \"autotypenumbers\": \"strict\", \"coloraxis\": {\"colorbar\": {\"outlinewidth\": 0, \"ticks\": \"\"}}, \"colorscale\": {\"diverging\": [[0, \"#8e0152\"], [0.1, \"#c51b7d\"], [0.2, \"#de77ae\"], [0.3, \"#f1b6da\"], [0.4, \"#fde0ef\"], [0.5, \"#f7f7f7\"], [0.6, \"#e6f5d0\"], [0.7, \"#b8e186\"], [0.8, \"#7fbc41\"], [0.9, \"#4d9221\"], [1, \"#276419\"]], \"sequential\": [[0.0, \"#0d0887\"], [0.1111111111111111, \"#46039f\"], [0.2222222222222222, \"#7201a8\"], [0.3333333333333333, \"#9c179e\"], [0.4444444444444444, \"#bd3786\"], [0.5555555555555556, \"#d8576b\"], [0.6666666666666666, \"#ed7953\"], [0.7777777777777778, \"#fb9f3a\"], [0.8888888888888888, \"#fdca26\"], [1.0, \"#f0f921\"]], \"sequentialminus\": [[0.0, \"#0d0887\"], [0.1111111111111111, \"#46039f\"], [0.2222222222222222, \"#7201a8\"], [0.3333333333333333, \"#9c179e\"], [0.4444444444444444, \"#bd3786\"], [0.5555555555555556, \"#d8576b\"], [0.6666666666666666, \"#ed7953\"], [0.7777777777777778, \"#fb9f3a\"], [0.8888888888888888, \"#fdca26\"], [1.0, \"#f0f921\"]]}, \"colorway\": [\"#636efa\", \"#EF553B\", \"#00cc96\", \"#ab63fa\", \"#FFA15A\", \"#19d3f3\", \"#FF6692\", \"#B6E880\", \"#FF97FF\", \"#FECB52\"], \"font\": {\"color\": \"#2a3f5f\"}, \"geo\": {\"bgcolor\": \"white\", \"lakecolor\": \"white\", \"landcolor\": \"#E5ECF6\", \"showlakes\": true, \"showland\": true, \"subunitcolor\": \"white\"}, \"hoverlabel\": {\"align\": \"left\"}, \"hovermode\": \"closest\", \"mapbox\": {\"style\": \"light\"}, \"paper_bgcolor\": \"white\", \"plot_bgcolor\": \"#E5ECF6\", \"polar\": {\"angularaxis\": {\"gridcolor\": \"white\", \"linecolor\": \"white\", \"ticks\": \"\"}, \"bgcolor\": \"#E5ECF6\", \"radialaxis\": {\"gridcolor\": \"white\", \"linecolor\": \"white\", \"ticks\": \"\"}}, \"scene\": {\"xaxis\": {\"backgroundcolor\": \"#E5ECF6\", \"gridcolor\": \"white\", \"gridwidth\": 2, \"linecolor\": \"white\", \"showbackground\": true, \"ticks\": \"\", \"zerolinecolor\": \"white\"}, \"yaxis\": {\"backgroundcolor\": \"#E5ECF6\", \"gridcolor\": \"white\", \"gridwidth\": 2, \"linecolor\": \"white\", \"showbackground\": true, \"ticks\": \"\", \"zerolinecolor\": \"white\"}, \"zaxis\": {\"backgroundcolor\": \"#E5ECF6\", \"gridcolor\": \"white\", \"gridwidth\": 2, \"linecolor\": \"white\", \"showbackground\": true, \"ticks\": \"\", \"zerolinecolor\": \"white\"}}, \"shapedefaults\": {\"line\": {\"color\": \"#2a3f5f\"}}, \"ternary\": {\"aaxis\": {\"gridcolor\": \"white\", \"linecolor\": \"white\", \"ticks\": \"\"}, \"baxis\": {\"gridcolor\": \"white\", \"linecolor\": \"white\", \"ticks\": \"\"}, \"bgcolor\": \"#E5ECF6\", \"caxis\": {\"gridcolor\": \"white\", \"linecolor\": \"white\", \"ticks\": \"\"}}, \"title\": {\"x\": 0.05}, \"xaxis\": {\"automargin\": true, \"gridcolor\": \"white\", \"linecolor\": \"white\", \"ticks\": \"\", \"title\": {\"standoff\": 15}, \"zerolinecolor\": \"white\", \"zerolinewidth\": 2}, \"yaxis\": {\"automargin\": true, \"gridcolor\": \"white\", \"linecolor\": \"white\", \"ticks\": \"\", \"title\": {\"standoff\": 15}, \"zerolinecolor\": \"white\", \"zerolinewidth\": 2}}}, \"title\": {\"text\": \"Total claim count | Total Drug Cost | Total Day Supply for every state\"}, \"xaxis\": {\"gridcolor\": \"rgb(255, 255, 255)\", \"gridwidth\": 2, \"ticklen\": 5, \"title\": {\"text\": \"Total Day Supply\"}, \"zerolinewidth\": 1}, \"yaxis\": {\"gridcolor\": \"rgb(255, 255, 255)\", \"gridwidth\": 2, \"ticklen\": 5, \"title\": {\"text\": \"Total Drug Cost\"}, \"zerolinewidth\": 1}},                        {\"responsive\": true}                    ).then(function(){\n                            \nvar gd = document.getElementById('7a4a58da-d5f9-4e93-b912-443f1ac8a099');\nvar x = new MutationObserver(function (mutations, observer) {{\n        var display = window.getComputedStyle(gd).display;\n        if (!display || display === 'none') {{\n            console.log([gd, 'removed!']);\n            Plotly.purge(gd);\n            observer.disconnect();\n        }}\n}});\n\n// Listen for the removal of the full notebook cells\nvar notebookContainer = gd.closest('#notebook-container');\nif (notebookContainer) {{\n    x.observe(notebookContainer, {childList: true});\n}}\n\n// Listen for the clearing of the current output cell\nvar outputEl = gd.closest('.output');\nif (outputEl) {{\n    x.observe(outputEl, {childList: true});\n}}\n\n                        })                };                });            </script>        </div>"
     },
     "metadata": {}
    }
   ],
   "source": [
    "trace1 = go.Scatter(\n",
    "    x=total_state__claim_drug_query.total_day_supply_millions,\n",
    "    y=total_state__claim_drug_query.total_drug_cost_millions,\n",
    "    mode='markers',\n",
    "    text=total_state__claim_drug_query.state,\n",
    "    marker=dict(\n",
    "        color=list(reversed([i*11 for i in range(200,251)])),\n",
    "        size=total_state__claim_drug_query.total_claim_count_millions,\n",
    "        line=dict(\n",
    "            width=2\n",
    "        ),\n",
    "    )\n",
    ")\n",
    "data = [trace1]\n",
    "\n",
    "layout = go.Layout(\n",
    "    title='Total claim count | Total Drug Cost | Total Day Supply for every state',\n",
    "    xaxis=dict(\n",
    "        title='Total Day Supply',\n",
    "        gridcolor='rgb(255, 255, 255)',\n",
    "        zerolinewidth=1,\n",
    "        ticklen=5,\n",
    "        gridwidth=2,\n",
    "    ),\n",
    "    yaxis=dict(\n",
    "        title='Total Drug Cost',\n",
    "        gridcolor='rgb(255, 255, 255)',\n",
    "        zerolinewidth=1,\n",
    "        ticklen=5,\n",
    "        gridwidth=2,\n",
    "    ),\n",
    "    paper_bgcolor='rgb(243, 243, 243)',\n",
    "    plot_bgcolor='rgb(243, 243, 243)',\n",
    ")\n",
    "\n",
    "fig = go.Figure(data=data, layout=layout)\n",
    "iplot(fig, filename='scatter-colorscale')\n"
   ]
  },
  {
   "cell_type": "code",
   "execution_count": 9,
   "metadata": {},
   "outputs": [
    {
     "output_type": "execute_result",
     "data": {
      "text/plain": [
       "                   drug_name  total_claim_count_millions  \\\n",
       "0       LEVOTHYROXINE SODIUM                        42.0   \n",
       "1                 LISINOPRIL                        38.0   \n",
       "2        AMLODIPINE BESYLATE                        36.0   \n",
       "3                SIMVASTATIN                        34.0   \n",
       "4       ATORVASTATIN CALCIUM                        32.0   \n",
       "5                 OMEPRAZOLE                        32.0   \n",
       "6  HYDROCODONE/ACETAMINOPHEN                        32.0   \n",
       "7              METFORMIN HCL                        27.0   \n",
       "8                 FUROSEMIDE                        26.0   \n",
       "9                 GABAPENTIN                        21.0   \n",
       "\n",
       "   total_day_supply_millions  total_drug_cost_millions  max_claim  max_day  \\\n",
       "0                     2153.0                     831.0       6498   171754   \n",
       "1                     1954.0                     278.0       5923   129872   \n",
       "2                     1774.0                     302.0       7516   141792   \n",
       "3                     1844.0                     343.0       3994   165190   \n",
       "4                     1689.0                     748.0       4687   188889   \n",
       "5                     1487.0                     519.0       4884   142942   \n",
       "6                      656.0                     669.0       7979   237610   \n",
       "7                     1355.0                     326.0       2670    98912   \n",
       "8                     1077.0                     133.0       8070   183059   \n",
       "9                      820.0                     491.0       5255   136212   \n",
       "\n",
       "    max_cost     var_claim       var_day      var_cost  \n",
       "0  152571.44  31942.245714  7.133009e+07  1.183943e+07  \n",
       "1   45180.97  26393.958291  6.686735e+07  1.564915e+06  \n",
       "2   62784.00  29720.516914  6.275274e+07  2.100584e+06  \n",
       "3   53232.74  28001.051889  7.901854e+07  3.092799e+06  \n",
       "4  132071.09  24893.911274  6.696100e+07  1.459193e+07  \n",
       "5   78243.60  24583.781444  4.729918e+07  6.644056e+06  \n",
       "6  253168.34  34546.738889  2.440737e+07  2.095438e+07  \n",
       "7  116479.46  12609.643749  2.853354e+07  2.984249e+06  \n",
       "8   49104.29  27231.562637  2.852059e+07  8.094267e+05  \n",
       "9  140668.81  13591.728659  1.678917e+07  7.766494e+06  "
      ],
      "text/html": "<div>\n<style scoped>\n    .dataframe tbody tr th:only-of-type {\n        vertical-align: middle;\n    }\n\n    .dataframe tbody tr th {\n        vertical-align: top;\n    }\n\n    .dataframe thead th {\n        text-align: right;\n    }\n</style>\n<table border=\"1\" class=\"dataframe\">\n  <thead>\n    <tr style=\"text-align: right;\">\n      <th></th>\n      <th>drug_name</th>\n      <th>total_claim_count_millions</th>\n      <th>total_day_supply_millions</th>\n      <th>total_drug_cost_millions</th>\n      <th>max_claim</th>\n      <th>max_day</th>\n      <th>max_cost</th>\n      <th>var_claim</th>\n      <th>var_day</th>\n      <th>var_cost</th>\n    </tr>\n  </thead>\n  <tbody>\n    <tr>\n      <th>0</th>\n      <td>LEVOTHYROXINE SODIUM</td>\n      <td>42.0</td>\n      <td>2153.0</td>\n      <td>831.0</td>\n      <td>6498</td>\n      <td>171754</td>\n      <td>152571.44</td>\n      <td>31942.245714</td>\n      <td>7.133009e+07</td>\n      <td>1.183943e+07</td>\n    </tr>\n    <tr>\n      <th>1</th>\n      <td>LISINOPRIL</td>\n      <td>38.0</td>\n      <td>1954.0</td>\n      <td>278.0</td>\n      <td>5923</td>\n      <td>129872</td>\n      <td>45180.97</td>\n      <td>26393.958291</td>\n      <td>6.686735e+07</td>\n      <td>1.564915e+06</td>\n    </tr>\n    <tr>\n      <th>2</th>\n      <td>AMLODIPINE BESYLATE</td>\n      <td>36.0</td>\n      <td>1774.0</td>\n      <td>302.0</td>\n      <td>7516</td>\n      <td>141792</td>\n      <td>62784.00</td>\n      <td>29720.516914</td>\n      <td>6.275274e+07</td>\n      <td>2.100584e+06</td>\n    </tr>\n    <tr>\n      <th>3</th>\n      <td>SIMVASTATIN</td>\n      <td>34.0</td>\n      <td>1844.0</td>\n      <td>343.0</td>\n      <td>3994</td>\n      <td>165190</td>\n      <td>53232.74</td>\n      <td>28001.051889</td>\n      <td>7.901854e+07</td>\n      <td>3.092799e+06</td>\n    </tr>\n    <tr>\n      <th>4</th>\n      <td>ATORVASTATIN CALCIUM</td>\n      <td>32.0</td>\n      <td>1689.0</td>\n      <td>748.0</td>\n      <td>4687</td>\n      <td>188889</td>\n      <td>132071.09</td>\n      <td>24893.911274</td>\n      <td>6.696100e+07</td>\n      <td>1.459193e+07</td>\n    </tr>\n    <tr>\n      <th>5</th>\n      <td>OMEPRAZOLE</td>\n      <td>32.0</td>\n      <td>1487.0</td>\n      <td>519.0</td>\n      <td>4884</td>\n      <td>142942</td>\n      <td>78243.60</td>\n      <td>24583.781444</td>\n      <td>4.729918e+07</td>\n      <td>6.644056e+06</td>\n    </tr>\n    <tr>\n      <th>6</th>\n      <td>HYDROCODONE/ACETAMINOPHEN</td>\n      <td>32.0</td>\n      <td>656.0</td>\n      <td>669.0</td>\n      <td>7979</td>\n      <td>237610</td>\n      <td>253168.34</td>\n      <td>34546.738889</td>\n      <td>2.440737e+07</td>\n      <td>2.095438e+07</td>\n    </tr>\n    <tr>\n      <th>7</th>\n      <td>METFORMIN HCL</td>\n      <td>27.0</td>\n      <td>1355.0</td>\n      <td>326.0</td>\n      <td>2670</td>\n      <td>98912</td>\n      <td>116479.46</td>\n      <td>12609.643749</td>\n      <td>2.853354e+07</td>\n      <td>2.984249e+06</td>\n    </tr>\n    <tr>\n      <th>8</th>\n      <td>FUROSEMIDE</td>\n      <td>26.0</td>\n      <td>1077.0</td>\n      <td>133.0</td>\n      <td>8070</td>\n      <td>183059</td>\n      <td>49104.29</td>\n      <td>27231.562637</td>\n      <td>2.852059e+07</td>\n      <td>8.094267e+05</td>\n    </tr>\n    <tr>\n      <th>9</th>\n      <td>GABAPENTIN</td>\n      <td>21.0</td>\n      <td>820.0</td>\n      <td>491.0</td>\n      <td>5255</td>\n      <td>136212</td>\n      <td>140668.81</td>\n      <td>13591.728659</td>\n      <td>1.678917e+07</td>\n      <td>7.766494e+06</td>\n    </tr>\n  </tbody>\n</table>\n</div>"
     },
     "metadata": {},
     "execution_count": 9
    }
   ],
   "source": [
    "query1 = \"\"\"SELECT\n",
    " # COUNT(DISTINCT npi) AS NPI,\n",
    "  generic_name AS drug_name,\n",
    "  ROUND(SUM(total_claim_count) / 1e6) AS total_claim_count_millions,\n",
    "  ROUND(SUM(total_day_supply) / 1e6) AS total_day_supply_millions,\n",
    "  ROUND(SUM(total_drug_cost) / 1e6) AS total_drug_cost_millions,\n",
    "  MAX(total_claim_count) AS max_claim,\n",
    "  MAX(total_day_supply)  AS max_day,\n",
    "  MAX(total_drug_cost) AS  max_cost,\n",
    "  VARIANCE(total_claim_count) AS var_claim,\n",
    "  VARIANCE(total_day_supply) AS var_day,\n",
    "  VARIANCE(total_drug_cost) AS var_cost\n",
    "\n",
    "FROM\n",
    "  `bigquery-public-data.cms_medicare.part_d_prescriber_2014`\n",
    "GROUP BY\n",
    "  drug_name\n",
    "ORDER BY\n",
    "  total_claim_count_millions DESC;\n",
    "        \"\"\"\n",
    "most_pres_drug = medicare.query_to_pandas_safe(query1)\n",
    "most_pres_drug.head(10)\n"
   ]
  },
  {
   "cell_type": "code",
   "execution_count": 10,
   "metadata": {},
   "outputs": [
    {
     "output_type": "display_data",
     "data": {
      "application/vnd.plotly.v1+json": {
       "config": {
        "linkText": "Export to plot.ly",
        "plotlyServerURL": "https://plot.ly",
        "showLink": false
       },
       "data": [
        {
         "name": "Total Claims",
         "type": "bar",
         "x": [
          "LEVOTHYROXINE SODIUM",
          "LISINOPRIL",
          "AMLODIPINE BESYLATE",
          "SIMVASTATIN",
          "ATORVASTATIN CALCIUM",
          "OMEPRAZOLE",
          "HYDROCODONE/ACETAMINOPHEN",
          "METFORMIN HCL",
          "FUROSEMIDE",
          "GABAPENTIN",
          "METOPROLOL TARTRATE",
          "LOSARTAN POTASSIUM",
          "HYDROCHLOROTHIAZIDE",
          "METOPROLOL SUCCINATE",
          "POTASSIUM CHLORIDE",
          "WARFARIN SODIUM",
          "CLOPIDOGREL BISULFATE",
          "PRAVASTATIN SODIUM",
          "TRAMADOL HCL",
          "ATENOLOL",
          "ALPRAZOLAM",
          "CARVEDILOL",
          "TAMSULOSIN HCL",
          "SERTRALINE HCL",
          "PANTOPRAZOLE SODIUM",
          "ZOLPIDEM TARTRATE",
          "CITALOPRAM HYDROBROMIDE",
          "TRAZODONE HCL",
          "LORAZEPAM",
          "ALBUTEROL SULFATE",
          "FLUTICASONE PROPIONATE",
          "PREDNISONE",
          "ROSUVASTATIN CALCIUM",
          "CLONAZEPAM",
          "OXYCODONE HCL/ACETAMINOPHEN",
          "INSULIN GLARGINE,HUM.REC.ANLOG",
          "ALLOPURINOL",
          "MELOXICAM",
          "GLIPIZIDE",
          "DONEPEZIL HCL",
          "LISINOPRIL/HYDROCHLOROTHIAZIDE",
          "RANITIDINE HCL",
          "MEMANTINE HCL",
          "ESOMEPRAZOLE MAGNESIUM",
          "MONTELUKAST SODIUM",
          "OXYCODONE HCL",
          "ALENDRONATE SODIUM",
          "ESCITALOPRAM OXALATE",
          "DULOXETINE HCL",
          "QUETIAPINE FUMARATE"
         ],
         "y": [
          42,
          38,
          36,
          34,
          32,
          32,
          32,
          27,
          26,
          21,
          21,
          18,
          17,
          17,
          17,
          17,
          15,
          14,
          13,
          13,
          13,
          13,
          12,
          11,
          11,
          10,
          10,
          10,
          10,
          10,
          10,
          10,
          9,
          9,
          9,
          8,
          8,
          8,
          8,
          8,
          7,
          7,
          7,
          7,
          7,
          7,
          7,
          7,
          7,
          7
         ]
        },
        {
         "name": "Total Day Supply",
         "type": "bar",
         "x": [
          "LEVOTHYROXINE SODIUM",
          "LISINOPRIL",
          "AMLODIPINE BESYLATE",
          "SIMVASTATIN",
          "ATORVASTATIN CALCIUM",
          "OMEPRAZOLE",
          "HYDROCODONE/ACETAMINOPHEN",
          "METFORMIN HCL",
          "FUROSEMIDE",
          "GABAPENTIN",
          "METOPROLOL TARTRATE",
          "LOSARTAN POTASSIUM",
          "HYDROCHLOROTHIAZIDE",
          "METOPROLOL SUCCINATE",
          "POTASSIUM CHLORIDE",
          "WARFARIN SODIUM",
          "CLOPIDOGREL BISULFATE",
          "PRAVASTATIN SODIUM",
          "TRAMADOL HCL",
          "ATENOLOL",
          "ALPRAZOLAM",
          "CARVEDILOL",
          "TAMSULOSIN HCL",
          "SERTRALINE HCL",
          "PANTOPRAZOLE SODIUM",
          "ZOLPIDEM TARTRATE",
          "CITALOPRAM HYDROBROMIDE",
          "TRAZODONE HCL",
          "LORAZEPAM",
          "ALBUTEROL SULFATE",
          "FLUTICASONE PROPIONATE",
          "PREDNISONE",
          "ROSUVASTATIN CALCIUM",
          "CLONAZEPAM",
          "OXYCODONE HCL/ACETAMINOPHEN",
          "INSULIN GLARGINE,HUM.REC.ANLOG",
          "ALLOPURINOL",
          "MELOXICAM",
          "GLIPIZIDE",
          "DONEPEZIL HCL",
          "LISINOPRIL/HYDROCHLOROTHIAZIDE",
          "RANITIDINE HCL",
          "MEMANTINE HCL",
          "ESOMEPRAZOLE MAGNESIUM",
          "MONTELUKAST SODIUM",
          "OXYCODONE HCL",
          "ALENDRONATE SODIUM",
          "ESCITALOPRAM OXALATE",
          "DULOXETINE HCL",
          "QUETIAPINE FUMARATE"
         ],
         "y": [
          2153,
          1954,
          1774,
          1844,
          1689,
          1487,
          656,
          1355,
          1077,
          820,
          995,
          941,
          948,
          881,
          709,
          648,
          690,
          762,
          322,
          732,
          392,
          623,
          561,
          456,
          477,
          328,
          434,
          365,
          267,
          276,
          385,
          242,
          405,
          290,
          179,
          299,
          390,
          321,
          379,
          297,
          400,
          288,
          174,
          284,
          296,
          176,
          337,
          256,
          242,
          226
         ]
        },
        {
         "name": "Total Drug Cost",
         "type": "bar",
         "x": [
          "LEVOTHYROXINE SODIUM",
          "LISINOPRIL",
          "AMLODIPINE BESYLATE",
          "SIMVASTATIN",
          "ATORVASTATIN CALCIUM",
          "OMEPRAZOLE",
          "HYDROCODONE/ACETAMINOPHEN",
          "METFORMIN HCL",
          "FUROSEMIDE",
          "GABAPENTIN",
          "METOPROLOL TARTRATE",
          "LOSARTAN POTASSIUM",
          "HYDROCHLOROTHIAZIDE",
          "METOPROLOL SUCCINATE",
          "POTASSIUM CHLORIDE",
          "WARFARIN SODIUM",
          "CLOPIDOGREL BISULFATE",
          "PRAVASTATIN SODIUM",
          "TRAMADOL HCL",
          "ATENOLOL",
          "ALPRAZOLAM",
          "CARVEDILOL",
          "TAMSULOSIN HCL",
          "SERTRALINE HCL",
          "PANTOPRAZOLE SODIUM",
          "ZOLPIDEM TARTRATE",
          "CITALOPRAM HYDROBROMIDE",
          "TRAZODONE HCL",
          "LORAZEPAM",
          "ALBUTEROL SULFATE",
          "FLUTICASONE PROPIONATE",
          "PREDNISONE",
          "ROSUVASTATIN CALCIUM",
          "CLONAZEPAM",
          "OXYCODONE HCL/ACETAMINOPHEN",
          "INSULIN GLARGINE,HUM.REC.ANLOG",
          "ALLOPURINOL",
          "MELOXICAM",
          "GLIPIZIDE",
          "DONEPEZIL HCL",
          "LISINOPRIL/HYDROCHLOROTHIAZIDE",
          "RANITIDINE HCL",
          "MEMANTINE HCL",
          "ESOMEPRAZOLE MAGNESIUM",
          "MONTELUKAST SODIUM",
          "OXYCODONE HCL",
          "ALENDRONATE SODIUM",
          "ESCITALOPRAM OXALATE",
          "DULOXETINE HCL",
          "QUETIAPINE FUMARATE"
         ],
         "y": [
          831,
          278,
          302,
          343,
          748,
          519,
          669,
          326,
          133,
          491,
          144,
          258,
          104,
          682,
          492,
          194,
          339,
          433,
          131,
          94,
          93,
          135,
          274,
          123,
          181,
          109,
          80,
          80,
          79,
          582,
          333,
          80,
          2396,
          69,
          492,
          3317,
          69,
          56,
          97,
          200,
          62,
          88,
          1686,
          2422,
          198,
          1126,
          76,
          148,
          1358,
          848
         ]
        }
       ],
       "layout": {
        "barmode": "group",
        "margin": {
         "b": 200
        },
        "template": {
         "data": {
          "bar": [
           {
            "error_x": {
             "color": "#2a3f5f"
            },
            "error_y": {
             "color": "#2a3f5f"
            },
            "marker": {
             "line": {
              "color": "#E5ECF6",
              "width": 0.5
             }
            },
            "type": "bar"
           }
          ],
          "barpolar": [
           {
            "marker": {
             "line": {
              "color": "#E5ECF6",
              "width": 0.5
             }
            },
            "type": "barpolar"
           }
          ],
          "carpet": [
           {
            "aaxis": {
             "endlinecolor": "#2a3f5f",
             "gridcolor": "white",
             "linecolor": "white",
             "minorgridcolor": "white",
             "startlinecolor": "#2a3f5f"
            },
            "baxis": {
             "endlinecolor": "#2a3f5f",
             "gridcolor": "white",
             "linecolor": "white",
             "minorgridcolor": "white",
             "startlinecolor": "#2a3f5f"
            },
            "type": "carpet"
           }
          ],
          "choropleth": [
           {
            "colorbar": {
             "outlinewidth": 0,
             "ticks": ""
            },
            "type": "choropleth"
           }
          ],
          "contour": [
           {
            "colorbar": {
             "outlinewidth": 0,
             "ticks": ""
            },
            "colorscale": [
             [
              0,
              "#0d0887"
             ],
             [
              0.1111111111111111,
              "#46039f"
             ],
             [
              0.2222222222222222,
              "#7201a8"
             ],
             [
              0.3333333333333333,
              "#9c179e"
             ],
             [
              0.4444444444444444,
              "#bd3786"
             ],
             [
              0.5555555555555556,
              "#d8576b"
             ],
             [
              0.6666666666666666,
              "#ed7953"
             ],
             [
              0.7777777777777778,
              "#fb9f3a"
             ],
             [
              0.8888888888888888,
              "#fdca26"
             ],
             [
              1,
              "#f0f921"
             ]
            ],
            "type": "contour"
           }
          ],
          "contourcarpet": [
           {
            "colorbar": {
             "outlinewidth": 0,
             "ticks": ""
            },
            "type": "contourcarpet"
           }
          ],
          "heatmap": [
           {
            "colorbar": {
             "outlinewidth": 0,
             "ticks": ""
            },
            "colorscale": [
             [
              0,
              "#0d0887"
             ],
             [
              0.1111111111111111,
              "#46039f"
             ],
             [
              0.2222222222222222,
              "#7201a8"
             ],
             [
              0.3333333333333333,
              "#9c179e"
             ],
             [
              0.4444444444444444,
              "#bd3786"
             ],
             [
              0.5555555555555556,
              "#d8576b"
             ],
             [
              0.6666666666666666,
              "#ed7953"
             ],
             [
              0.7777777777777778,
              "#fb9f3a"
             ],
             [
              0.8888888888888888,
              "#fdca26"
             ],
             [
              1,
              "#f0f921"
             ]
            ],
            "type": "heatmap"
           }
          ],
          "heatmapgl": [
           {
            "colorbar": {
             "outlinewidth": 0,
             "ticks": ""
            },
            "colorscale": [
             [
              0,
              "#0d0887"
             ],
             [
              0.1111111111111111,
              "#46039f"
             ],
             [
              0.2222222222222222,
              "#7201a8"
             ],
             [
              0.3333333333333333,
              "#9c179e"
             ],
             [
              0.4444444444444444,
              "#bd3786"
             ],
             [
              0.5555555555555556,
              "#d8576b"
             ],
             [
              0.6666666666666666,
              "#ed7953"
             ],
             [
              0.7777777777777778,
              "#fb9f3a"
             ],
             [
              0.8888888888888888,
              "#fdca26"
             ],
             [
              1,
              "#f0f921"
             ]
            ],
            "type": "heatmapgl"
           }
          ],
          "histogram": [
           {
            "marker": {
             "colorbar": {
              "outlinewidth": 0,
              "ticks": ""
             }
            },
            "type": "histogram"
           }
          ],
          "histogram2d": [
           {
            "colorbar": {
             "outlinewidth": 0,
             "ticks": ""
            },
            "colorscale": [
             [
              0,
              "#0d0887"
             ],
             [
              0.1111111111111111,
              "#46039f"
             ],
             [
              0.2222222222222222,
              "#7201a8"
             ],
             [
              0.3333333333333333,
              "#9c179e"
             ],
             [
              0.4444444444444444,
              "#bd3786"
             ],
             [
              0.5555555555555556,
              "#d8576b"
             ],
             [
              0.6666666666666666,
              "#ed7953"
             ],
             [
              0.7777777777777778,
              "#fb9f3a"
             ],
             [
              0.8888888888888888,
              "#fdca26"
             ],
             [
              1,
              "#f0f921"
             ]
            ],
            "type": "histogram2d"
           }
          ],
          "histogram2dcontour": [
           {
            "colorbar": {
             "outlinewidth": 0,
             "ticks": ""
            },
            "colorscale": [
             [
              0,
              "#0d0887"
             ],
             [
              0.1111111111111111,
              "#46039f"
             ],
             [
              0.2222222222222222,
              "#7201a8"
             ],
             [
              0.3333333333333333,
              "#9c179e"
             ],
             [
              0.4444444444444444,
              "#bd3786"
             ],
             [
              0.5555555555555556,
              "#d8576b"
             ],
             [
              0.6666666666666666,
              "#ed7953"
             ],
             [
              0.7777777777777778,
              "#fb9f3a"
             ],
             [
              0.8888888888888888,
              "#fdca26"
             ],
             [
              1,
              "#f0f921"
             ]
            ],
            "type": "histogram2dcontour"
           }
          ],
          "mesh3d": [
           {
            "colorbar": {
             "outlinewidth": 0,
             "ticks": ""
            },
            "type": "mesh3d"
           }
          ],
          "parcoords": [
           {
            "line": {
             "colorbar": {
              "outlinewidth": 0,
              "ticks": ""
             }
            },
            "type": "parcoords"
           }
          ],
          "pie": [
           {
            "automargin": true,
            "type": "pie"
           }
          ],
          "scatter": [
           {
            "marker": {
             "colorbar": {
              "outlinewidth": 0,
              "ticks": ""
             }
            },
            "type": "scatter"
           }
          ],
          "scatter3d": [
           {
            "line": {
             "colorbar": {
              "outlinewidth": 0,
              "ticks": ""
             }
            },
            "marker": {
             "colorbar": {
              "outlinewidth": 0,
              "ticks": ""
             }
            },
            "type": "scatter3d"
           }
          ],
          "scattercarpet": [
           {
            "marker": {
             "colorbar": {
              "outlinewidth": 0,
              "ticks": ""
             }
            },
            "type": "scattercarpet"
           }
          ],
          "scattergeo": [
           {
            "marker": {
             "colorbar": {
              "outlinewidth": 0,
              "ticks": ""
             }
            },
            "type": "scattergeo"
           }
          ],
          "scattergl": [
           {
            "marker": {
             "colorbar": {
              "outlinewidth": 0,
              "ticks": ""
             }
            },
            "type": "scattergl"
           }
          ],
          "scattermapbox": [
           {
            "marker": {
             "colorbar": {
              "outlinewidth": 0,
              "ticks": ""
             }
            },
            "type": "scattermapbox"
           }
          ],
          "scatterpolar": [
           {
            "marker": {
             "colorbar": {
              "outlinewidth": 0,
              "ticks": ""
             }
            },
            "type": "scatterpolar"
           }
          ],
          "scatterpolargl": [
           {
            "marker": {
             "colorbar": {
              "outlinewidth": 0,
              "ticks": ""
             }
            },
            "type": "scatterpolargl"
           }
          ],
          "scatterternary": [
           {
            "marker": {
             "colorbar": {
              "outlinewidth": 0,
              "ticks": ""
             }
            },
            "type": "scatterternary"
           }
          ],
          "surface": [
           {
            "colorbar": {
             "outlinewidth": 0,
             "ticks": ""
            },
            "colorscale": [
             [
              0,
              "#0d0887"
             ],
             [
              0.1111111111111111,
              "#46039f"
             ],
             [
              0.2222222222222222,
              "#7201a8"
             ],
             [
              0.3333333333333333,
              "#9c179e"
             ],
             [
              0.4444444444444444,
              "#bd3786"
             ],
             [
              0.5555555555555556,
              "#d8576b"
             ],
             [
              0.6666666666666666,
              "#ed7953"
             ],
             [
              0.7777777777777778,
              "#fb9f3a"
             ],
             [
              0.8888888888888888,
              "#fdca26"
             ],
             [
              1,
              "#f0f921"
             ]
            ],
            "type": "surface"
           }
          ],
          "table": [
           {
            "cells": {
             "fill": {
              "color": "#EBF0F8"
             },
             "line": {
              "color": "white"
             }
            },
            "header": {
             "fill": {
              "color": "#C8D4E3"
             },
             "line": {
              "color": "white"
             }
            },
            "type": "table"
           }
          ]
         },
         "layout": {
          "annotationdefaults": {
           "arrowcolor": "#2a3f5f",
           "arrowhead": 0,
           "arrowwidth": 1
          },
          "autotypenumbers": "strict",
          "coloraxis": {
           "colorbar": {
            "outlinewidth": 0,
            "ticks": ""
           }
          },
          "colorscale": {
           "diverging": [
            [
             0,
             "#8e0152"
            ],
            [
             0.1,
             "#c51b7d"
            ],
            [
             0.2,
             "#de77ae"
            ],
            [
             0.3,
             "#f1b6da"
            ],
            [
             0.4,
             "#fde0ef"
            ],
            [
             0.5,
             "#f7f7f7"
            ],
            [
             0.6,
             "#e6f5d0"
            ],
            [
             0.7,
             "#b8e186"
            ],
            [
             0.8,
             "#7fbc41"
            ],
            [
             0.9,
             "#4d9221"
            ],
            [
             1,
             "#276419"
            ]
           ],
           "sequential": [
            [
             0,
             "#0d0887"
            ],
            [
             0.1111111111111111,
             "#46039f"
            ],
            [
             0.2222222222222222,
             "#7201a8"
            ],
            [
             0.3333333333333333,
             "#9c179e"
            ],
            [
             0.4444444444444444,
             "#bd3786"
            ],
            [
             0.5555555555555556,
             "#d8576b"
            ],
            [
             0.6666666666666666,
             "#ed7953"
            ],
            [
             0.7777777777777778,
             "#fb9f3a"
            ],
            [
             0.8888888888888888,
             "#fdca26"
            ],
            [
             1,
             "#f0f921"
            ]
           ],
           "sequentialminus": [
            [
             0,
             "#0d0887"
            ],
            [
             0.1111111111111111,
             "#46039f"
            ],
            [
             0.2222222222222222,
             "#7201a8"
            ],
            [
             0.3333333333333333,
             "#9c179e"
            ],
            [
             0.4444444444444444,
             "#bd3786"
            ],
            [
             0.5555555555555556,
             "#d8576b"
            ],
            [
             0.6666666666666666,
             "#ed7953"
            ],
            [
             0.7777777777777778,
             "#fb9f3a"
            ],
            [
             0.8888888888888888,
             "#fdca26"
            ],
            [
             1,
             "#f0f921"
            ]
           ]
          },
          "colorway": [
           "#636efa",
           "#EF553B",
           "#00cc96",
           "#ab63fa",
           "#FFA15A",
           "#19d3f3",
           "#FF6692",
           "#B6E880",
           "#FF97FF",
           "#FECB52"
          ],
          "font": {
           "color": "#2a3f5f"
          },
          "geo": {
           "bgcolor": "white",
           "lakecolor": "white",
           "landcolor": "#E5ECF6",
           "showlakes": true,
           "showland": true,
           "subunitcolor": "white"
          },
          "hoverlabel": {
           "align": "left"
          },
          "hovermode": "closest",
          "mapbox": {
           "style": "light"
          },
          "paper_bgcolor": "white",
          "plot_bgcolor": "#E5ECF6",
          "polar": {
           "angularaxis": {
            "gridcolor": "white",
            "linecolor": "white",
            "ticks": ""
           },
           "bgcolor": "#E5ECF6",
           "radialaxis": {
            "gridcolor": "white",
            "linecolor": "white",
            "ticks": ""
           }
          },
          "scene": {
           "xaxis": {
            "backgroundcolor": "#E5ECF6",
            "gridcolor": "white",
            "gridwidth": 2,
            "linecolor": "white",
            "showbackground": true,
            "ticks": "",
            "zerolinecolor": "white"
           },
           "yaxis": {
            "backgroundcolor": "#E5ECF6",
            "gridcolor": "white",
            "gridwidth": 2,
            "linecolor": "white",
            "showbackground": true,
            "ticks": "",
            "zerolinecolor": "white"
           },
           "zaxis": {
            "backgroundcolor": "#E5ECF6",
            "gridcolor": "white",
            "gridwidth": 2,
            "linecolor": "white",
            "showbackground": true,
            "ticks": "",
            "zerolinecolor": "white"
           }
          },
          "shapedefaults": {
           "line": {
            "color": "#2a3f5f"
           }
          },
          "ternary": {
           "aaxis": {
            "gridcolor": "white",
            "linecolor": "white",
            "ticks": ""
           },
           "baxis": {
            "gridcolor": "white",
            "linecolor": "white",
            "ticks": ""
           },
           "bgcolor": "#E5ECF6",
           "caxis": {
            "gridcolor": "white",
            "linecolor": "white",
            "ticks": ""
           }
          },
          "title": {
           "x": 0.05
          },
          "xaxis": {
           "automargin": true,
           "gridcolor": "white",
           "linecolor": "white",
           "ticks": "",
           "title": {
            "standoff": 15
           },
           "zerolinecolor": "white",
           "zerolinewidth": 2
          },
          "yaxis": {
           "automargin": true,
           "gridcolor": "white",
           "linecolor": "white",
           "ticks": "",
           "title": {
            "standoff": 15
           },
           "zerolinecolor": "white",
           "zerolinewidth": 2
          }
         }
        }
       }
      },
      "text/html": "<div>                            <div id=\"1a299d86-ebb1-484e-a78e-7d7a805dc799\" class=\"plotly-graph-div\" style=\"height:525px; width:100%;\"></div>            <script type=\"text/javascript\">                require([\"plotly\"], function(Plotly) {                    window.PLOTLYENV=window.PLOTLYENV || {};                                    if (document.getElementById(\"1a299d86-ebb1-484e-a78e-7d7a805dc799\")) {                    Plotly.newPlot(                        \"1a299d86-ebb1-484e-a78e-7d7a805dc799\",                        [{\"name\": \"Total Claims\", \"type\": \"bar\", \"x\": [\"LEVOTHYROXINE SODIUM\", \"LISINOPRIL\", \"AMLODIPINE BESYLATE\", \"SIMVASTATIN\", \"ATORVASTATIN CALCIUM\", \"OMEPRAZOLE\", \"HYDROCODONE/ACETAMINOPHEN\", \"METFORMIN HCL\", \"FUROSEMIDE\", \"GABAPENTIN\", \"METOPROLOL TARTRATE\", \"LOSARTAN POTASSIUM\", \"HYDROCHLOROTHIAZIDE\", \"METOPROLOL SUCCINATE\", \"POTASSIUM CHLORIDE\", \"WARFARIN SODIUM\", \"CLOPIDOGREL BISULFATE\", \"PRAVASTATIN SODIUM\", \"TRAMADOL HCL\", \"ATENOLOL\", \"ALPRAZOLAM\", \"CARVEDILOL\", \"TAMSULOSIN HCL\", \"SERTRALINE HCL\", \"PANTOPRAZOLE SODIUM\", \"ZOLPIDEM TARTRATE\", \"CITALOPRAM HYDROBROMIDE\", \"TRAZODONE HCL\", \"LORAZEPAM\", \"ALBUTEROL SULFATE\", \"FLUTICASONE PROPIONATE\", \"PREDNISONE\", \"ROSUVASTATIN CALCIUM\", \"CLONAZEPAM\", \"OXYCODONE HCL/ACETAMINOPHEN\", \"INSULIN GLARGINE,HUM.REC.ANLOG\", \"ALLOPURINOL\", \"MELOXICAM\", \"GLIPIZIDE\", \"DONEPEZIL HCL\", \"LISINOPRIL/HYDROCHLOROTHIAZIDE\", \"RANITIDINE HCL\", \"MEMANTINE HCL\", \"ESOMEPRAZOLE MAGNESIUM\", \"MONTELUKAST SODIUM\", \"OXYCODONE HCL\", \"ALENDRONATE SODIUM\", \"ESCITALOPRAM OXALATE\", \"DULOXETINE HCL\", \"QUETIAPINE FUMARATE\"], \"y\": [42.0, 38.0, 36.0, 34.0, 32.0, 32.0, 32.0, 27.0, 26.0, 21.0, 21.0, 18.0, 17.0, 17.0, 17.0, 17.0, 15.0, 14.0, 13.0, 13.0, 13.0, 13.0, 12.0, 11.0, 11.0, 10.0, 10.0, 10.0, 10.0, 10.0, 10.0, 10.0, 9.0, 9.0, 9.0, 8.0, 8.0, 8.0, 8.0, 8.0, 7.0, 7.0, 7.0, 7.0, 7.0, 7.0, 7.0, 7.0, 7.0, 7.0]}, {\"name\": \"Total Day Supply\", \"type\": \"bar\", \"x\": [\"LEVOTHYROXINE SODIUM\", \"LISINOPRIL\", \"AMLODIPINE BESYLATE\", \"SIMVASTATIN\", \"ATORVASTATIN CALCIUM\", \"OMEPRAZOLE\", \"HYDROCODONE/ACETAMINOPHEN\", \"METFORMIN HCL\", \"FUROSEMIDE\", \"GABAPENTIN\", \"METOPROLOL TARTRATE\", \"LOSARTAN POTASSIUM\", \"HYDROCHLOROTHIAZIDE\", \"METOPROLOL SUCCINATE\", \"POTASSIUM CHLORIDE\", \"WARFARIN SODIUM\", \"CLOPIDOGREL BISULFATE\", \"PRAVASTATIN SODIUM\", \"TRAMADOL HCL\", \"ATENOLOL\", \"ALPRAZOLAM\", \"CARVEDILOL\", \"TAMSULOSIN HCL\", \"SERTRALINE HCL\", \"PANTOPRAZOLE SODIUM\", \"ZOLPIDEM TARTRATE\", \"CITALOPRAM HYDROBROMIDE\", \"TRAZODONE HCL\", \"LORAZEPAM\", \"ALBUTEROL SULFATE\", \"FLUTICASONE PROPIONATE\", \"PREDNISONE\", \"ROSUVASTATIN CALCIUM\", \"CLONAZEPAM\", \"OXYCODONE HCL/ACETAMINOPHEN\", \"INSULIN GLARGINE,HUM.REC.ANLOG\", \"ALLOPURINOL\", \"MELOXICAM\", \"GLIPIZIDE\", \"DONEPEZIL HCL\", \"LISINOPRIL/HYDROCHLOROTHIAZIDE\", \"RANITIDINE HCL\", \"MEMANTINE HCL\", \"ESOMEPRAZOLE MAGNESIUM\", \"MONTELUKAST SODIUM\", \"OXYCODONE HCL\", \"ALENDRONATE SODIUM\", \"ESCITALOPRAM OXALATE\", \"DULOXETINE HCL\", \"QUETIAPINE FUMARATE\"], \"y\": [2153.0, 1954.0, 1774.0, 1844.0, 1689.0, 1487.0, 656.0, 1355.0, 1077.0, 820.0, 995.0, 941.0, 948.0, 881.0, 709.0, 648.0, 690.0, 762.0, 322.0, 732.0, 392.0, 623.0, 561.0, 456.0, 477.0, 328.0, 434.0, 365.0, 267.0, 276.0, 385.0, 242.0, 405.0, 290.0, 179.0, 299.0, 390.0, 321.0, 379.0, 297.0, 400.0, 288.0, 174.0, 284.0, 296.0, 176.0, 337.0, 256.0, 242.0, 226.0]}, {\"name\": \"Total Drug Cost\", \"type\": \"bar\", \"x\": [\"LEVOTHYROXINE SODIUM\", \"LISINOPRIL\", \"AMLODIPINE BESYLATE\", \"SIMVASTATIN\", \"ATORVASTATIN CALCIUM\", \"OMEPRAZOLE\", \"HYDROCODONE/ACETAMINOPHEN\", \"METFORMIN HCL\", \"FUROSEMIDE\", \"GABAPENTIN\", \"METOPROLOL TARTRATE\", \"LOSARTAN POTASSIUM\", \"HYDROCHLOROTHIAZIDE\", \"METOPROLOL SUCCINATE\", \"POTASSIUM CHLORIDE\", \"WARFARIN SODIUM\", \"CLOPIDOGREL BISULFATE\", \"PRAVASTATIN SODIUM\", \"TRAMADOL HCL\", \"ATENOLOL\", \"ALPRAZOLAM\", \"CARVEDILOL\", \"TAMSULOSIN HCL\", \"SERTRALINE HCL\", \"PANTOPRAZOLE SODIUM\", \"ZOLPIDEM TARTRATE\", \"CITALOPRAM HYDROBROMIDE\", \"TRAZODONE HCL\", \"LORAZEPAM\", \"ALBUTEROL SULFATE\", \"FLUTICASONE PROPIONATE\", \"PREDNISONE\", \"ROSUVASTATIN CALCIUM\", \"CLONAZEPAM\", \"OXYCODONE HCL/ACETAMINOPHEN\", \"INSULIN GLARGINE,HUM.REC.ANLOG\", \"ALLOPURINOL\", \"MELOXICAM\", \"GLIPIZIDE\", \"DONEPEZIL HCL\", \"LISINOPRIL/HYDROCHLOROTHIAZIDE\", \"RANITIDINE HCL\", \"MEMANTINE HCL\", \"ESOMEPRAZOLE MAGNESIUM\", \"MONTELUKAST SODIUM\", \"OXYCODONE HCL\", \"ALENDRONATE SODIUM\", \"ESCITALOPRAM OXALATE\", \"DULOXETINE HCL\", \"QUETIAPINE FUMARATE\"], \"y\": [831.0, 278.0, 302.0, 343.0, 748.0, 519.0, 669.0, 326.0, 133.0, 491.0, 144.0, 258.0, 104.0, 682.0, 492.0, 194.0, 339.0, 433.0, 131.0, 94.0, 93.0, 135.0, 274.0, 123.0, 181.0, 109.0, 80.0, 80.0, 79.0, 582.0, 333.0, 80.0, 2396.0, 69.0, 492.0, 3317.0, 69.0, 56.0, 97.0, 200.0, 62.0, 88.0, 1686.0, 2422.0, 198.0, 1126.0, 76.0, 148.0, 1358.0, 848.0]}],                        {\"barmode\": \"group\", \"margin\": {\"b\": 200}, \"template\": {\"data\": {\"bar\": [{\"error_x\": {\"color\": \"#2a3f5f\"}, \"error_y\": {\"color\": \"#2a3f5f\"}, \"marker\": {\"line\": {\"color\": \"#E5ECF6\", \"width\": 0.5}}, \"type\": \"bar\"}], \"barpolar\": [{\"marker\": {\"line\": {\"color\": \"#E5ECF6\", \"width\": 0.5}}, \"type\": \"barpolar\"}], \"carpet\": [{\"aaxis\": {\"endlinecolor\": \"#2a3f5f\", \"gridcolor\": \"white\", \"linecolor\": \"white\", \"minorgridcolor\": \"white\", \"startlinecolor\": \"#2a3f5f\"}, \"baxis\": {\"endlinecolor\": \"#2a3f5f\", \"gridcolor\": \"white\", \"linecolor\": \"white\", \"minorgridcolor\": \"white\", \"startlinecolor\": \"#2a3f5f\"}, \"type\": \"carpet\"}], \"choropleth\": [{\"colorbar\": {\"outlinewidth\": 0, \"ticks\": \"\"}, \"type\": \"choropleth\"}], \"contour\": [{\"colorbar\": {\"outlinewidth\": 0, \"ticks\": \"\"}, \"colorscale\": [[0.0, \"#0d0887\"], [0.1111111111111111, \"#46039f\"], [0.2222222222222222, \"#7201a8\"], [0.3333333333333333, \"#9c179e\"], [0.4444444444444444, \"#bd3786\"], [0.5555555555555556, \"#d8576b\"], [0.6666666666666666, \"#ed7953\"], [0.7777777777777778, \"#fb9f3a\"], [0.8888888888888888, \"#fdca26\"], [1.0, \"#f0f921\"]], \"type\": \"contour\"}], \"contourcarpet\": [{\"colorbar\": {\"outlinewidth\": 0, \"ticks\": \"\"}, \"type\": \"contourcarpet\"}], \"heatmap\": [{\"colorbar\": {\"outlinewidth\": 0, \"ticks\": \"\"}, \"colorscale\": [[0.0, \"#0d0887\"], [0.1111111111111111, \"#46039f\"], [0.2222222222222222, \"#7201a8\"], [0.3333333333333333, \"#9c179e\"], [0.4444444444444444, \"#bd3786\"], [0.5555555555555556, \"#d8576b\"], [0.6666666666666666, \"#ed7953\"], [0.7777777777777778, \"#fb9f3a\"], [0.8888888888888888, \"#fdca26\"], [1.0, \"#f0f921\"]], \"type\": \"heatmap\"}], \"heatmapgl\": [{\"colorbar\": {\"outlinewidth\": 0, \"ticks\": \"\"}, \"colorscale\": [[0.0, \"#0d0887\"], [0.1111111111111111, \"#46039f\"], [0.2222222222222222, \"#7201a8\"], [0.3333333333333333, \"#9c179e\"], [0.4444444444444444, \"#bd3786\"], [0.5555555555555556, \"#d8576b\"], [0.6666666666666666, \"#ed7953\"], [0.7777777777777778, \"#fb9f3a\"], [0.8888888888888888, \"#fdca26\"], [1.0, \"#f0f921\"]], \"type\": \"heatmapgl\"}], \"histogram\": [{\"marker\": {\"colorbar\": {\"outlinewidth\": 0, \"ticks\": \"\"}}, \"type\": \"histogram\"}], \"histogram2d\": [{\"colorbar\": {\"outlinewidth\": 0, \"ticks\": \"\"}, \"colorscale\": [[0.0, \"#0d0887\"], [0.1111111111111111, \"#46039f\"], [0.2222222222222222, \"#7201a8\"], [0.3333333333333333, \"#9c179e\"], [0.4444444444444444, \"#bd3786\"], [0.5555555555555556, \"#d8576b\"], [0.6666666666666666, \"#ed7953\"], [0.7777777777777778, \"#fb9f3a\"], [0.8888888888888888, \"#fdca26\"], [1.0, \"#f0f921\"]], \"type\": \"histogram2d\"}], \"histogram2dcontour\": [{\"colorbar\": {\"outlinewidth\": 0, \"ticks\": \"\"}, \"colorscale\": [[0.0, \"#0d0887\"], [0.1111111111111111, \"#46039f\"], [0.2222222222222222, \"#7201a8\"], [0.3333333333333333, \"#9c179e\"], [0.4444444444444444, \"#bd3786\"], [0.5555555555555556, \"#d8576b\"], [0.6666666666666666, \"#ed7953\"], [0.7777777777777778, \"#fb9f3a\"], [0.8888888888888888, \"#fdca26\"], [1.0, \"#f0f921\"]], \"type\": \"histogram2dcontour\"}], \"mesh3d\": [{\"colorbar\": {\"outlinewidth\": 0, \"ticks\": \"\"}, \"type\": \"mesh3d\"}], \"parcoords\": [{\"line\": {\"colorbar\": {\"outlinewidth\": 0, \"ticks\": \"\"}}, \"type\": \"parcoords\"}], \"pie\": [{\"automargin\": true, \"type\": \"pie\"}], \"scatter\": [{\"marker\": {\"colorbar\": {\"outlinewidth\": 0, \"ticks\": \"\"}}, \"type\": \"scatter\"}], \"scatter3d\": [{\"line\": {\"colorbar\": {\"outlinewidth\": 0, \"ticks\": \"\"}}, \"marker\": {\"colorbar\": {\"outlinewidth\": 0, \"ticks\": \"\"}}, \"type\": \"scatter3d\"}], \"scattercarpet\": [{\"marker\": {\"colorbar\": {\"outlinewidth\": 0, \"ticks\": \"\"}}, \"type\": \"scattercarpet\"}], \"scattergeo\": [{\"marker\": {\"colorbar\": {\"outlinewidth\": 0, \"ticks\": \"\"}}, \"type\": \"scattergeo\"}], \"scattergl\": [{\"marker\": {\"colorbar\": {\"outlinewidth\": 0, \"ticks\": \"\"}}, \"type\": \"scattergl\"}], \"scattermapbox\": [{\"marker\": {\"colorbar\": {\"outlinewidth\": 0, \"ticks\": \"\"}}, \"type\": \"scattermapbox\"}], \"scatterpolar\": [{\"marker\": {\"colorbar\": {\"outlinewidth\": 0, \"ticks\": \"\"}}, \"type\": \"scatterpolar\"}], \"scatterpolargl\": [{\"marker\": {\"colorbar\": {\"outlinewidth\": 0, \"ticks\": \"\"}}, \"type\": \"scatterpolargl\"}], \"scatterternary\": [{\"marker\": {\"colorbar\": {\"outlinewidth\": 0, \"ticks\": \"\"}}, \"type\": \"scatterternary\"}], \"surface\": [{\"colorbar\": {\"outlinewidth\": 0, \"ticks\": \"\"}, \"colorscale\": [[0.0, \"#0d0887\"], [0.1111111111111111, \"#46039f\"], [0.2222222222222222, \"#7201a8\"], [0.3333333333333333, \"#9c179e\"], [0.4444444444444444, \"#bd3786\"], [0.5555555555555556, \"#d8576b\"], [0.6666666666666666, \"#ed7953\"], [0.7777777777777778, \"#fb9f3a\"], [0.8888888888888888, \"#fdca26\"], [1.0, \"#f0f921\"]], \"type\": \"surface\"}], \"table\": [{\"cells\": {\"fill\": {\"color\": \"#EBF0F8\"}, \"line\": {\"color\": \"white\"}}, \"header\": {\"fill\": {\"color\": \"#C8D4E3\"}, \"line\": {\"color\": \"white\"}}, \"type\": \"table\"}]}, \"layout\": {\"annotationdefaults\": {\"arrowcolor\": \"#2a3f5f\", \"arrowhead\": 0, \"arrowwidth\": 1}, \"autotypenumbers\": \"strict\", \"coloraxis\": {\"colorbar\": {\"outlinewidth\": 0, \"ticks\": \"\"}}, \"colorscale\": {\"diverging\": [[0, \"#8e0152\"], [0.1, \"#c51b7d\"], [0.2, \"#de77ae\"], [0.3, \"#f1b6da\"], [0.4, \"#fde0ef\"], [0.5, \"#f7f7f7\"], [0.6, \"#e6f5d0\"], [0.7, \"#b8e186\"], [0.8, \"#7fbc41\"], [0.9, \"#4d9221\"], [1, \"#276419\"]], \"sequential\": [[0.0, \"#0d0887\"], [0.1111111111111111, \"#46039f\"], [0.2222222222222222, \"#7201a8\"], [0.3333333333333333, \"#9c179e\"], [0.4444444444444444, \"#bd3786\"], [0.5555555555555556, \"#d8576b\"], [0.6666666666666666, \"#ed7953\"], [0.7777777777777778, \"#fb9f3a\"], [0.8888888888888888, \"#fdca26\"], [1.0, \"#f0f921\"]], \"sequentialminus\": [[0.0, \"#0d0887\"], [0.1111111111111111, \"#46039f\"], [0.2222222222222222, \"#7201a8\"], [0.3333333333333333, \"#9c179e\"], [0.4444444444444444, \"#bd3786\"], [0.5555555555555556, \"#d8576b\"], [0.6666666666666666, \"#ed7953\"], [0.7777777777777778, \"#fb9f3a\"], [0.8888888888888888, \"#fdca26\"], [1.0, \"#f0f921\"]]}, \"colorway\": [\"#636efa\", \"#EF553B\", \"#00cc96\", \"#ab63fa\", \"#FFA15A\", \"#19d3f3\", \"#FF6692\", \"#B6E880\", \"#FF97FF\", \"#FECB52\"], \"font\": {\"color\": \"#2a3f5f\"}, \"geo\": {\"bgcolor\": \"white\", \"lakecolor\": \"white\", \"landcolor\": \"#E5ECF6\", \"showlakes\": true, \"showland\": true, \"subunitcolor\": \"white\"}, \"hoverlabel\": {\"align\": \"left\"}, \"hovermode\": \"closest\", \"mapbox\": {\"style\": \"light\"}, \"paper_bgcolor\": \"white\", \"plot_bgcolor\": \"#E5ECF6\", \"polar\": {\"angularaxis\": {\"gridcolor\": \"white\", \"linecolor\": \"white\", \"ticks\": \"\"}, \"bgcolor\": \"#E5ECF6\", \"radialaxis\": {\"gridcolor\": \"white\", \"linecolor\": \"white\", \"ticks\": \"\"}}, \"scene\": {\"xaxis\": {\"backgroundcolor\": \"#E5ECF6\", \"gridcolor\": \"white\", \"gridwidth\": 2, \"linecolor\": \"white\", \"showbackground\": true, \"ticks\": \"\", \"zerolinecolor\": \"white\"}, \"yaxis\": {\"backgroundcolor\": \"#E5ECF6\", \"gridcolor\": \"white\", \"gridwidth\": 2, \"linecolor\": \"white\", \"showbackground\": true, \"ticks\": \"\", \"zerolinecolor\": \"white\"}, \"zaxis\": {\"backgroundcolor\": \"#E5ECF6\", \"gridcolor\": \"white\", \"gridwidth\": 2, \"linecolor\": \"white\", \"showbackground\": true, \"ticks\": \"\", \"zerolinecolor\": \"white\"}}, \"shapedefaults\": {\"line\": {\"color\": \"#2a3f5f\"}}, \"ternary\": {\"aaxis\": {\"gridcolor\": \"white\", \"linecolor\": \"white\", \"ticks\": \"\"}, \"baxis\": {\"gridcolor\": \"white\", \"linecolor\": \"white\", \"ticks\": \"\"}, \"bgcolor\": \"#E5ECF6\", \"caxis\": {\"gridcolor\": \"white\", \"linecolor\": \"white\", \"ticks\": \"\"}}, \"title\": {\"x\": 0.05}, \"xaxis\": {\"automargin\": true, \"gridcolor\": \"white\", \"linecolor\": \"white\", \"ticks\": \"\", \"title\": {\"standoff\": 15}, \"zerolinecolor\": \"white\", \"zerolinewidth\": 2}, \"yaxis\": {\"automargin\": true, \"gridcolor\": \"white\", \"linecolor\": \"white\", \"ticks\": \"\", \"title\": {\"standoff\": 15}, \"zerolinecolor\": \"white\", \"zerolinewidth\": 2}}}},                        {\"responsive\": true}                    ).then(function(){\n                            \nvar gd = document.getElementById('1a299d86-ebb1-484e-a78e-7d7a805dc799');\nvar x = new MutationObserver(function (mutations, observer) {{\n        var display = window.getComputedStyle(gd).display;\n        if (!display || display === 'none') {{\n            console.log([gd, 'removed!']);\n            Plotly.purge(gd);\n            observer.disconnect();\n        }}\n}});\n\n// Listen for the removal of the full notebook cells\nvar notebookContainer = gd.closest('#notebook-container');\nif (notebookContainer) {{\n    x.observe(notebookContainer, {childList: true});\n}}\n\n// Listen for the clearing of the current output cell\nvar outputEl = gd.closest('.output');\nif (outputEl) {{\n    x.observe(outputEl, {childList: true});\n}}\n\n                        })                };                });            </script>        </div>"
     },
     "metadata": {}
    }
   ],
   "source": [
    "tempdf = most_pres_drug.head(50)\n",
    "\n",
    "trace1 = go.Bar(\n",
    "    x=tempdf.drug_name,\n",
    "    y=tempdf.total_claim_count_millions,\n",
    "    name='Total Claims'\n",
    ")\n",
    "trace2 = go.Bar(\n",
    "    x=tempdf.drug_name,\n",
    "    y=tempdf.total_day_supply_millions,\n",
    "    name='Total Day Supply'\n",
    ")\n",
    "trace3 = go.Bar(\n",
    "    x=tempdf.drug_name,\n",
    "    y=tempdf.total_drug_cost_millions,\n",
    "    name='Total Drug Cost'\n",
    ")\n",
    "\n",
    "data = [trace1, trace2, trace3]\n",
    "layout = go.Layout(\n",
    "    barmode='group'\n",
    "    , margin=dict(b=200)\n",
    ")\n",
    "\n",
    "fig = go.Figure(data=data, layout=layout)\n",
    "iplot(fig, filename='grouped-bar')"
   ]
  },
  {
   "cell_type": "code",
   "execution_count": 11,
   "metadata": {
    "scrolled": true
   },
   "outputs": [
    {
     "output_type": "execute_result",
     "data": {
      "text/plain": [
       "                                specialty_description  \\\n",
       "0                                   Internal Medicine   \n",
       "1                                     Family Practice   \n",
       "2                                  Nurse Practitioner   \n",
       "3                                          Cardiology   \n",
       "4                                          Psychiatry   \n",
       "5                                 Physician Assistant   \n",
       "6                                    General Practice   \n",
       "7                                       Ophthalmology   \n",
       "8                                           Neurology   \n",
       "9                                          Nephrology   \n",
       "10                                 Emergency Medicine   \n",
       "11                                            Urology   \n",
       "12                                  Pulmonary Disease   \n",
       "13                                      Endocrinology   \n",
       "14                                 Geriatric Medicine   \n",
       "15                                       Rheumatology   \n",
       "16                                   Gastroenterology   \n",
       "17                                 Orthopedic Surgery   \n",
       "18                                            Dentist   \n",
       "19                                        Dermatology   \n",
       "20               Physical Medicine and Rehabilitation   \n",
       "21                                Hematology/Oncology   \n",
       "22                              Obstetrics/Gynecology   \n",
       "23                             Psychiatry & Neurology   \n",
       "24                                     Anesthesiology   \n",
       "25                                    General Surgery   \n",
       "26                                 Infectious Disease   \n",
       "27                                          Optometry   \n",
       "28                     Interventional Pain Management   \n",
       "29                                     Otolaryngology   \n",
       "30                                    Pain Management   \n",
       "31                                           Podiatry   \n",
       "32  Student in an Organized Health Care Education/...   \n",
       "33                          Cardiac Electrophysiology   \n",
       "34                                   Medical Oncology   \n",
       "35                Certified Clinical Nurse Specialist   \n",
       "36                                 Allergy/Immunology   \n",
       "37                                 Pediatric Medicine   \n",
       "38                       Critical Care (Intensivists)   \n",
       "39                                         Specialist   \n",
       "\n",
       "    total_claim_count_millions  total_day_supply_millions  \\\n",
       "0                        386.0                    16340.0   \n",
       "1                        361.0                    14967.0   \n",
       "2                         78.0                     2873.0   \n",
       "3                         67.0                     3401.0   \n",
       "4                         41.0                     1307.0   \n",
       "5                         40.0                     1493.0   \n",
       "6                         30.0                     1046.0   \n",
       "7                         24.0                      816.0   \n",
       "8                         19.0                      696.0   \n",
       "9                         14.0                      575.0   \n",
       "10                        12.0                      326.0   \n",
       "11                        12.0                      498.0   \n",
       "12                        12.0                      409.0   \n",
       "13                        12.0                      625.0   \n",
       "14                        11.0                      342.0   \n",
       "15                        11.0                      440.0   \n",
       "16                        10.0                      357.0   \n",
       "17                         6.0                      112.0   \n",
       "18                         6.0                       46.0   \n",
       "19                         6.0                      139.0   \n",
       "20                         6.0                      172.0   \n",
       "21                         5.0                      179.0   \n",
       "22                         4.0                      150.0   \n",
       "23                         4.0                      127.0   \n",
       "24                         4.0                      128.0   \n",
       "25                         4.0                      103.0   \n",
       "26                         4.0                      115.0   \n",
       "27                         4.0                      135.0   \n",
       "28                         4.0                      120.0   \n",
       "29                         4.0                      101.0   \n",
       "30                         3.0                       87.0   \n",
       "31                         3.0                       62.0   \n",
       "32                         2.0                       74.0   \n",
       "33                         2.0                       98.0   \n",
       "34                         2.0                       53.0   \n",
       "35                         2.0                       74.0   \n",
       "36                         2.0                       74.0   \n",
       "37                         2.0                       75.0   \n",
       "38                         1.0                       28.0   \n",
       "39                         1.0                       23.0   \n",
       "\n",
       "    total_drug_cost_millions  \n",
       "0                    22983.0  \n",
       "1                    18254.0  \n",
       "2                     6402.0  \n",
       "3                     4039.0  \n",
       "4                     4191.0  \n",
       "5                     3020.0  \n",
       "6                     1425.0  \n",
       "7                     2135.0  \n",
       "8                     5087.0  \n",
       "9                     1825.0  \n",
       "10                     490.0  \n",
       "11                     977.0  \n",
       "12                    2369.0  \n",
       "13                    2287.0  \n",
       "14                     564.0  \n",
       "15                    2457.0  \n",
       "16                    3099.0  \n",
       "17                     225.0  \n",
       "18                      41.0  \n",
       "19                     694.0  \n",
       "20                     486.0  \n",
       "21                    3467.0  \n",
       "22                     363.0  \n",
       "23                     412.0  \n",
       "24                     367.0  \n",
       "25                     238.0  \n",
       "26                    1782.0  \n",
       "27                     414.0  \n",
       "28                     348.0  \n",
       "29                     152.0  \n",
       "30                     261.0  \n",
       "31                     136.0  \n",
       "32                     104.0  \n",
       "33                     183.0  \n",
       "34                    1001.0  \n",
       "35                     254.0  \n",
       "36                     370.0  \n",
       "37                     196.0  \n",
       "38                     178.0  \n",
       "39                      60.0  "
      ],
      "text/html": "<div>\n<style scoped>\n    .dataframe tbody tr th:only-of-type {\n        vertical-align: middle;\n    }\n\n    .dataframe tbody tr th {\n        vertical-align: top;\n    }\n\n    .dataframe thead th {\n        text-align: right;\n    }\n</style>\n<table border=\"1\" class=\"dataframe\">\n  <thead>\n    <tr style=\"text-align: right;\">\n      <th></th>\n      <th>specialty_description</th>\n      <th>total_claim_count_millions</th>\n      <th>total_day_supply_millions</th>\n      <th>total_drug_cost_millions</th>\n    </tr>\n  </thead>\n  <tbody>\n    <tr>\n      <th>0</th>\n      <td>Internal Medicine</td>\n      <td>386.0</td>\n      <td>16340.0</td>\n      <td>22983.0</td>\n    </tr>\n    <tr>\n      <th>1</th>\n      <td>Family Practice</td>\n      <td>361.0</td>\n      <td>14967.0</td>\n      <td>18254.0</td>\n    </tr>\n    <tr>\n      <th>2</th>\n      <td>Nurse Practitioner</td>\n      <td>78.0</td>\n      <td>2873.0</td>\n      <td>6402.0</td>\n    </tr>\n    <tr>\n      <th>3</th>\n      <td>Cardiology</td>\n      <td>67.0</td>\n      <td>3401.0</td>\n      <td>4039.0</td>\n    </tr>\n    <tr>\n      <th>4</th>\n      <td>Psychiatry</td>\n      <td>41.0</td>\n      <td>1307.0</td>\n      <td>4191.0</td>\n    </tr>\n    <tr>\n      <th>5</th>\n      <td>Physician Assistant</td>\n      <td>40.0</td>\n      <td>1493.0</td>\n      <td>3020.0</td>\n    </tr>\n    <tr>\n      <th>6</th>\n      <td>General Practice</td>\n      <td>30.0</td>\n      <td>1046.0</td>\n      <td>1425.0</td>\n    </tr>\n    <tr>\n      <th>7</th>\n      <td>Ophthalmology</td>\n      <td>24.0</td>\n      <td>816.0</td>\n      <td>2135.0</td>\n    </tr>\n    <tr>\n      <th>8</th>\n      <td>Neurology</td>\n      <td>19.0</td>\n      <td>696.0</td>\n      <td>5087.0</td>\n    </tr>\n    <tr>\n      <th>9</th>\n      <td>Nephrology</td>\n      <td>14.0</td>\n      <td>575.0</td>\n      <td>1825.0</td>\n    </tr>\n    <tr>\n      <th>10</th>\n      <td>Emergency Medicine</td>\n      <td>12.0</td>\n      <td>326.0</td>\n      <td>490.0</td>\n    </tr>\n    <tr>\n      <th>11</th>\n      <td>Urology</td>\n      <td>12.0</td>\n      <td>498.0</td>\n      <td>977.0</td>\n    </tr>\n    <tr>\n      <th>12</th>\n      <td>Pulmonary Disease</td>\n      <td>12.0</td>\n      <td>409.0</td>\n      <td>2369.0</td>\n    </tr>\n    <tr>\n      <th>13</th>\n      <td>Endocrinology</td>\n      <td>12.0</td>\n      <td>625.0</td>\n      <td>2287.0</td>\n    </tr>\n    <tr>\n      <th>14</th>\n      <td>Geriatric Medicine</td>\n      <td>11.0</td>\n      <td>342.0</td>\n      <td>564.0</td>\n    </tr>\n    <tr>\n      <th>15</th>\n      <td>Rheumatology</td>\n      <td>11.0</td>\n      <td>440.0</td>\n      <td>2457.0</td>\n    </tr>\n    <tr>\n      <th>16</th>\n      <td>Gastroenterology</td>\n      <td>10.0</td>\n      <td>357.0</td>\n      <td>3099.0</td>\n    </tr>\n    <tr>\n      <th>17</th>\n      <td>Orthopedic Surgery</td>\n      <td>6.0</td>\n      <td>112.0</td>\n      <td>225.0</td>\n    </tr>\n    <tr>\n      <th>18</th>\n      <td>Dentist</td>\n      <td>6.0</td>\n      <td>46.0</td>\n      <td>41.0</td>\n    </tr>\n    <tr>\n      <th>19</th>\n      <td>Dermatology</td>\n      <td>6.0</td>\n      <td>139.0</td>\n      <td>694.0</td>\n    </tr>\n    <tr>\n      <th>20</th>\n      <td>Physical Medicine and Rehabilitation</td>\n      <td>6.0</td>\n      <td>172.0</td>\n      <td>486.0</td>\n    </tr>\n    <tr>\n      <th>21</th>\n      <td>Hematology/Oncology</td>\n      <td>5.0</td>\n      <td>179.0</td>\n      <td>3467.0</td>\n    </tr>\n    <tr>\n      <th>22</th>\n      <td>Obstetrics/Gynecology</td>\n      <td>4.0</td>\n      <td>150.0</td>\n      <td>363.0</td>\n    </tr>\n    <tr>\n      <th>23</th>\n      <td>Psychiatry &amp; Neurology</td>\n      <td>4.0</td>\n      <td>127.0</td>\n      <td>412.0</td>\n    </tr>\n    <tr>\n      <th>24</th>\n      <td>Anesthesiology</td>\n      <td>4.0</td>\n      <td>128.0</td>\n      <td>367.0</td>\n    </tr>\n    <tr>\n      <th>25</th>\n      <td>General Surgery</td>\n      <td>4.0</td>\n      <td>103.0</td>\n      <td>238.0</td>\n    </tr>\n    <tr>\n      <th>26</th>\n      <td>Infectious Disease</td>\n      <td>4.0</td>\n      <td>115.0</td>\n      <td>1782.0</td>\n    </tr>\n    <tr>\n      <th>27</th>\n      <td>Optometry</td>\n      <td>4.0</td>\n      <td>135.0</td>\n      <td>414.0</td>\n    </tr>\n    <tr>\n      <th>28</th>\n      <td>Interventional Pain Management</td>\n      <td>4.0</td>\n      <td>120.0</td>\n      <td>348.0</td>\n    </tr>\n    <tr>\n      <th>29</th>\n      <td>Otolaryngology</td>\n      <td>4.0</td>\n      <td>101.0</td>\n      <td>152.0</td>\n    </tr>\n    <tr>\n      <th>30</th>\n      <td>Pain Management</td>\n      <td>3.0</td>\n      <td>87.0</td>\n      <td>261.0</td>\n    </tr>\n    <tr>\n      <th>31</th>\n      <td>Podiatry</td>\n      <td>3.0</td>\n      <td>62.0</td>\n      <td>136.0</td>\n    </tr>\n    <tr>\n      <th>32</th>\n      <td>Student in an Organized Health Care Education/...</td>\n      <td>2.0</td>\n      <td>74.0</td>\n      <td>104.0</td>\n    </tr>\n    <tr>\n      <th>33</th>\n      <td>Cardiac Electrophysiology</td>\n      <td>2.0</td>\n      <td>98.0</td>\n      <td>183.0</td>\n    </tr>\n    <tr>\n      <th>34</th>\n      <td>Medical Oncology</td>\n      <td>2.0</td>\n      <td>53.0</td>\n      <td>1001.0</td>\n    </tr>\n    <tr>\n      <th>35</th>\n      <td>Certified Clinical Nurse Specialist</td>\n      <td>2.0</td>\n      <td>74.0</td>\n      <td>254.0</td>\n    </tr>\n    <tr>\n      <th>36</th>\n      <td>Allergy/Immunology</td>\n      <td>2.0</td>\n      <td>74.0</td>\n      <td>370.0</td>\n    </tr>\n    <tr>\n      <th>37</th>\n      <td>Pediatric Medicine</td>\n      <td>2.0</td>\n      <td>75.0</td>\n      <td>196.0</td>\n    </tr>\n    <tr>\n      <th>38</th>\n      <td>Critical Care (Intensivists)</td>\n      <td>1.0</td>\n      <td>28.0</td>\n      <td>178.0</td>\n    </tr>\n    <tr>\n      <th>39</th>\n      <td>Specialist</td>\n      <td>1.0</td>\n      <td>23.0</td>\n      <td>60.0</td>\n    </tr>\n  </tbody>\n</table>\n</div>"
     },
     "metadata": {},
     "execution_count": 11
    }
   ],
   "source": [
    "query1 = \"\"\"SELECT\n",
    "  \n",
    "  specialty_description AS specialty_description,\n",
    "  ROUND(SUM(total_claim_count) / 1e6) AS total_claim_count_millions,\n",
    "  ROUND(SUM(total_day_supply) / 1e6) AS total_day_supply_millions,\n",
    "  ROUND(SUM(total_drug_cost) / 1e6) AS total_drug_cost_millions\n",
    "FROM\n",
    "  `bigquery-public-data.cms_medicare.part_d_prescriber_2014`\n",
    "GROUP BY\n",
    "  specialty_description\n",
    "ORDER BY\n",
    "  total_claim_count_millions DESC;\n",
    "        \"\"\"\n",
    "specialty_query = medicare.query_to_pandas_safe(query1)\n",
    "specialty_query.head(40)"
   ]
  },
  {
   "cell_type": "code",
   "execution_count": 12,
   "metadata": {},
   "outputs": [
    {
     "output_type": "display_data",
     "data": {
      "application/vnd.plotly.v1+json": {
       "config": {
        "linkText": "Export to plot.ly",
        "plotlyServerURL": "https://plot.ly",
        "showLink": false
       },
       "data": [
        {
         "name": "Total Claims",
         "type": "bar",
         "x": [
          "Internal Medicine",
          "Family Practice",
          "Nurse Practitioner",
          "Cardiology",
          "Psychiatry",
          "Physician Assistant",
          "General Practice",
          "Ophthalmology",
          "Neurology",
          "Nephrology",
          "Emergency Medicine",
          "Urology",
          "Pulmonary Disease",
          "Endocrinology",
          "Geriatric Medicine",
          "Rheumatology",
          "Gastroenterology",
          "Orthopedic Surgery",
          "Dentist",
          "Dermatology",
          "Physical Medicine and Rehabilitation",
          "Hematology/Oncology",
          "Obstetrics/Gynecology",
          "Psychiatry & Neurology",
          "Anesthesiology",
          "General Surgery",
          "Infectious Disease",
          "Optometry",
          "Interventional Pain Management",
          "Otolaryngology",
          "Pain Management",
          "Podiatry",
          "Student in an Organized Health Care Education/Training Program",
          "Cardiac Electrophysiology",
          "Medical Oncology",
          "Certified Clinical Nurse Specialist",
          "Allergy/Immunology",
          "Pediatric Medicine",
          "Critical Care (Intensivists)",
          "Specialist"
         ],
         "y": [
          386,
          361,
          78,
          67,
          41,
          40,
          30,
          24,
          19,
          14,
          12,
          12,
          12,
          12,
          11,
          11,
          10,
          6,
          6,
          6,
          6,
          5,
          4,
          4,
          4,
          4,
          4,
          4,
          4,
          4,
          3,
          3,
          2,
          2,
          2,
          2,
          2,
          2,
          1,
          1
         ]
        },
        {
         "name": "Total Day Supply",
         "type": "bar",
         "x": [
          "Internal Medicine",
          "Family Practice",
          "Nurse Practitioner",
          "Cardiology",
          "Psychiatry",
          "Physician Assistant",
          "General Practice",
          "Ophthalmology",
          "Neurology",
          "Nephrology",
          "Emergency Medicine",
          "Urology",
          "Pulmonary Disease",
          "Endocrinology",
          "Geriatric Medicine",
          "Rheumatology",
          "Gastroenterology",
          "Orthopedic Surgery",
          "Dentist",
          "Dermatology",
          "Physical Medicine and Rehabilitation",
          "Hematology/Oncology",
          "Obstetrics/Gynecology",
          "Psychiatry & Neurology",
          "Anesthesiology",
          "General Surgery",
          "Infectious Disease",
          "Optometry",
          "Interventional Pain Management",
          "Otolaryngology",
          "Pain Management",
          "Podiatry",
          "Student in an Organized Health Care Education/Training Program",
          "Cardiac Electrophysiology",
          "Medical Oncology",
          "Certified Clinical Nurse Specialist",
          "Allergy/Immunology",
          "Pediatric Medicine",
          "Critical Care (Intensivists)",
          "Specialist"
         ],
         "y": [
          16340,
          14967,
          2873,
          3401,
          1307,
          1493,
          1046,
          816,
          696,
          575,
          326,
          498,
          409,
          625,
          342,
          440,
          357,
          112,
          46,
          139,
          172,
          179,
          150,
          127,
          128,
          103,
          115,
          135,
          120,
          101,
          87,
          62,
          74,
          98,
          53,
          74,
          74,
          75,
          28,
          23
         ]
        },
        {
         "name": "Total Drug Cost",
         "type": "bar",
         "x": [
          "Internal Medicine",
          "Family Practice",
          "Nurse Practitioner",
          "Cardiology",
          "Psychiatry",
          "Physician Assistant",
          "General Practice",
          "Ophthalmology",
          "Neurology",
          "Nephrology",
          "Emergency Medicine",
          "Urology",
          "Pulmonary Disease",
          "Endocrinology",
          "Geriatric Medicine",
          "Rheumatology",
          "Gastroenterology",
          "Orthopedic Surgery",
          "Dentist",
          "Dermatology",
          "Physical Medicine and Rehabilitation",
          "Hematology/Oncology",
          "Obstetrics/Gynecology",
          "Psychiatry & Neurology",
          "Anesthesiology",
          "General Surgery",
          "Infectious Disease",
          "Optometry",
          "Interventional Pain Management",
          "Otolaryngology",
          "Pain Management",
          "Podiatry",
          "Student in an Organized Health Care Education/Training Program",
          "Cardiac Electrophysiology",
          "Medical Oncology",
          "Certified Clinical Nurse Specialist",
          "Allergy/Immunology",
          "Pediatric Medicine",
          "Critical Care (Intensivists)",
          "Specialist"
         ],
         "y": [
          22983,
          18254,
          6402,
          4039,
          4191,
          3020,
          1425,
          2135,
          5087,
          1825,
          490,
          977,
          2369,
          2287,
          564,
          2457,
          3099,
          225,
          41,
          694,
          486,
          3467,
          363,
          412,
          367,
          238,
          1782,
          414,
          348,
          152,
          261,
          136,
          104,
          183,
          1001,
          254,
          370,
          196,
          178,
          60
         ]
        }
       ],
       "layout": {
        "barmode": "stack",
        "margin": {
         "b": 200
        },
        "template": {
         "data": {
          "bar": [
           {
            "error_x": {
             "color": "#2a3f5f"
            },
            "error_y": {
             "color": "#2a3f5f"
            },
            "marker": {
             "line": {
              "color": "#E5ECF6",
              "width": 0.5
             }
            },
            "type": "bar"
           }
          ],
          "barpolar": [
           {
            "marker": {
             "line": {
              "color": "#E5ECF6",
              "width": 0.5
             }
            },
            "type": "barpolar"
           }
          ],
          "carpet": [
           {
            "aaxis": {
             "endlinecolor": "#2a3f5f",
             "gridcolor": "white",
             "linecolor": "white",
             "minorgridcolor": "white",
             "startlinecolor": "#2a3f5f"
            },
            "baxis": {
             "endlinecolor": "#2a3f5f",
             "gridcolor": "white",
             "linecolor": "white",
             "minorgridcolor": "white",
             "startlinecolor": "#2a3f5f"
            },
            "type": "carpet"
           }
          ],
          "choropleth": [
           {
            "colorbar": {
             "outlinewidth": 0,
             "ticks": ""
            },
            "type": "choropleth"
           }
          ],
          "contour": [
           {
            "colorbar": {
             "outlinewidth": 0,
             "ticks": ""
            },
            "colorscale": [
             [
              0,
              "#0d0887"
             ],
             [
              0.1111111111111111,
              "#46039f"
             ],
             [
              0.2222222222222222,
              "#7201a8"
             ],
             [
              0.3333333333333333,
              "#9c179e"
             ],
             [
              0.4444444444444444,
              "#bd3786"
             ],
             [
              0.5555555555555556,
              "#d8576b"
             ],
             [
              0.6666666666666666,
              "#ed7953"
             ],
             [
              0.7777777777777778,
              "#fb9f3a"
             ],
             [
              0.8888888888888888,
              "#fdca26"
             ],
             [
              1,
              "#f0f921"
             ]
            ],
            "type": "contour"
           }
          ],
          "contourcarpet": [
           {
            "colorbar": {
             "outlinewidth": 0,
             "ticks": ""
            },
            "type": "contourcarpet"
           }
          ],
          "heatmap": [
           {
            "colorbar": {
             "outlinewidth": 0,
             "ticks": ""
            },
            "colorscale": [
             [
              0,
              "#0d0887"
             ],
             [
              0.1111111111111111,
              "#46039f"
             ],
             [
              0.2222222222222222,
              "#7201a8"
             ],
             [
              0.3333333333333333,
              "#9c179e"
             ],
             [
              0.4444444444444444,
              "#bd3786"
             ],
             [
              0.5555555555555556,
              "#d8576b"
             ],
             [
              0.6666666666666666,
              "#ed7953"
             ],
             [
              0.7777777777777778,
              "#fb9f3a"
             ],
             [
              0.8888888888888888,
              "#fdca26"
             ],
             [
              1,
              "#f0f921"
             ]
            ],
            "type": "heatmap"
           }
          ],
          "heatmapgl": [
           {
            "colorbar": {
             "outlinewidth": 0,
             "ticks": ""
            },
            "colorscale": [
             [
              0,
              "#0d0887"
             ],
             [
              0.1111111111111111,
              "#46039f"
             ],
             [
              0.2222222222222222,
              "#7201a8"
             ],
             [
              0.3333333333333333,
              "#9c179e"
             ],
             [
              0.4444444444444444,
              "#bd3786"
             ],
             [
              0.5555555555555556,
              "#d8576b"
             ],
             [
              0.6666666666666666,
              "#ed7953"
             ],
             [
              0.7777777777777778,
              "#fb9f3a"
             ],
             [
              0.8888888888888888,
              "#fdca26"
             ],
             [
              1,
              "#f0f921"
             ]
            ],
            "type": "heatmapgl"
           }
          ],
          "histogram": [
           {
            "marker": {
             "colorbar": {
              "outlinewidth": 0,
              "ticks": ""
             }
            },
            "type": "histogram"
           }
          ],
          "histogram2d": [
           {
            "colorbar": {
             "outlinewidth": 0,
             "ticks": ""
            },
            "colorscale": [
             [
              0,
              "#0d0887"
             ],
             [
              0.1111111111111111,
              "#46039f"
             ],
             [
              0.2222222222222222,
              "#7201a8"
             ],
             [
              0.3333333333333333,
              "#9c179e"
             ],
             [
              0.4444444444444444,
              "#bd3786"
             ],
             [
              0.5555555555555556,
              "#d8576b"
             ],
             [
              0.6666666666666666,
              "#ed7953"
             ],
             [
              0.7777777777777778,
              "#fb9f3a"
             ],
             [
              0.8888888888888888,
              "#fdca26"
             ],
             [
              1,
              "#f0f921"
             ]
            ],
            "type": "histogram2d"
           }
          ],
          "histogram2dcontour": [
           {
            "colorbar": {
             "outlinewidth": 0,
             "ticks": ""
            },
            "colorscale": [
             [
              0,
              "#0d0887"
             ],
             [
              0.1111111111111111,
              "#46039f"
             ],
             [
              0.2222222222222222,
              "#7201a8"
             ],
             [
              0.3333333333333333,
              "#9c179e"
             ],
             [
              0.4444444444444444,
              "#bd3786"
             ],
             [
              0.5555555555555556,
              "#d8576b"
             ],
             [
              0.6666666666666666,
              "#ed7953"
             ],
             [
              0.7777777777777778,
              "#fb9f3a"
             ],
             [
              0.8888888888888888,
              "#fdca26"
             ],
             [
              1,
              "#f0f921"
             ]
            ],
            "type": "histogram2dcontour"
           }
          ],
          "mesh3d": [
           {
            "colorbar": {
             "outlinewidth": 0,
             "ticks": ""
            },
            "type": "mesh3d"
           }
          ],
          "parcoords": [
           {
            "line": {
             "colorbar": {
              "outlinewidth": 0,
              "ticks": ""
             }
            },
            "type": "parcoords"
           }
          ],
          "pie": [
           {
            "automargin": true,
            "type": "pie"
           }
          ],
          "scatter": [
           {
            "marker": {
             "colorbar": {
              "outlinewidth": 0,
              "ticks": ""
             }
            },
            "type": "scatter"
           }
          ],
          "scatter3d": [
           {
            "line": {
             "colorbar": {
              "outlinewidth": 0,
              "ticks": ""
             }
            },
            "marker": {
             "colorbar": {
              "outlinewidth": 0,
              "ticks": ""
             }
            },
            "type": "scatter3d"
           }
          ],
          "scattercarpet": [
           {
            "marker": {
             "colorbar": {
              "outlinewidth": 0,
              "ticks": ""
             }
            },
            "type": "scattercarpet"
           }
          ],
          "scattergeo": [
           {
            "marker": {
             "colorbar": {
              "outlinewidth": 0,
              "ticks": ""
             }
            },
            "type": "scattergeo"
           }
          ],
          "scattergl": [
           {
            "marker": {
             "colorbar": {
              "outlinewidth": 0,
              "ticks": ""
             }
            },
            "type": "scattergl"
           }
          ],
          "scattermapbox": [
           {
            "marker": {
             "colorbar": {
              "outlinewidth": 0,
              "ticks": ""
             }
            },
            "type": "scattermapbox"
           }
          ],
          "scatterpolar": [
           {
            "marker": {
             "colorbar": {
              "outlinewidth": 0,
              "ticks": ""
             }
            },
            "type": "scatterpolar"
           }
          ],
          "scatterpolargl": [
           {
            "marker": {
             "colorbar": {
              "outlinewidth": 0,
              "ticks": ""
             }
            },
            "type": "scatterpolargl"
           }
          ],
          "scatterternary": [
           {
            "marker": {
             "colorbar": {
              "outlinewidth": 0,
              "ticks": ""
             }
            },
            "type": "scatterternary"
           }
          ],
          "surface": [
           {
            "colorbar": {
             "outlinewidth": 0,
             "ticks": ""
            },
            "colorscale": [
             [
              0,
              "#0d0887"
             ],
             [
              0.1111111111111111,
              "#46039f"
             ],
             [
              0.2222222222222222,
              "#7201a8"
             ],
             [
              0.3333333333333333,
              "#9c179e"
             ],
             [
              0.4444444444444444,
              "#bd3786"
             ],
             [
              0.5555555555555556,
              "#d8576b"
             ],
             [
              0.6666666666666666,
              "#ed7953"
             ],
             [
              0.7777777777777778,
              "#fb9f3a"
             ],
             [
              0.8888888888888888,
              "#fdca26"
             ],
             [
              1,
              "#f0f921"
             ]
            ],
            "type": "surface"
           }
          ],
          "table": [
           {
            "cells": {
             "fill": {
              "color": "#EBF0F8"
             },
             "line": {
              "color": "white"
             }
            },
            "header": {
             "fill": {
              "color": "#C8D4E3"
             },
             "line": {
              "color": "white"
             }
            },
            "type": "table"
           }
          ]
         },
         "layout": {
          "annotationdefaults": {
           "arrowcolor": "#2a3f5f",
           "arrowhead": 0,
           "arrowwidth": 1
          },
          "autotypenumbers": "strict",
          "coloraxis": {
           "colorbar": {
            "outlinewidth": 0,
            "ticks": ""
           }
          },
          "colorscale": {
           "diverging": [
            [
             0,
             "#8e0152"
            ],
            [
             0.1,
             "#c51b7d"
            ],
            [
             0.2,
             "#de77ae"
            ],
            [
             0.3,
             "#f1b6da"
            ],
            [
             0.4,
             "#fde0ef"
            ],
            [
             0.5,
             "#f7f7f7"
            ],
            [
             0.6,
             "#e6f5d0"
            ],
            [
             0.7,
             "#b8e186"
            ],
            [
             0.8,
             "#7fbc41"
            ],
            [
             0.9,
             "#4d9221"
            ],
            [
             1,
             "#276419"
            ]
           ],
           "sequential": [
            [
             0,
             "#0d0887"
            ],
            [
             0.1111111111111111,
             "#46039f"
            ],
            [
             0.2222222222222222,
             "#7201a8"
            ],
            [
             0.3333333333333333,
             "#9c179e"
            ],
            [
             0.4444444444444444,
             "#bd3786"
            ],
            [
             0.5555555555555556,
             "#d8576b"
            ],
            [
             0.6666666666666666,
             "#ed7953"
            ],
            [
             0.7777777777777778,
             "#fb9f3a"
            ],
            [
             0.8888888888888888,
             "#fdca26"
            ],
            [
             1,
             "#f0f921"
            ]
           ],
           "sequentialminus": [
            [
             0,
             "#0d0887"
            ],
            [
             0.1111111111111111,
             "#46039f"
            ],
            [
             0.2222222222222222,
             "#7201a8"
            ],
            [
             0.3333333333333333,
             "#9c179e"
            ],
            [
             0.4444444444444444,
             "#bd3786"
            ],
            [
             0.5555555555555556,
             "#d8576b"
            ],
            [
             0.6666666666666666,
             "#ed7953"
            ],
            [
             0.7777777777777778,
             "#fb9f3a"
            ],
            [
             0.8888888888888888,
             "#fdca26"
            ],
            [
             1,
             "#f0f921"
            ]
           ]
          },
          "colorway": [
           "#636efa",
           "#EF553B",
           "#00cc96",
           "#ab63fa",
           "#FFA15A",
           "#19d3f3",
           "#FF6692",
           "#B6E880",
           "#FF97FF",
           "#FECB52"
          ],
          "font": {
           "color": "#2a3f5f"
          },
          "geo": {
           "bgcolor": "white",
           "lakecolor": "white",
           "landcolor": "#E5ECF6",
           "showlakes": true,
           "showland": true,
           "subunitcolor": "white"
          },
          "hoverlabel": {
           "align": "left"
          },
          "hovermode": "closest",
          "mapbox": {
           "style": "light"
          },
          "paper_bgcolor": "white",
          "plot_bgcolor": "#E5ECF6",
          "polar": {
           "angularaxis": {
            "gridcolor": "white",
            "linecolor": "white",
            "ticks": ""
           },
           "bgcolor": "#E5ECF6",
           "radialaxis": {
            "gridcolor": "white",
            "linecolor": "white",
            "ticks": ""
           }
          },
          "scene": {
           "xaxis": {
            "backgroundcolor": "#E5ECF6",
            "gridcolor": "white",
            "gridwidth": 2,
            "linecolor": "white",
            "showbackground": true,
            "ticks": "",
            "zerolinecolor": "white"
           },
           "yaxis": {
            "backgroundcolor": "#E5ECF6",
            "gridcolor": "white",
            "gridwidth": 2,
            "linecolor": "white",
            "showbackground": true,
            "ticks": "",
            "zerolinecolor": "white"
           },
           "zaxis": {
            "backgroundcolor": "#E5ECF6",
            "gridcolor": "white",
            "gridwidth": 2,
            "linecolor": "white",
            "showbackground": true,
            "ticks": "",
            "zerolinecolor": "white"
           }
          },
          "shapedefaults": {
           "line": {
            "color": "#2a3f5f"
           }
          },
          "ternary": {
           "aaxis": {
            "gridcolor": "white",
            "linecolor": "white",
            "ticks": ""
           },
           "baxis": {
            "gridcolor": "white",
            "linecolor": "white",
            "ticks": ""
           },
           "bgcolor": "#E5ECF6",
           "caxis": {
            "gridcolor": "white",
            "linecolor": "white",
            "ticks": ""
           }
          },
          "title": {
           "x": 0.05
          },
          "xaxis": {
           "automargin": true,
           "gridcolor": "white",
           "linecolor": "white",
           "ticks": "",
           "title": {
            "standoff": 15
           },
           "zerolinecolor": "white",
           "zerolinewidth": 2
          },
          "yaxis": {
           "automargin": true,
           "gridcolor": "white",
           "linecolor": "white",
           "ticks": "",
           "title": {
            "standoff": 15
           },
           "zerolinecolor": "white",
           "zerolinewidth": 2
          }
         }
        }
       }
      },
      "text/html": "<div>                            <div id=\"ac2f0e44-06c6-482e-81f9-18f305b7ed43\" class=\"plotly-graph-div\" style=\"height:525px; width:100%;\"></div>            <script type=\"text/javascript\">                require([\"plotly\"], function(Plotly) {                    window.PLOTLYENV=window.PLOTLYENV || {};                                    if (document.getElementById(\"ac2f0e44-06c6-482e-81f9-18f305b7ed43\")) {                    Plotly.newPlot(                        \"ac2f0e44-06c6-482e-81f9-18f305b7ed43\",                        [{\"name\": \"Total Claims\", \"type\": \"bar\", \"x\": [\"Internal Medicine\", \"Family Practice\", \"Nurse Practitioner\", \"Cardiology\", \"Psychiatry\", \"Physician Assistant\", \"General Practice\", \"Ophthalmology\", \"Neurology\", \"Nephrology\", \"Emergency Medicine\", \"Urology\", \"Pulmonary Disease\", \"Endocrinology\", \"Geriatric Medicine\", \"Rheumatology\", \"Gastroenterology\", \"Orthopedic Surgery\", \"Dentist\", \"Dermatology\", \"Physical Medicine and Rehabilitation\", \"Hematology/Oncology\", \"Obstetrics/Gynecology\", \"Psychiatry & Neurology\", \"Anesthesiology\", \"General Surgery\", \"Infectious Disease\", \"Optometry\", \"Interventional Pain Management\", \"Otolaryngology\", \"Pain Management\", \"Podiatry\", \"Student in an Organized Health Care Education/Training Program\", \"Cardiac Electrophysiology\", \"Medical Oncology\", \"Certified Clinical Nurse Specialist\", \"Allergy/Immunology\", \"Pediatric Medicine\", \"Critical Care (Intensivists)\", \"Specialist\"], \"y\": [386.0, 361.0, 78.0, 67.0, 41.0, 40.0, 30.0, 24.0, 19.0, 14.0, 12.0, 12.0, 12.0, 12.0, 11.0, 11.0, 10.0, 6.0, 6.0, 6.0, 6.0, 5.0, 4.0, 4.0, 4.0, 4.0, 4.0, 4.0, 4.0, 4.0, 3.0, 3.0, 2.0, 2.0, 2.0, 2.0, 2.0, 2.0, 1.0, 1.0]}, {\"name\": \"Total Day Supply\", \"type\": \"bar\", \"x\": [\"Internal Medicine\", \"Family Practice\", \"Nurse Practitioner\", \"Cardiology\", \"Psychiatry\", \"Physician Assistant\", \"General Practice\", \"Ophthalmology\", \"Neurology\", \"Nephrology\", \"Emergency Medicine\", \"Urology\", \"Pulmonary Disease\", \"Endocrinology\", \"Geriatric Medicine\", \"Rheumatology\", \"Gastroenterology\", \"Orthopedic Surgery\", \"Dentist\", \"Dermatology\", \"Physical Medicine and Rehabilitation\", \"Hematology/Oncology\", \"Obstetrics/Gynecology\", \"Psychiatry & Neurology\", \"Anesthesiology\", \"General Surgery\", \"Infectious Disease\", \"Optometry\", \"Interventional Pain Management\", \"Otolaryngology\", \"Pain Management\", \"Podiatry\", \"Student in an Organized Health Care Education/Training Program\", \"Cardiac Electrophysiology\", \"Medical Oncology\", \"Certified Clinical Nurse Specialist\", \"Allergy/Immunology\", \"Pediatric Medicine\", \"Critical Care (Intensivists)\", \"Specialist\"], \"y\": [16340.0, 14967.0, 2873.0, 3401.0, 1307.0, 1493.0, 1046.0, 816.0, 696.0, 575.0, 326.0, 498.0, 409.0, 625.0, 342.0, 440.0, 357.0, 112.0, 46.0, 139.0, 172.0, 179.0, 150.0, 127.0, 128.0, 103.0, 115.0, 135.0, 120.0, 101.0, 87.0, 62.0, 74.0, 98.0, 53.0, 74.0, 74.0, 75.0, 28.0, 23.0]}, {\"name\": \"Total Drug Cost\", \"type\": \"bar\", \"x\": [\"Internal Medicine\", \"Family Practice\", \"Nurse Practitioner\", \"Cardiology\", \"Psychiatry\", \"Physician Assistant\", \"General Practice\", \"Ophthalmology\", \"Neurology\", \"Nephrology\", \"Emergency Medicine\", \"Urology\", \"Pulmonary Disease\", \"Endocrinology\", \"Geriatric Medicine\", \"Rheumatology\", \"Gastroenterology\", \"Orthopedic Surgery\", \"Dentist\", \"Dermatology\", \"Physical Medicine and Rehabilitation\", \"Hematology/Oncology\", \"Obstetrics/Gynecology\", \"Psychiatry & Neurology\", \"Anesthesiology\", \"General Surgery\", \"Infectious Disease\", \"Optometry\", \"Interventional Pain Management\", \"Otolaryngology\", \"Pain Management\", \"Podiatry\", \"Student in an Organized Health Care Education/Training Program\", \"Cardiac Electrophysiology\", \"Medical Oncology\", \"Certified Clinical Nurse Specialist\", \"Allergy/Immunology\", \"Pediatric Medicine\", \"Critical Care (Intensivists)\", \"Specialist\"], \"y\": [22983.0, 18254.0, 6402.0, 4039.0, 4191.0, 3020.0, 1425.0, 2135.0, 5087.0, 1825.0, 490.0, 977.0, 2369.0, 2287.0, 564.0, 2457.0, 3099.0, 225.0, 41.0, 694.0, 486.0, 3467.0, 363.0, 412.0, 367.0, 238.0, 1782.0, 414.0, 348.0, 152.0, 261.0, 136.0, 104.0, 183.0, 1001.0, 254.0, 370.0, 196.0, 178.0, 60.0]}],                        {\"barmode\": \"stack\", \"margin\": {\"b\": 200}, \"template\": {\"data\": {\"bar\": [{\"error_x\": {\"color\": \"#2a3f5f\"}, \"error_y\": {\"color\": \"#2a3f5f\"}, \"marker\": {\"line\": {\"color\": \"#E5ECF6\", \"width\": 0.5}}, \"type\": \"bar\"}], \"barpolar\": [{\"marker\": {\"line\": {\"color\": \"#E5ECF6\", \"width\": 0.5}}, \"type\": \"barpolar\"}], \"carpet\": [{\"aaxis\": {\"endlinecolor\": \"#2a3f5f\", \"gridcolor\": \"white\", \"linecolor\": \"white\", \"minorgridcolor\": \"white\", \"startlinecolor\": \"#2a3f5f\"}, \"baxis\": {\"endlinecolor\": \"#2a3f5f\", \"gridcolor\": \"white\", \"linecolor\": \"white\", \"minorgridcolor\": \"white\", \"startlinecolor\": \"#2a3f5f\"}, \"type\": \"carpet\"}], \"choropleth\": [{\"colorbar\": {\"outlinewidth\": 0, \"ticks\": \"\"}, \"type\": \"choropleth\"}], \"contour\": [{\"colorbar\": {\"outlinewidth\": 0, \"ticks\": \"\"}, \"colorscale\": [[0.0, \"#0d0887\"], [0.1111111111111111, \"#46039f\"], [0.2222222222222222, \"#7201a8\"], [0.3333333333333333, \"#9c179e\"], [0.4444444444444444, \"#bd3786\"], [0.5555555555555556, \"#d8576b\"], [0.6666666666666666, \"#ed7953\"], [0.7777777777777778, \"#fb9f3a\"], [0.8888888888888888, \"#fdca26\"], [1.0, \"#f0f921\"]], \"type\": \"contour\"}], \"contourcarpet\": [{\"colorbar\": {\"outlinewidth\": 0, \"ticks\": \"\"}, \"type\": \"contourcarpet\"}], \"heatmap\": [{\"colorbar\": {\"outlinewidth\": 0, \"ticks\": \"\"}, \"colorscale\": [[0.0, \"#0d0887\"], [0.1111111111111111, \"#46039f\"], [0.2222222222222222, \"#7201a8\"], [0.3333333333333333, \"#9c179e\"], [0.4444444444444444, \"#bd3786\"], [0.5555555555555556, \"#d8576b\"], [0.6666666666666666, \"#ed7953\"], [0.7777777777777778, \"#fb9f3a\"], [0.8888888888888888, \"#fdca26\"], [1.0, \"#f0f921\"]], \"type\": \"heatmap\"}], \"heatmapgl\": [{\"colorbar\": {\"outlinewidth\": 0, \"ticks\": \"\"}, \"colorscale\": [[0.0, \"#0d0887\"], [0.1111111111111111, \"#46039f\"], [0.2222222222222222, \"#7201a8\"], [0.3333333333333333, \"#9c179e\"], [0.4444444444444444, \"#bd3786\"], [0.5555555555555556, \"#d8576b\"], [0.6666666666666666, \"#ed7953\"], [0.7777777777777778, \"#fb9f3a\"], [0.8888888888888888, \"#fdca26\"], [1.0, \"#f0f921\"]], \"type\": \"heatmapgl\"}], \"histogram\": [{\"marker\": {\"colorbar\": {\"outlinewidth\": 0, \"ticks\": \"\"}}, \"type\": \"histogram\"}], \"histogram2d\": [{\"colorbar\": {\"outlinewidth\": 0, \"ticks\": \"\"}, \"colorscale\": [[0.0, \"#0d0887\"], [0.1111111111111111, \"#46039f\"], [0.2222222222222222, \"#7201a8\"], [0.3333333333333333, \"#9c179e\"], [0.4444444444444444, \"#bd3786\"], [0.5555555555555556, \"#d8576b\"], [0.6666666666666666, \"#ed7953\"], [0.7777777777777778, \"#fb9f3a\"], [0.8888888888888888, \"#fdca26\"], [1.0, \"#f0f921\"]], \"type\": \"histogram2d\"}], \"histogram2dcontour\": [{\"colorbar\": {\"outlinewidth\": 0, \"ticks\": \"\"}, \"colorscale\": [[0.0, \"#0d0887\"], [0.1111111111111111, \"#46039f\"], [0.2222222222222222, \"#7201a8\"], [0.3333333333333333, \"#9c179e\"], [0.4444444444444444, \"#bd3786\"], [0.5555555555555556, \"#d8576b\"], [0.6666666666666666, \"#ed7953\"], [0.7777777777777778, \"#fb9f3a\"], [0.8888888888888888, \"#fdca26\"], [1.0, \"#f0f921\"]], \"type\": \"histogram2dcontour\"}], \"mesh3d\": [{\"colorbar\": {\"outlinewidth\": 0, \"ticks\": \"\"}, \"type\": \"mesh3d\"}], \"parcoords\": [{\"line\": {\"colorbar\": {\"outlinewidth\": 0, \"ticks\": \"\"}}, \"type\": \"parcoords\"}], \"pie\": [{\"automargin\": true, \"type\": \"pie\"}], \"scatter\": [{\"marker\": {\"colorbar\": {\"outlinewidth\": 0, \"ticks\": \"\"}}, \"type\": \"scatter\"}], \"scatter3d\": [{\"line\": {\"colorbar\": {\"outlinewidth\": 0, \"ticks\": \"\"}}, \"marker\": {\"colorbar\": {\"outlinewidth\": 0, \"ticks\": \"\"}}, \"type\": \"scatter3d\"}], \"scattercarpet\": [{\"marker\": {\"colorbar\": {\"outlinewidth\": 0, \"ticks\": \"\"}}, \"type\": \"scattercarpet\"}], \"scattergeo\": [{\"marker\": {\"colorbar\": {\"outlinewidth\": 0, \"ticks\": \"\"}}, \"type\": \"scattergeo\"}], \"scattergl\": [{\"marker\": {\"colorbar\": {\"outlinewidth\": 0, \"ticks\": \"\"}}, \"type\": \"scattergl\"}], \"scattermapbox\": [{\"marker\": {\"colorbar\": {\"outlinewidth\": 0, \"ticks\": \"\"}}, \"type\": \"scattermapbox\"}], \"scatterpolar\": [{\"marker\": {\"colorbar\": {\"outlinewidth\": 0, \"ticks\": \"\"}}, \"type\": \"scatterpolar\"}], \"scatterpolargl\": [{\"marker\": {\"colorbar\": {\"outlinewidth\": 0, \"ticks\": \"\"}}, \"type\": \"scatterpolargl\"}], \"scatterternary\": [{\"marker\": {\"colorbar\": {\"outlinewidth\": 0, \"ticks\": \"\"}}, \"type\": \"scatterternary\"}], \"surface\": [{\"colorbar\": {\"outlinewidth\": 0, \"ticks\": \"\"}, \"colorscale\": [[0.0, \"#0d0887\"], [0.1111111111111111, \"#46039f\"], [0.2222222222222222, \"#7201a8\"], [0.3333333333333333, \"#9c179e\"], [0.4444444444444444, \"#bd3786\"], [0.5555555555555556, \"#d8576b\"], [0.6666666666666666, \"#ed7953\"], [0.7777777777777778, \"#fb9f3a\"], [0.8888888888888888, \"#fdca26\"], [1.0, \"#f0f921\"]], \"type\": \"surface\"}], \"table\": [{\"cells\": {\"fill\": {\"color\": \"#EBF0F8\"}, \"line\": {\"color\": \"white\"}}, \"header\": {\"fill\": {\"color\": \"#C8D4E3\"}, \"line\": {\"color\": \"white\"}}, \"type\": \"table\"}]}, \"layout\": {\"annotationdefaults\": {\"arrowcolor\": \"#2a3f5f\", \"arrowhead\": 0, \"arrowwidth\": 1}, \"autotypenumbers\": \"strict\", \"coloraxis\": {\"colorbar\": {\"outlinewidth\": 0, \"ticks\": \"\"}}, \"colorscale\": {\"diverging\": [[0, \"#8e0152\"], [0.1, \"#c51b7d\"], [0.2, \"#de77ae\"], [0.3, \"#f1b6da\"], [0.4, \"#fde0ef\"], [0.5, \"#f7f7f7\"], [0.6, \"#e6f5d0\"], [0.7, \"#b8e186\"], [0.8, \"#7fbc41\"], [0.9, \"#4d9221\"], [1, \"#276419\"]], \"sequential\": [[0.0, \"#0d0887\"], [0.1111111111111111, \"#46039f\"], [0.2222222222222222, \"#7201a8\"], [0.3333333333333333, \"#9c179e\"], [0.4444444444444444, \"#bd3786\"], [0.5555555555555556, \"#d8576b\"], [0.6666666666666666, \"#ed7953\"], [0.7777777777777778, \"#fb9f3a\"], [0.8888888888888888, \"#fdca26\"], [1.0, \"#f0f921\"]], \"sequentialminus\": [[0.0, \"#0d0887\"], [0.1111111111111111, \"#46039f\"], [0.2222222222222222, \"#7201a8\"], [0.3333333333333333, \"#9c179e\"], [0.4444444444444444, \"#bd3786\"], [0.5555555555555556, \"#d8576b\"], [0.6666666666666666, \"#ed7953\"], [0.7777777777777778, \"#fb9f3a\"], [0.8888888888888888, \"#fdca26\"], [1.0, \"#f0f921\"]]}, \"colorway\": [\"#636efa\", \"#EF553B\", \"#00cc96\", \"#ab63fa\", \"#FFA15A\", \"#19d3f3\", \"#FF6692\", \"#B6E880\", \"#FF97FF\", \"#FECB52\"], \"font\": {\"color\": \"#2a3f5f\"}, \"geo\": {\"bgcolor\": \"white\", \"lakecolor\": \"white\", \"landcolor\": \"#E5ECF6\", \"showlakes\": true, \"showland\": true, \"subunitcolor\": \"white\"}, \"hoverlabel\": {\"align\": \"left\"}, \"hovermode\": \"closest\", \"mapbox\": {\"style\": \"light\"}, \"paper_bgcolor\": \"white\", \"plot_bgcolor\": \"#E5ECF6\", \"polar\": {\"angularaxis\": {\"gridcolor\": \"white\", \"linecolor\": \"white\", \"ticks\": \"\"}, \"bgcolor\": \"#E5ECF6\", \"radialaxis\": {\"gridcolor\": \"white\", \"linecolor\": \"white\", \"ticks\": \"\"}}, \"scene\": {\"xaxis\": {\"backgroundcolor\": \"#E5ECF6\", \"gridcolor\": \"white\", \"gridwidth\": 2, \"linecolor\": \"white\", \"showbackground\": true, \"ticks\": \"\", \"zerolinecolor\": \"white\"}, \"yaxis\": {\"backgroundcolor\": \"#E5ECF6\", \"gridcolor\": \"white\", \"gridwidth\": 2, \"linecolor\": \"white\", \"showbackground\": true, \"ticks\": \"\", \"zerolinecolor\": \"white\"}, \"zaxis\": {\"backgroundcolor\": \"#E5ECF6\", \"gridcolor\": \"white\", \"gridwidth\": 2, \"linecolor\": \"white\", \"showbackground\": true, \"ticks\": \"\", \"zerolinecolor\": \"white\"}}, \"shapedefaults\": {\"line\": {\"color\": \"#2a3f5f\"}}, \"ternary\": {\"aaxis\": {\"gridcolor\": \"white\", \"linecolor\": \"white\", \"ticks\": \"\"}, \"baxis\": {\"gridcolor\": \"white\", \"linecolor\": \"white\", \"ticks\": \"\"}, \"bgcolor\": \"#E5ECF6\", \"caxis\": {\"gridcolor\": \"white\", \"linecolor\": \"white\", \"ticks\": \"\"}}, \"title\": {\"x\": 0.05}, \"xaxis\": {\"automargin\": true, \"gridcolor\": \"white\", \"linecolor\": \"white\", \"ticks\": \"\", \"title\": {\"standoff\": 15}, \"zerolinecolor\": \"white\", \"zerolinewidth\": 2}, \"yaxis\": {\"automargin\": true, \"gridcolor\": \"white\", \"linecolor\": \"white\", \"ticks\": \"\", \"title\": {\"standoff\": 15}, \"zerolinecolor\": \"white\", \"zerolinewidth\": 2}}}},                        {\"responsive\": true}                    ).then(function(){\n                            \nvar gd = document.getElementById('ac2f0e44-06c6-482e-81f9-18f305b7ed43');\nvar x = new MutationObserver(function (mutations, observer) {{\n        var display = window.getComputedStyle(gd).display;\n        if (!display || display === 'none') {{\n            console.log([gd, 'removed!']);\n            Plotly.purge(gd);\n            observer.disconnect();\n        }}\n}});\n\n// Listen for the removal of the full notebook cells\nvar notebookContainer = gd.closest('#notebook-container');\nif (notebookContainer) {{\n    x.observe(notebookContainer, {childList: true});\n}}\n\n// Listen for the clearing of the current output cell\nvar outputEl = gd.closest('.output');\nif (outputEl) {{\n    x.observe(outputEl, {childList: true});\n}}\n\n                        })                };                });            </script>        </div>"
     },
     "metadata": {}
    }
   ],
   "source": [
    "tempdf = specialty_query.head(40)\n",
    "trace1 = go.Bar(\n",
    "    x=tempdf.specialty_description,\n",
    "    y=tempdf.total_claim_count_millions,\n",
    "    name='Total Claims'\n",
    ")\n",
    "trace2 = go.Bar(\n",
    "    x=tempdf.specialty_description,\n",
    "    y=tempdf.total_day_supply_millions,\n",
    "    name='Total Day Supply'\n",
    ")\n",
    "trace3 = go.Bar(\n",
    "    x=tempdf.specialty_description,\n",
    "    y=tempdf.total_drug_cost_millions,\n",
    "    name='Total Drug Cost'\n",
    ")\n",
    "\n",
    "data = [trace1, trace2, trace3]\n",
    "layout = go.Layout(\n",
    "    barmode='stack'\n",
    "    , margin=dict(b=200)\n",
    ")\n",
    "\n",
    "fig = go.Figure(data=data, layout=layout)\n",
    "iplot(fig, filename='grouped-bar')\n",
    "\n"
   ]
  },
  {
   "cell_type": "code",
   "execution_count": 13,
   "metadata": {},
   "outputs": [
    {
     "output_type": "execute_result",
     "data": {
      "text/plain": [
       "  state                  drug_name  MaxClaimCount\n",
       "0    OR       LEVOTHYROXINE SODIUM         571237\n",
       "1    MN                 LISINOPRIL         692905\n",
       "2    MT       LEVOTHYROXINE SODIUM         155249\n",
       "3    LA  HYDROCODONE/ACETAMINOPHEN         795932\n",
       "4    VA       LEVOTHYROXINE SODIUM         837399\n",
       "5    OK  HYDROCODONE/ACETAMINOPHEN         638873\n",
       "6    WA                 LISINOPRIL         771435\n",
       "7    UT       LEVOTHYROXINE SODIUM         253237\n",
       "8    TX  HYDROCODONE/ACETAMINOPHEN        2833795\n",
       "9    CA       LEVOTHYROXINE SODIUM        3844722"
      ],
      "text/html": "<div>\n<style scoped>\n    .dataframe tbody tr th:only-of-type {\n        vertical-align: middle;\n    }\n\n    .dataframe tbody tr th {\n        vertical-align: top;\n    }\n\n    .dataframe thead th {\n        text-align: right;\n    }\n</style>\n<table border=\"1\" class=\"dataframe\">\n  <thead>\n    <tr style=\"text-align: right;\">\n      <th></th>\n      <th>state</th>\n      <th>drug_name</th>\n      <th>MaxClaimCount</th>\n    </tr>\n  </thead>\n  <tbody>\n    <tr>\n      <th>0</th>\n      <td>OR</td>\n      <td>LEVOTHYROXINE SODIUM</td>\n      <td>571237</td>\n    </tr>\n    <tr>\n      <th>1</th>\n      <td>MN</td>\n      <td>LISINOPRIL</td>\n      <td>692905</td>\n    </tr>\n    <tr>\n      <th>2</th>\n      <td>MT</td>\n      <td>LEVOTHYROXINE SODIUM</td>\n      <td>155249</td>\n    </tr>\n    <tr>\n      <th>3</th>\n      <td>LA</td>\n      <td>HYDROCODONE/ACETAMINOPHEN</td>\n      <td>795932</td>\n    </tr>\n    <tr>\n      <th>4</th>\n      <td>VA</td>\n      <td>LEVOTHYROXINE SODIUM</td>\n      <td>837399</td>\n    </tr>\n    <tr>\n      <th>5</th>\n      <td>OK</td>\n      <td>HYDROCODONE/ACETAMINOPHEN</td>\n      <td>638873</td>\n    </tr>\n    <tr>\n      <th>6</th>\n      <td>WA</td>\n      <td>LISINOPRIL</td>\n      <td>771435</td>\n    </tr>\n    <tr>\n      <th>7</th>\n      <td>UT</td>\n      <td>LEVOTHYROXINE SODIUM</td>\n      <td>253237</td>\n    </tr>\n    <tr>\n      <th>8</th>\n      <td>TX</td>\n      <td>HYDROCODONE/ACETAMINOPHEN</td>\n      <td>2833795</td>\n    </tr>\n    <tr>\n      <th>9</th>\n      <td>CA</td>\n      <td>LEVOTHYROXINE SODIUM</td>\n      <td>3844722</td>\n    </tr>\n  </tbody>\n</table>\n</div>"
     },
     "metadata": {},
     "execution_count": 13
    }
   ],
   "source": [
    "query1 = \"\"\"SELECT \n",
    "A.state, B.drug_name, A.MaxClaimCount from (select state, MAX(total_claim_count_millions) as MaxClaimCount \n",
    "from (\n",
    "SELECT\n",
    "  nppes_provider_state AS state,\n",
    "  generic_name AS drug_name,\n",
    "  SUM(total_claim_count) AS total_claim_count_millions\n",
    "FROM\n",
    "  `bigquery-public-data.cms_medicare.part_d_prescriber_2014`\n",
    "GROUP BY\n",
    "  state, drug_name\n",
    "ORDER BY\n",
    "  total_claim_count_millions DESC) group by state) A INNER JOIN (SELECT\n",
    "  nppes_provider_state AS state,\n",
    "  generic_name AS drug_name,\n",
    "  SUM(total_claim_count) AS total_claim_count_millions\n",
    "FROM\n",
    "  `bigquery-public-data.cms_medicare.part_d_prescriber_2014`\n",
    "GROUP BY\n",
    "  state, drug_name\n",
    "ORDER BY\n",
    "  total_claim_count_millions DESC) B ON A.MaxClaimCount = B.total_claim_count_millions;\n",
    "\"\"\"\n",
    "state_most_drug = medicare.query_to_pandas_safe(query1)\n",
    "state_most_drug.head(10)"
   ]
  },
  {
   "cell_type": "code",
   "execution_count": 14,
   "metadata": {},
   "outputs": [
    {
     "output_type": "execute_result",
     "data": {
      "text/plain": [
       "   state                  drug_name  MaxClaimCount\n",
       "0     OR       LEVOTHYROXINE SODIUM         571237\n",
       "1     MN                 LISINOPRIL         692905\n",
       "2     MT       LEVOTHYROXINE SODIUM         155249\n",
       "3     LA  HYDROCODONE/ACETAMINOPHEN         795932\n",
       "4     VA       LEVOTHYROXINE SODIUM         837399\n",
       "5     OK  HYDROCODONE/ACETAMINOPHEN         638873\n",
       "6     WA                 LISINOPRIL         771435\n",
       "7     UT       LEVOTHYROXINE SODIUM         253237\n",
       "8     TX  HYDROCODONE/ACETAMINOPHEN        2833795\n",
       "9     CA       LEVOTHYROXINE SODIUM        3844722\n",
       "10    NY        AMLODIPINE BESYLATE        2609790\n",
       "11    PA       LEVOTHYROXINE SODIUM        2353753\n",
       "12    AL  HYDROCODONE/ACETAMINOPHEN        1214392\n",
       "13    IA       LEVOTHYROXINE SODIUM         573383\n",
       "14    MI  HYDROCODONE/ACETAMINOPHEN        1792522\n",
       "15    NE       LEVOTHYROXINE SODIUM         336322\n",
       "16    IN  HYDROCODONE/ACETAMINOPHEN        1037564\n",
       "17    CT       ATORVASTATIN CALCIUM         462215\n",
       "18    OH       LEVOTHYROXINE SODIUM        1813810\n",
       "19    MA                 LISINOPRIL        1126759\n",
       "20    MD                 LISINOPRIL         463341\n",
       "21    NH       LEVOTHYROXINE SODIUM         150455\n",
       "22    NC       LEVOTHYROXINE SODIUM        1513777\n",
       "23    NJ       LEVOTHYROXINE SODIUM         959251\n",
       "24    FL       LEVOTHYROXINE SODIUM        2982449\n",
       "25    IL       LEVOTHYROXINE SODIUM        1457499\n",
       "26    SC  HYDROCODONE/ACETAMINOPHEN         705275\n",
       "27    TN  HYDROCODONE/ACETAMINOPHEN        1377467\n",
       "28    SD       LEVOTHYROXINE SODIUM         157701\n",
       "29    VT                 LISINOPRIL          74747\n",
       "30    AZ       LEVOTHYROXINE SODIUM         866240\n",
       "31    KY  HYDROCODONE/ACETAMINOPHEN         983844\n",
       "32    DE       LEVOTHYROXINE SODIUM         100751\n",
       "33    AR  HYDROCODONE/ACETAMINOPHEN         587738\n",
       "34    NM       LEVOTHYROXINE SODIUM         290021\n",
       "35    NV  HYDROCODONE/ACETAMINOPHEN         294635\n",
       "36    PR       LEVOTHYROXINE SODIUM        1138257\n",
       "37    KS       LEVOTHYROXINE SODIUM         503645\n",
       "38    GA        AMLODIPINE BESYLATE        1282226\n",
       "39    CO       LEVOTHYROXINE SODIUM         644433\n",
       "40    RI                 LISINOPRIL         212772"
      ],
      "text/html": "<div>\n<style scoped>\n    .dataframe tbody tr th:only-of-type {\n        vertical-align: middle;\n    }\n\n    .dataframe tbody tr th {\n        vertical-align: top;\n    }\n\n    .dataframe thead th {\n        text-align: right;\n    }\n</style>\n<table border=\"1\" class=\"dataframe\">\n  <thead>\n    <tr style=\"text-align: right;\">\n      <th></th>\n      <th>state</th>\n      <th>drug_name</th>\n      <th>MaxClaimCount</th>\n    </tr>\n  </thead>\n  <tbody>\n    <tr>\n      <th>0</th>\n      <td>OR</td>\n      <td>LEVOTHYROXINE SODIUM</td>\n      <td>571237</td>\n    </tr>\n    <tr>\n      <th>1</th>\n      <td>MN</td>\n      <td>LISINOPRIL</td>\n      <td>692905</td>\n    </tr>\n    <tr>\n      <th>2</th>\n      <td>MT</td>\n      <td>LEVOTHYROXINE SODIUM</td>\n      <td>155249</td>\n    </tr>\n    <tr>\n      <th>3</th>\n      <td>LA</td>\n      <td>HYDROCODONE/ACETAMINOPHEN</td>\n      <td>795932</td>\n    </tr>\n    <tr>\n      <th>4</th>\n      <td>VA</td>\n      <td>LEVOTHYROXINE SODIUM</td>\n      <td>837399</td>\n    </tr>\n    <tr>\n      <th>5</th>\n      <td>OK</td>\n      <td>HYDROCODONE/ACETAMINOPHEN</td>\n      <td>638873</td>\n    </tr>\n    <tr>\n      <th>6</th>\n      <td>WA</td>\n      <td>LISINOPRIL</td>\n      <td>771435</td>\n    </tr>\n    <tr>\n      <th>7</th>\n      <td>UT</td>\n      <td>LEVOTHYROXINE SODIUM</td>\n      <td>253237</td>\n    </tr>\n    <tr>\n      <th>8</th>\n      <td>TX</td>\n      <td>HYDROCODONE/ACETAMINOPHEN</td>\n      <td>2833795</td>\n    </tr>\n    <tr>\n      <th>9</th>\n      <td>CA</td>\n      <td>LEVOTHYROXINE SODIUM</td>\n      <td>3844722</td>\n    </tr>\n    <tr>\n      <th>10</th>\n      <td>NY</td>\n      <td>AMLODIPINE BESYLATE</td>\n      <td>2609790</td>\n    </tr>\n    <tr>\n      <th>11</th>\n      <td>PA</td>\n      <td>LEVOTHYROXINE SODIUM</td>\n      <td>2353753</td>\n    </tr>\n    <tr>\n      <th>12</th>\n      <td>AL</td>\n      <td>HYDROCODONE/ACETAMINOPHEN</td>\n      <td>1214392</td>\n    </tr>\n    <tr>\n      <th>13</th>\n      <td>IA</td>\n      <td>LEVOTHYROXINE SODIUM</td>\n      <td>573383</td>\n    </tr>\n    <tr>\n      <th>14</th>\n      <td>MI</td>\n      <td>HYDROCODONE/ACETAMINOPHEN</td>\n      <td>1792522</td>\n    </tr>\n    <tr>\n      <th>15</th>\n      <td>NE</td>\n      <td>LEVOTHYROXINE SODIUM</td>\n      <td>336322</td>\n    </tr>\n    <tr>\n      <th>16</th>\n      <td>IN</td>\n      <td>HYDROCODONE/ACETAMINOPHEN</td>\n      <td>1037564</td>\n    </tr>\n    <tr>\n      <th>17</th>\n      <td>CT</td>\n      <td>ATORVASTATIN CALCIUM</td>\n      <td>462215</td>\n    </tr>\n    <tr>\n      <th>18</th>\n      <td>OH</td>\n      <td>LEVOTHYROXINE SODIUM</td>\n      <td>1813810</td>\n    </tr>\n    <tr>\n      <th>19</th>\n      <td>MA</td>\n      <td>LISINOPRIL</td>\n      <td>1126759</td>\n    </tr>\n    <tr>\n      <th>20</th>\n      <td>MD</td>\n      <td>LISINOPRIL</td>\n      <td>463341</td>\n    </tr>\n    <tr>\n      <th>21</th>\n      <td>NH</td>\n      <td>LEVOTHYROXINE SODIUM</td>\n      <td>150455</td>\n    </tr>\n    <tr>\n      <th>22</th>\n      <td>NC</td>\n      <td>LEVOTHYROXINE SODIUM</td>\n      <td>1513777</td>\n    </tr>\n    <tr>\n      <th>23</th>\n      <td>NJ</td>\n      <td>LEVOTHYROXINE SODIUM</td>\n      <td>959251</td>\n    </tr>\n    <tr>\n      <th>24</th>\n      <td>FL</td>\n      <td>LEVOTHYROXINE SODIUM</td>\n      <td>2982449</td>\n    </tr>\n    <tr>\n      <th>25</th>\n      <td>IL</td>\n      <td>LEVOTHYROXINE SODIUM</td>\n      <td>1457499</td>\n    </tr>\n    <tr>\n      <th>26</th>\n      <td>SC</td>\n      <td>HYDROCODONE/ACETAMINOPHEN</td>\n      <td>705275</td>\n    </tr>\n    <tr>\n      <th>27</th>\n      <td>TN</td>\n      <td>HYDROCODONE/ACETAMINOPHEN</td>\n      <td>1377467</td>\n    </tr>\n    <tr>\n      <th>28</th>\n      <td>SD</td>\n      <td>LEVOTHYROXINE SODIUM</td>\n      <td>157701</td>\n    </tr>\n    <tr>\n      <th>29</th>\n      <td>VT</td>\n      <td>LISINOPRIL</td>\n      <td>74747</td>\n    </tr>\n    <tr>\n      <th>30</th>\n      <td>AZ</td>\n      <td>LEVOTHYROXINE SODIUM</td>\n      <td>866240</td>\n    </tr>\n    <tr>\n      <th>31</th>\n      <td>KY</td>\n      <td>HYDROCODONE/ACETAMINOPHEN</td>\n      <td>983844</td>\n    </tr>\n    <tr>\n      <th>32</th>\n      <td>DE</td>\n      <td>LEVOTHYROXINE SODIUM</td>\n      <td>100751</td>\n    </tr>\n    <tr>\n      <th>33</th>\n      <td>AR</td>\n      <td>HYDROCODONE/ACETAMINOPHEN</td>\n      <td>587738</td>\n    </tr>\n    <tr>\n      <th>34</th>\n      <td>NM</td>\n      <td>LEVOTHYROXINE SODIUM</td>\n      <td>290021</td>\n    </tr>\n    <tr>\n      <th>35</th>\n      <td>NV</td>\n      <td>HYDROCODONE/ACETAMINOPHEN</td>\n      <td>294635</td>\n    </tr>\n    <tr>\n      <th>36</th>\n      <td>PR</td>\n      <td>LEVOTHYROXINE SODIUM</td>\n      <td>1138257</td>\n    </tr>\n    <tr>\n      <th>37</th>\n      <td>KS</td>\n      <td>LEVOTHYROXINE SODIUM</td>\n      <td>503645</td>\n    </tr>\n    <tr>\n      <th>38</th>\n      <td>GA</td>\n      <td>AMLODIPINE BESYLATE</td>\n      <td>1282226</td>\n    </tr>\n    <tr>\n      <th>39</th>\n      <td>CO</td>\n      <td>LEVOTHYROXINE SODIUM</td>\n      <td>644433</td>\n    </tr>\n    <tr>\n      <th>40</th>\n      <td>RI</td>\n      <td>LISINOPRIL</td>\n      <td>212772</td>\n    </tr>\n  </tbody>\n</table>\n</div>"
     },
     "metadata": {},
     "execution_count": 14
    }
   ],
   "source": [
    "visited = {}\n",
    "rows = []\n",
    "for index, row in state_most_drug.iterrows():\n",
    "    stat = row['state']\n",
    "    if stat not in visited:\n",
    "        visited[stat] = 1\n",
    "        rows.append(row)\n",
    "newDF = pd.DataFrame(rows).reset_index()\n",
    "newDF[['state', 'drug_name', 'MaxClaimCount']].head(41)"
   ]
  },
  {
   "cell_type": "code",
   "execution_count": 15,
   "metadata": {},
   "outputs": [
    {
     "output_type": "display_data",
     "data": {
      "application/vnd.plotly.v1+json": {
       "config": {
        "linkText": "Export to plot.ly",
        "plotlyServerURL": "https://plot.ly",
        "showLink": false
       },
       "data": [
        {
         "hoverinfo": "label+percent",
         "labels": [
          "LEVOTHYROXINE SODIUM",
          "HYDROCODONE/ACETAMINOPHEN",
          "LISINOPRIL",
          "AMLODIPINE BESYLATE",
          "ATORVASTATIN CALCIUM",
          "METAXALONE",
          "OMALIZUMAB",
          "HEPATITIS A VIRUS VACCINE/PF",
          "AZELAIC ACID",
          "MYCOPHENOLATE MOFETIL",
          "INSULIN NPL/INSULIN LISPRO"
         ],
         "marker": {
          "colors": [
           "lightblue",
           "gray",
           "#eee",
           "#999",
           "#9f9f"
          ]
         },
         "name": "Top Drugs Used",
         "textinfo": "value",
         "type": "pie",
         "values": [
          25,
          14,
          9,
          5,
          2,
          1,
          1,
          1,
          1,
          1,
          1
         ]
        }
       ],
       "layout": {
        "template": {
         "data": {
          "bar": [
           {
            "error_x": {
             "color": "#2a3f5f"
            },
            "error_y": {
             "color": "#2a3f5f"
            },
            "marker": {
             "line": {
              "color": "#E5ECF6",
              "width": 0.5
             }
            },
            "type": "bar"
           }
          ],
          "barpolar": [
           {
            "marker": {
             "line": {
              "color": "#E5ECF6",
              "width": 0.5
             }
            },
            "type": "barpolar"
           }
          ],
          "carpet": [
           {
            "aaxis": {
             "endlinecolor": "#2a3f5f",
             "gridcolor": "white",
             "linecolor": "white",
             "minorgridcolor": "white",
             "startlinecolor": "#2a3f5f"
            },
            "baxis": {
             "endlinecolor": "#2a3f5f",
             "gridcolor": "white",
             "linecolor": "white",
             "minorgridcolor": "white",
             "startlinecolor": "#2a3f5f"
            },
            "type": "carpet"
           }
          ],
          "choropleth": [
           {
            "colorbar": {
             "outlinewidth": 0,
             "ticks": ""
            },
            "type": "choropleth"
           }
          ],
          "contour": [
           {
            "colorbar": {
             "outlinewidth": 0,
             "ticks": ""
            },
            "colorscale": [
             [
              0,
              "#0d0887"
             ],
             [
              0.1111111111111111,
              "#46039f"
             ],
             [
              0.2222222222222222,
              "#7201a8"
             ],
             [
              0.3333333333333333,
              "#9c179e"
             ],
             [
              0.4444444444444444,
              "#bd3786"
             ],
             [
              0.5555555555555556,
              "#d8576b"
             ],
             [
              0.6666666666666666,
              "#ed7953"
             ],
             [
              0.7777777777777778,
              "#fb9f3a"
             ],
             [
              0.8888888888888888,
              "#fdca26"
             ],
             [
              1,
              "#f0f921"
             ]
            ],
            "type": "contour"
           }
          ],
          "contourcarpet": [
           {
            "colorbar": {
             "outlinewidth": 0,
             "ticks": ""
            },
            "type": "contourcarpet"
           }
          ],
          "heatmap": [
           {
            "colorbar": {
             "outlinewidth": 0,
             "ticks": ""
            },
            "colorscale": [
             [
              0,
              "#0d0887"
             ],
             [
              0.1111111111111111,
              "#46039f"
             ],
             [
              0.2222222222222222,
              "#7201a8"
             ],
             [
              0.3333333333333333,
              "#9c179e"
             ],
             [
              0.4444444444444444,
              "#bd3786"
             ],
             [
              0.5555555555555556,
              "#d8576b"
             ],
             [
              0.6666666666666666,
              "#ed7953"
             ],
             [
              0.7777777777777778,
              "#fb9f3a"
             ],
             [
              0.8888888888888888,
              "#fdca26"
             ],
             [
              1,
              "#f0f921"
             ]
            ],
            "type": "heatmap"
           }
          ],
          "heatmapgl": [
           {
            "colorbar": {
             "outlinewidth": 0,
             "ticks": ""
            },
            "colorscale": [
             [
              0,
              "#0d0887"
             ],
             [
              0.1111111111111111,
              "#46039f"
             ],
             [
              0.2222222222222222,
              "#7201a8"
             ],
             [
              0.3333333333333333,
              "#9c179e"
             ],
             [
              0.4444444444444444,
              "#bd3786"
             ],
             [
              0.5555555555555556,
              "#d8576b"
             ],
             [
              0.6666666666666666,
              "#ed7953"
             ],
             [
              0.7777777777777778,
              "#fb9f3a"
             ],
             [
              0.8888888888888888,
              "#fdca26"
             ],
             [
              1,
              "#f0f921"
             ]
            ],
            "type": "heatmapgl"
           }
          ],
          "histogram": [
           {
            "marker": {
             "colorbar": {
              "outlinewidth": 0,
              "ticks": ""
             }
            },
            "type": "histogram"
           }
          ],
          "histogram2d": [
           {
            "colorbar": {
             "outlinewidth": 0,
             "ticks": ""
            },
            "colorscale": [
             [
              0,
              "#0d0887"
             ],
             [
              0.1111111111111111,
              "#46039f"
             ],
             [
              0.2222222222222222,
              "#7201a8"
             ],
             [
              0.3333333333333333,
              "#9c179e"
             ],
             [
              0.4444444444444444,
              "#bd3786"
             ],
             [
              0.5555555555555556,
              "#d8576b"
             ],
             [
              0.6666666666666666,
              "#ed7953"
             ],
             [
              0.7777777777777778,
              "#fb9f3a"
             ],
             [
              0.8888888888888888,
              "#fdca26"
             ],
             [
              1,
              "#f0f921"
             ]
            ],
            "type": "histogram2d"
           }
          ],
          "histogram2dcontour": [
           {
            "colorbar": {
             "outlinewidth": 0,
             "ticks": ""
            },
            "colorscale": [
             [
              0,
              "#0d0887"
             ],
             [
              0.1111111111111111,
              "#46039f"
             ],
             [
              0.2222222222222222,
              "#7201a8"
             ],
             [
              0.3333333333333333,
              "#9c179e"
             ],
             [
              0.4444444444444444,
              "#bd3786"
             ],
             [
              0.5555555555555556,
              "#d8576b"
             ],
             [
              0.6666666666666666,
              "#ed7953"
             ],
             [
              0.7777777777777778,
              "#fb9f3a"
             ],
             [
              0.8888888888888888,
              "#fdca26"
             ],
             [
              1,
              "#f0f921"
             ]
            ],
            "type": "histogram2dcontour"
           }
          ],
          "mesh3d": [
           {
            "colorbar": {
             "outlinewidth": 0,
             "ticks": ""
            },
            "type": "mesh3d"
           }
          ],
          "parcoords": [
           {
            "line": {
             "colorbar": {
              "outlinewidth": 0,
              "ticks": ""
             }
            },
            "type": "parcoords"
           }
          ],
          "pie": [
           {
            "automargin": true,
            "type": "pie"
           }
          ],
          "scatter": [
           {
            "marker": {
             "colorbar": {
              "outlinewidth": 0,
              "ticks": ""
             }
            },
            "type": "scatter"
           }
          ],
          "scatter3d": [
           {
            "line": {
             "colorbar": {
              "outlinewidth": 0,
              "ticks": ""
             }
            },
            "marker": {
             "colorbar": {
              "outlinewidth": 0,
              "ticks": ""
             }
            },
            "type": "scatter3d"
           }
          ],
          "scattercarpet": [
           {
            "marker": {
             "colorbar": {
              "outlinewidth": 0,
              "ticks": ""
             }
            },
            "type": "scattercarpet"
           }
          ],
          "scattergeo": [
           {
            "marker": {
             "colorbar": {
              "outlinewidth": 0,
              "ticks": ""
             }
            },
            "type": "scattergeo"
           }
          ],
          "scattergl": [
           {
            "marker": {
             "colorbar": {
              "outlinewidth": 0,
              "ticks": ""
             }
            },
            "type": "scattergl"
           }
          ],
          "scattermapbox": [
           {
            "marker": {
             "colorbar": {
              "outlinewidth": 0,
              "ticks": ""
             }
            },
            "type": "scattermapbox"
           }
          ],
          "scatterpolar": [
           {
            "marker": {
             "colorbar": {
              "outlinewidth": 0,
              "ticks": ""
             }
            },
            "type": "scatterpolar"
           }
          ],
          "scatterpolargl": [
           {
            "marker": {
             "colorbar": {
              "outlinewidth": 0,
              "ticks": ""
             }
            },
            "type": "scatterpolargl"
           }
          ],
          "scatterternary": [
           {
            "marker": {
             "colorbar": {
              "outlinewidth": 0,
              "ticks": ""
             }
            },
            "type": "scatterternary"
           }
          ],
          "surface": [
           {
            "colorbar": {
             "outlinewidth": 0,
             "ticks": ""
            },
            "colorscale": [
             [
              0,
              "#0d0887"
             ],
             [
              0.1111111111111111,
              "#46039f"
             ],
             [
              0.2222222222222222,
              "#7201a8"
             ],
             [
              0.3333333333333333,
              "#9c179e"
             ],
             [
              0.4444444444444444,
              "#bd3786"
             ],
             [
              0.5555555555555556,
              "#d8576b"
             ],
             [
              0.6666666666666666,
              "#ed7953"
             ],
             [
              0.7777777777777778,
              "#fb9f3a"
             ],
             [
              0.8888888888888888,
              "#fdca26"
             ],
             [
              1,
              "#f0f921"
             ]
            ],
            "type": "surface"
           }
          ],
          "table": [
           {
            "cells": {
             "fill": {
              "color": "#EBF0F8"
             },
             "line": {
              "color": "white"
             }
            },
            "header": {
             "fill": {
              "color": "#C8D4E3"
             },
             "line": {
              "color": "white"
             }
            },
            "type": "table"
           }
          ]
         },
         "layout": {
          "annotationdefaults": {
           "arrowcolor": "#2a3f5f",
           "arrowhead": 0,
           "arrowwidth": 1
          },
          "autotypenumbers": "strict",
          "coloraxis": {
           "colorbar": {
            "outlinewidth": 0,
            "ticks": ""
           }
          },
          "colorscale": {
           "diverging": [
            [
             0,
             "#8e0152"
            ],
            [
             0.1,
             "#c51b7d"
            ],
            [
             0.2,
             "#de77ae"
            ],
            [
             0.3,
             "#f1b6da"
            ],
            [
             0.4,
             "#fde0ef"
            ],
            [
             0.5,
             "#f7f7f7"
            ],
            [
             0.6,
             "#e6f5d0"
            ],
            [
             0.7,
             "#b8e186"
            ],
            [
             0.8,
             "#7fbc41"
            ],
            [
             0.9,
             "#4d9221"
            ],
            [
             1,
             "#276419"
            ]
           ],
           "sequential": [
            [
             0,
             "#0d0887"
            ],
            [
             0.1111111111111111,
             "#46039f"
            ],
            [
             0.2222222222222222,
             "#7201a8"
            ],
            [
             0.3333333333333333,
             "#9c179e"
            ],
            [
             0.4444444444444444,
             "#bd3786"
            ],
            [
             0.5555555555555556,
             "#d8576b"
            ],
            [
             0.6666666666666666,
             "#ed7953"
            ],
            [
             0.7777777777777778,
             "#fb9f3a"
            ],
            [
             0.8888888888888888,
             "#fdca26"
            ],
            [
             1,
             "#f0f921"
            ]
           ],
           "sequentialminus": [
            [
             0,
             "#0d0887"
            ],
            [
             0.1111111111111111,
             "#46039f"
            ],
            [
             0.2222222222222222,
             "#7201a8"
            ],
            [
             0.3333333333333333,
             "#9c179e"
            ],
            [
             0.4444444444444444,
             "#bd3786"
            ],
            [
             0.5555555555555556,
             "#d8576b"
            ],
            [
             0.6666666666666666,
             "#ed7953"
            ],
            [
             0.7777777777777778,
             "#fb9f3a"
            ],
            [
             0.8888888888888888,
             "#fdca26"
            ],
            [
             1,
             "#f0f921"
            ]
           ]
          },
          "colorway": [
           "#636efa",
           "#EF553B",
           "#00cc96",
           "#ab63fa",
           "#FFA15A",
           "#19d3f3",
           "#FF6692",
           "#B6E880",
           "#FF97FF",
           "#FECB52"
          ],
          "font": {
           "color": "#2a3f5f"
          },
          "geo": {
           "bgcolor": "white",
           "lakecolor": "white",
           "landcolor": "#E5ECF6",
           "showlakes": true,
           "showland": true,
           "subunitcolor": "white"
          },
          "hoverlabel": {
           "align": "left"
          },
          "hovermode": "closest",
          "mapbox": {
           "style": "light"
          },
          "paper_bgcolor": "white",
          "plot_bgcolor": "#E5ECF6",
          "polar": {
           "angularaxis": {
            "gridcolor": "white",
            "linecolor": "white",
            "ticks": ""
           },
           "bgcolor": "#E5ECF6",
           "radialaxis": {
            "gridcolor": "white",
            "linecolor": "white",
            "ticks": ""
           }
          },
          "scene": {
           "xaxis": {
            "backgroundcolor": "#E5ECF6",
            "gridcolor": "white",
            "gridwidth": 2,
            "linecolor": "white",
            "showbackground": true,
            "ticks": "",
            "zerolinecolor": "white"
           },
           "yaxis": {
            "backgroundcolor": "#E5ECF6",
            "gridcolor": "white",
            "gridwidth": 2,
            "linecolor": "white",
            "showbackground": true,
            "ticks": "",
            "zerolinecolor": "white"
           },
           "zaxis": {
            "backgroundcolor": "#E5ECF6",
            "gridcolor": "white",
            "gridwidth": 2,
            "linecolor": "white",
            "showbackground": true,
            "ticks": "",
            "zerolinecolor": "white"
           }
          },
          "shapedefaults": {
           "line": {
            "color": "#2a3f5f"
           }
          },
          "ternary": {
           "aaxis": {
            "gridcolor": "white",
            "linecolor": "white",
            "ticks": ""
           },
           "baxis": {
            "gridcolor": "white",
            "linecolor": "white",
            "ticks": ""
           },
           "bgcolor": "#E5ECF6",
           "caxis": {
            "gridcolor": "white",
            "linecolor": "white",
            "ticks": ""
           }
          },
          "title": {
           "x": 0.05
          },
          "xaxis": {
           "automargin": true,
           "gridcolor": "white",
           "linecolor": "white",
           "ticks": "",
           "title": {
            "standoff": 15
           },
           "zerolinecolor": "white",
           "zerolinewidth": 2
          },
          "yaxis": {
           "automargin": true,
           "gridcolor": "white",
           "linecolor": "white",
           "ticks": "",
           "title": {
            "standoff": 15
           },
           "zerolinecolor": "white",
           "zerolinewidth": 2
          }
         }
        },
        "title": {
         "text": "Top Drugs in Each State"
        },
        "width": 800,
        "xaxis": {
         "ticklen": 5,
         "title": {
          "text": "Drug Name"
         },
         "zeroline": false
        }
       }
      },
      "text/html": "<div>                            <div id=\"2adad4d4-994e-450b-8311-908c168d894d\" class=\"plotly-graph-div\" style=\"height:525px; width:800px;\"></div>            <script type=\"text/javascript\">                require([\"plotly\"], function(Plotly) {                    window.PLOTLYENV=window.PLOTLYENV || {};                                    if (document.getElementById(\"2adad4d4-994e-450b-8311-908c168d894d\")) {                    Plotly.newPlot(                        \"2adad4d4-994e-450b-8311-908c168d894d\",                        [{\"hoverinfo\": \"label+percent\", \"labels\": [\"LEVOTHYROXINE SODIUM\", \"HYDROCODONE/ACETAMINOPHEN\", \"LISINOPRIL\", \"AMLODIPINE BESYLATE\", \"ATORVASTATIN CALCIUM\", \"METAXALONE\", \"OMALIZUMAB\", \"HEPATITIS A VIRUS VACCINE/PF\", \"AZELAIC ACID\", \"MYCOPHENOLATE MOFETIL\", \"INSULIN NPL/INSULIN LISPRO\"], \"marker\": {\"colors\": [\"lightblue\", \"gray\", \"#eee\", \"#999\", \"#9f9f\"]}, \"name\": \"Top Drugs Used\", \"textinfo\": \"value\", \"type\": \"pie\", \"values\": [25, 14, 9, 5, 2, 1, 1, 1, 1, 1, 1]}],                        {\"template\": {\"data\": {\"bar\": [{\"error_x\": {\"color\": \"#2a3f5f\"}, \"error_y\": {\"color\": \"#2a3f5f\"}, \"marker\": {\"line\": {\"color\": \"#E5ECF6\", \"width\": 0.5}}, \"type\": \"bar\"}], \"barpolar\": [{\"marker\": {\"line\": {\"color\": \"#E5ECF6\", \"width\": 0.5}}, \"type\": \"barpolar\"}], \"carpet\": [{\"aaxis\": {\"endlinecolor\": \"#2a3f5f\", \"gridcolor\": \"white\", \"linecolor\": \"white\", \"minorgridcolor\": \"white\", \"startlinecolor\": \"#2a3f5f\"}, \"baxis\": {\"endlinecolor\": \"#2a3f5f\", \"gridcolor\": \"white\", \"linecolor\": \"white\", \"minorgridcolor\": \"white\", \"startlinecolor\": \"#2a3f5f\"}, \"type\": \"carpet\"}], \"choropleth\": [{\"colorbar\": {\"outlinewidth\": 0, \"ticks\": \"\"}, \"type\": \"choropleth\"}], \"contour\": [{\"colorbar\": {\"outlinewidth\": 0, \"ticks\": \"\"}, \"colorscale\": [[0.0, \"#0d0887\"], [0.1111111111111111, \"#46039f\"], [0.2222222222222222, \"#7201a8\"], [0.3333333333333333, \"#9c179e\"], [0.4444444444444444, \"#bd3786\"], [0.5555555555555556, \"#d8576b\"], [0.6666666666666666, \"#ed7953\"], [0.7777777777777778, \"#fb9f3a\"], [0.8888888888888888, \"#fdca26\"], [1.0, \"#f0f921\"]], \"type\": \"contour\"}], \"contourcarpet\": [{\"colorbar\": {\"outlinewidth\": 0, \"ticks\": \"\"}, \"type\": \"contourcarpet\"}], \"heatmap\": [{\"colorbar\": {\"outlinewidth\": 0, \"ticks\": \"\"}, \"colorscale\": [[0.0, \"#0d0887\"], [0.1111111111111111, \"#46039f\"], [0.2222222222222222, \"#7201a8\"], [0.3333333333333333, \"#9c179e\"], [0.4444444444444444, \"#bd3786\"], [0.5555555555555556, \"#d8576b\"], [0.6666666666666666, \"#ed7953\"], [0.7777777777777778, \"#fb9f3a\"], [0.8888888888888888, \"#fdca26\"], [1.0, \"#f0f921\"]], \"type\": \"heatmap\"}], \"heatmapgl\": [{\"colorbar\": {\"outlinewidth\": 0, \"ticks\": \"\"}, \"colorscale\": [[0.0, \"#0d0887\"], [0.1111111111111111, \"#46039f\"], [0.2222222222222222, \"#7201a8\"], [0.3333333333333333, \"#9c179e\"], [0.4444444444444444, \"#bd3786\"], [0.5555555555555556, \"#d8576b\"], [0.6666666666666666, \"#ed7953\"], [0.7777777777777778, \"#fb9f3a\"], [0.8888888888888888, \"#fdca26\"], [1.0, \"#f0f921\"]], \"type\": \"heatmapgl\"}], \"histogram\": [{\"marker\": {\"colorbar\": {\"outlinewidth\": 0, \"ticks\": \"\"}}, \"type\": \"histogram\"}], \"histogram2d\": [{\"colorbar\": {\"outlinewidth\": 0, \"ticks\": \"\"}, \"colorscale\": [[0.0, \"#0d0887\"], [0.1111111111111111, \"#46039f\"], [0.2222222222222222, \"#7201a8\"], [0.3333333333333333, \"#9c179e\"], [0.4444444444444444, \"#bd3786\"], [0.5555555555555556, \"#d8576b\"], [0.6666666666666666, \"#ed7953\"], [0.7777777777777778, \"#fb9f3a\"], [0.8888888888888888, \"#fdca26\"], [1.0, \"#f0f921\"]], \"type\": \"histogram2d\"}], \"histogram2dcontour\": [{\"colorbar\": {\"outlinewidth\": 0, \"ticks\": \"\"}, \"colorscale\": [[0.0, \"#0d0887\"], [0.1111111111111111, \"#46039f\"], [0.2222222222222222, \"#7201a8\"], [0.3333333333333333, \"#9c179e\"], [0.4444444444444444, \"#bd3786\"], [0.5555555555555556, \"#d8576b\"], [0.6666666666666666, \"#ed7953\"], [0.7777777777777778, \"#fb9f3a\"], [0.8888888888888888, \"#fdca26\"], [1.0, \"#f0f921\"]], \"type\": \"histogram2dcontour\"}], \"mesh3d\": [{\"colorbar\": {\"outlinewidth\": 0, \"ticks\": \"\"}, \"type\": \"mesh3d\"}], \"parcoords\": [{\"line\": {\"colorbar\": {\"outlinewidth\": 0, \"ticks\": \"\"}}, \"type\": \"parcoords\"}], \"pie\": [{\"automargin\": true, \"type\": \"pie\"}], \"scatter\": [{\"marker\": {\"colorbar\": {\"outlinewidth\": 0, \"ticks\": \"\"}}, \"type\": \"scatter\"}], \"scatter3d\": [{\"line\": {\"colorbar\": {\"outlinewidth\": 0, \"ticks\": \"\"}}, \"marker\": {\"colorbar\": {\"outlinewidth\": 0, \"ticks\": \"\"}}, \"type\": \"scatter3d\"}], \"scattercarpet\": [{\"marker\": {\"colorbar\": {\"outlinewidth\": 0, \"ticks\": \"\"}}, \"type\": \"scattercarpet\"}], \"scattergeo\": [{\"marker\": {\"colorbar\": {\"outlinewidth\": 0, \"ticks\": \"\"}}, \"type\": \"scattergeo\"}], \"scattergl\": [{\"marker\": {\"colorbar\": {\"outlinewidth\": 0, \"ticks\": \"\"}}, \"type\": \"scattergl\"}], \"scattermapbox\": [{\"marker\": {\"colorbar\": {\"outlinewidth\": 0, \"ticks\": \"\"}}, \"type\": \"scattermapbox\"}], \"scatterpolar\": [{\"marker\": {\"colorbar\": {\"outlinewidth\": 0, \"ticks\": \"\"}}, \"type\": \"scatterpolar\"}], \"scatterpolargl\": [{\"marker\": {\"colorbar\": {\"outlinewidth\": 0, \"ticks\": \"\"}}, \"type\": \"scatterpolargl\"}], \"scatterternary\": [{\"marker\": {\"colorbar\": {\"outlinewidth\": 0, \"ticks\": \"\"}}, \"type\": \"scatterternary\"}], \"surface\": [{\"colorbar\": {\"outlinewidth\": 0, \"ticks\": \"\"}, \"colorscale\": [[0.0, \"#0d0887\"], [0.1111111111111111, \"#46039f\"], [0.2222222222222222, \"#7201a8\"], [0.3333333333333333, \"#9c179e\"], [0.4444444444444444, \"#bd3786\"], [0.5555555555555556, \"#d8576b\"], [0.6666666666666666, \"#ed7953\"], [0.7777777777777778, \"#fb9f3a\"], [0.8888888888888888, \"#fdca26\"], [1.0, \"#f0f921\"]], \"type\": \"surface\"}], \"table\": [{\"cells\": {\"fill\": {\"color\": \"#EBF0F8\"}, \"line\": {\"color\": \"white\"}}, \"header\": {\"fill\": {\"color\": \"#C8D4E3\"}, \"line\": {\"color\": \"white\"}}, \"type\": \"table\"}]}, \"layout\": {\"annotationdefaults\": {\"arrowcolor\": \"#2a3f5f\", \"arrowhead\": 0, \"arrowwidth\": 1}, \"autotypenumbers\": \"strict\", \"coloraxis\": {\"colorbar\": {\"outlinewidth\": 0, \"ticks\": \"\"}}, \"colorscale\": {\"diverging\": [[0, \"#8e0152\"], [0.1, \"#c51b7d\"], [0.2, \"#de77ae\"], [0.3, \"#f1b6da\"], [0.4, \"#fde0ef\"], [0.5, \"#f7f7f7\"], [0.6, \"#e6f5d0\"], [0.7, \"#b8e186\"], [0.8, \"#7fbc41\"], [0.9, \"#4d9221\"], [1, \"#276419\"]], \"sequential\": [[0.0, \"#0d0887\"], [0.1111111111111111, \"#46039f\"], [0.2222222222222222, \"#7201a8\"], [0.3333333333333333, \"#9c179e\"], [0.4444444444444444, \"#bd3786\"], [0.5555555555555556, \"#d8576b\"], [0.6666666666666666, \"#ed7953\"], [0.7777777777777778, \"#fb9f3a\"], [0.8888888888888888, \"#fdca26\"], [1.0, \"#f0f921\"]], \"sequentialminus\": [[0.0, \"#0d0887\"], [0.1111111111111111, \"#46039f\"], [0.2222222222222222, \"#7201a8\"], [0.3333333333333333, \"#9c179e\"], [0.4444444444444444, \"#bd3786\"], [0.5555555555555556, \"#d8576b\"], [0.6666666666666666, \"#ed7953\"], [0.7777777777777778, \"#fb9f3a\"], [0.8888888888888888, \"#fdca26\"], [1.0, \"#f0f921\"]]}, \"colorway\": [\"#636efa\", \"#EF553B\", \"#00cc96\", \"#ab63fa\", \"#FFA15A\", \"#19d3f3\", \"#FF6692\", \"#B6E880\", \"#FF97FF\", \"#FECB52\"], \"font\": {\"color\": \"#2a3f5f\"}, \"geo\": {\"bgcolor\": \"white\", \"lakecolor\": \"white\", \"landcolor\": \"#E5ECF6\", \"showlakes\": true, \"showland\": true, \"subunitcolor\": \"white\"}, \"hoverlabel\": {\"align\": \"left\"}, \"hovermode\": \"closest\", \"mapbox\": {\"style\": \"light\"}, \"paper_bgcolor\": \"white\", \"plot_bgcolor\": \"#E5ECF6\", \"polar\": {\"angularaxis\": {\"gridcolor\": \"white\", \"linecolor\": \"white\", \"ticks\": \"\"}, \"bgcolor\": \"#E5ECF6\", \"radialaxis\": {\"gridcolor\": \"white\", \"linecolor\": \"white\", \"ticks\": \"\"}}, \"scene\": {\"xaxis\": {\"backgroundcolor\": \"#E5ECF6\", \"gridcolor\": \"white\", \"gridwidth\": 2, \"linecolor\": \"white\", \"showbackground\": true, \"ticks\": \"\", \"zerolinecolor\": \"white\"}, \"yaxis\": {\"backgroundcolor\": \"#E5ECF6\", \"gridcolor\": \"white\", \"gridwidth\": 2, \"linecolor\": \"white\", \"showbackground\": true, \"ticks\": \"\", \"zerolinecolor\": \"white\"}, \"zaxis\": {\"backgroundcolor\": \"#E5ECF6\", \"gridcolor\": \"white\", \"gridwidth\": 2, \"linecolor\": \"white\", \"showbackground\": true, \"ticks\": \"\", \"zerolinecolor\": \"white\"}}, \"shapedefaults\": {\"line\": {\"color\": \"#2a3f5f\"}}, \"ternary\": {\"aaxis\": {\"gridcolor\": \"white\", \"linecolor\": \"white\", \"ticks\": \"\"}, \"baxis\": {\"gridcolor\": \"white\", \"linecolor\": \"white\", \"ticks\": \"\"}, \"bgcolor\": \"#E5ECF6\", \"caxis\": {\"gridcolor\": \"white\", \"linecolor\": \"white\", \"ticks\": \"\"}}, \"title\": {\"x\": 0.05}, \"xaxis\": {\"automargin\": true, \"gridcolor\": \"white\", \"linecolor\": \"white\", \"ticks\": \"\", \"title\": {\"standoff\": 15}, \"zerolinecolor\": \"white\", \"zerolinewidth\": 2}, \"yaxis\": {\"automargin\": true, \"gridcolor\": \"white\", \"linecolor\": \"white\", \"ticks\": \"\", \"title\": {\"standoff\": 15}, \"zerolinecolor\": \"white\", \"zerolinewidth\": 2}}}, \"title\": {\"text\": \"Top Drugs in Each State\"}, \"width\": 800, \"xaxis\": {\"ticklen\": 5, \"title\": {\"text\": \"Drug Name\"}, \"zeroline\": false}},                        {\"responsive\": true}                    ).then(function(){\n                            \nvar gd = document.getElementById('2adad4d4-994e-450b-8311-908c168d894d');\nvar x = new MutationObserver(function (mutations, observer) {{\n        var display = window.getComputedStyle(gd).display;\n        if (!display || display === 'none') {{\n            console.log([gd, 'removed!']);\n            Plotly.purge(gd);\n            observer.disconnect();\n        }}\n}});\n\n// Listen for the removal of the full notebook cells\nvar notebookContainer = gd.closest('#notebook-container');\nif (notebookContainer) {{\n    x.observe(notebookContainer, {childList: true});\n}}\n\n// Listen for the clearing of the current output cell\nvar outputEl = gd.closest('.output');\nif (outputEl) {{\n    x.observe(outputEl, {childList: true});\n}}\n\n                        })                };                });            </script>        </div>"
     },
     "metadata": {}
    }
   ],
   "source": [
    "a = newDF['drug_name'].value_counts()\n",
    "labels = a.index\n",
    "values = a.values\n",
    "colors = ['lightblue','gray','#eee','#999', '#9f9f']\n",
    "trace = go.Pie(labels=labels, values=values, hoverinfo='label+percent', \n",
    "               textinfo='value', name='Top Drugs Used',\n",
    "               marker=dict(colors=colors))\n",
    "layout = dict(title = 'Top Drugs in Each State',\n",
    "              xaxis= dict(title= 'Drug Name', ticklen= 5,zeroline= False),\n",
    "              width=800\n",
    "             )\n",
    "fig = dict(data = [trace], layout = layout)\n",
    "iplot(fig)"
   ]
  },
  {
   "cell_type": "code",
   "execution_count": null,
   "metadata": {},
   "outputs": [],
   "source": []
  },
  {
   "cell_type": "code",
   "execution_count": null,
   "metadata": {},
   "outputs": [],
   "source": []
  }
 ],
 "metadata": {
  "kernelspec": {
   "name": "python386jvsc74a57bd0617bd25a90f4d494eba9f700175ec3bab28d128b52129a0fdad9d74201035280",
   "display_name": "Python 3.8.6 64-bit"
  },
  "language_info": {
   "codemirror_mode": {
    "name": "ipython",
    "version": 3
   },
   "file_extension": ".py",
   "mimetype": "text/x-python",
   "name": "python",
   "nbconvert_exporter": "python",
   "pygments_lexer": "ipython3",
   "version": "3.8.6"
  },
  "metadata": {
   "interpreter": {
    "hash": "617bd25a90f4d494eba9f700175ec3bab28d128b52129a0fdad9d74201035280"
   }
  }
 },
 "nbformat": 4,
 "nbformat_minor": 2
}